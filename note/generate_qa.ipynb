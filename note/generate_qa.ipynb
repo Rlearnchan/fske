{
 "cells": [
  {
   "cell_type": "code",
   "execution_count": null,
   "id": "6aa6ad2a",
   "metadata": {},
   "outputs": [],
   "source": [
    "# 작업 흐름\n",
    "\n",
    "# ../data/law 내의 json 파일을 읽음\n",
    "# ../krx_llm_dataset (FinShibainu의 QA 생성 코드) 활용해서 QA 생성\n",
    "# 특이사항: 기존 코드는 GPT API 사용하나, 여기선 로컬 LLM으로 대체 (../../models/name_of_llm)\n",
    "# ../data/law에 생성된 QA 파일을 저장"
   ]
  },
  {
   "cell_type": "code",
   "execution_count": null,
   "id": "a52c6ec1",
   "metadata": {},
   "outputs": [],
   "source": [
    "# LLM Setting"
   ]
  },
  {
   "cell_type": "code",
   "execution_count": null,
   "id": "1f86d9f4",
   "metadata": {},
   "outputs": [],
   "source": [
    "# law\n",
    "\n"
   ]
  }
 ],
 "metadata": {
  "language_info": {
   "name": "python"
  }
 },
 "nbformat": 4,
 "nbformat_minor": 5
}
