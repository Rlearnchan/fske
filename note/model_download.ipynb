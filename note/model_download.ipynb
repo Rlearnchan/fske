{
 "cells": [
  {
   "cell_type": "code",
   "execution_count": null,
   "id": "88c87cdc",
   "metadata": {},
   "outputs": [],
   "source": [
    "# !pip install -q huggingface_hub jupyterlab-widgets\n",
    "\n",
    "# import os\n",
    "# os.makedirs(\"/workspace/models\", exist_ok=True)"
   ]
  },
  {
   "cell_type": "code",
   "execution_count": null,
   "id": "cfa7ab6e",
   "metadata": {},
   "outputs": [],
   "source": [
    "from huggingface_hub import snapshot_download"
   ]
  },
  {
   "cell_type": "code",
   "execution_count": null,
   "id": "264f7324",
   "metadata": {},
   "outputs": [],
   "source": [
    "snapshot_download(\n",
    "    repo_id=\"beomi/gemma-ko-7b\", # baseline\n",
    "    local_dir=\"/workspace/models/gemma-ko-7b\",\n",
    "    ignore_patterns=[\"*.msgpack\", \"*.h5\"],\n",
    "    resume_download=True\n",
    ")\n"
   ]
  },
  {
   "cell_type": "code",
   "execution_count": null,
   "id": "2eca1eda",
   "metadata": {},
   "outputs": [],
   "source": [
    "# snapshot_download(\n",
    "#     repo_id=\"EleutherAI/polyglot-ko-12.8b\",\n",
    "#     local_dir=\"/workspace/models/polyglot-12.8b\",\n",
    "#     ignore_patterns=[\"*.msgpack\", \"*.h5\"],\n",
    "#     resume_download=True\n",
    "# )\n"
   ]
  },
  {
   "cell_type": "code",
   "execution_count": null,
   "id": "aa96b4c0",
   "metadata": {},
   "outputs": [],
   "source": [
    "# snapshot_download(\n",
    "#     repo_id=\"beomi/KoAlpaca-Polyglot-12.8B\",\n",
    "#     local_dir=\"/workspace/models/koalpaca-polyglot-12.8b\",\n",
    "#     ignore_patterns=[\"*.msgpack\", \"*.h5\"],\n",
    "#     resume_download=True\n",
    "# )\n"
   ]
  },
  {
   "cell_type": "code",
   "execution_count": null,
   "id": "d68051da",
   "metadata": {},
   "outputs": [],
   "source": [
    "snapshot_download(\n",
    "    repo_id=\"skt/A.X-4.0-Light\",\n",
    "    local_dir=\"/workspace/models/ax-4.0-light-7b\",\n",
    "    ignore_patterns=[\"*.msgpack\", \"*.h5\"],\n",
    "    resume_download=True\n",
    ")\n"
   ]
  },
  {
   "cell_type": "code",
   "execution_count": null,
   "id": "b8436320",
   "metadata": {},
   "outputs": [],
   "source": [
    "snapshot_download(\n",
    "    repo_id=\"K-intelligence/MidM-2.0-11.5B\",\n",
    "    local_dir=\"/workspace/models/midm-2.0-11.5b\",\n",
    "    ignore_patterns=[\"*.msgpack\", \"*.h5\"],\n",
    "    resume_download=True\n",
    ")\n"
   ]
  },
  {
   "cell_type": "code",
   "execution_count": null,
   "id": "22a02757",
   "metadata": {},
   "outputs": [],
   "source": [
    "snapshot_download(\n",
    "    repo_id=\"naver-hyperclovax/HyperCLOVAX-SEED-Think-14B\",\n",
    "    local_dir=\"/workspace/models/HyperCLOVAX-SEED-Think-14B\",\n",
    "    ignore_patterns=[\"*.msgpack\", \"*.h5\"],\n",
    "    resume_download=True\n",
    ")"
   ]
  },
  {
   "cell_type": "code",
   "execution_count": null,
   "id": "41f8c7ff",
   "metadata": {},
   "outputs": [],
   "source": [
    "snapshot_download(\n",
    "    repo_id=\"kakaocorp/kanana-1.5-15.7b-a3b-instruct\",\n",
    "    local_dir=\"/workspace/models/kanana-1.5-15.7b-a3b-instruct\",\n",
    "    ignore_patterns=[\"*.msgpack\", \"*.h5\"],\n",
    "    resume_download=True\n",
    ")"
   ]
  },
  {
   "cell_type": "code",
   "execution_count": null,
   "id": "ee1bfaa3",
   "metadata": {},
   "outputs": [],
   "source": [
    "snapshot_download(\n",
    "    repo_id=\"LGAI-EXAONE/EXAONE-4.0-32B\",\n",
    "    local_dir=\"/workspace/models/exaone-4.0-32b\",\n",
    "    ignore_patterns=[\"*.msgpack\", \"*.h5\"],\n",
    "    resume_download=True\n",
    ")\n"
   ]
  }
 ],
 "metadata": {
  "kernelspec": {
   "display_name": "Python 3",
   "language": "python",
   "name": "python3"
  },
  "language_info": {
   "name": "python",
   "version": "3.11.13"
  }
 },
 "nbformat": 4,
 "nbformat_minor": 5
}
