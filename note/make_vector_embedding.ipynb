{
 "cells": [
  {
   "cell_type": "code",
   "execution_count": null,
   "id": "3c91b0e6",
   "metadata": {},
   "outputs": [],
   "source": [
    "# !pip install sentence-transformers langchain pypdf faiss-cpu"
   ]
  },
  {
   "cell_type": "code",
   "execution_count": null,
   "id": "f982f8d3",
   "metadata": {},
   "outputs": [],
   "source": [
    "import os\n",
    "from langchain.text_splitter import RecursiveCharacterTextSplitter\n",
    "from langchain.document_loaders import PyPDFLoader\n",
    "from langchain.embeddings import HuggingFaceEmbeddings\n",
    "from langchain.vectorstores import FAISS\n"
   ]
  },
  {
   "cell_type": "code",
   "execution_count": null,
   "id": "2ac80498",
   "metadata": {},
   "outputs": [],
   "source": [
    "pdf_paths = []\n",
    "for folder in ['data/law', 'data/security']:\n",
    "    for fname in os.listdir(folder):\n",
    "        if fname.endswith('.pdf'):\n",
    "            pdf_paths.append(os.path.join(folder, fname))\n",
    "len(pdf_paths)"
   ]
  },
  {
   "cell_type": "code",
   "execution_count": null,
   "id": "edec20bf",
   "metadata": {},
   "outputs": [],
   "source": [
    "# Load documents\n",
    "docs = []\n",
    "for path in pdf_paths:\n",
    "    loader = PyPDFLoader(path)\n",
    "    docs.extend(loader.load())\n",
    "len(docs)"
   ]
  },
  {
   "cell_type": "code",
   "execution_count": null,
   "id": "89542573",
   "metadata": {},
   "outputs": [],
   "source": [
    "# Split documents into chunks\n",
    "text_splitter = RecursiveCharacterTextSplitter(chunk_size=500, chunk_overlap=50)\n",
    "docs_split = text_splitter.split_documents(docs)\n",
    "len(docs_split)"
   ]
  },
  {
   "cell_type": "code",
   "execution_count": null,
   "id": "bc6797d7",
   "metadata": {},
   "outputs": [],
   "source": [
    "# Create embeddings and vector store\n",
    "embedding_model = HuggingFaceEmbeddings(model_name='sentence-transformers/all-MiniLM-L6-v2')\n",
    "vector_store = FAISS.from_documents(docs_split, embedding_model)\n",
    "\n",
    "os.makedirs('../data/vector_store', exist_ok=True)\n",
    "vector_store.save_local('../data/vector_store')"
   ]
  }
 ],
 "metadata": {
  "language_info": {
   "name": "python"
  }
 },
 "nbformat": 4,
 "nbformat_minor": 5
}
