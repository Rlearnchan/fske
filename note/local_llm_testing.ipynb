{
  "cells": [
    {
      "cell_type": "markdown",
      "metadata": {},
      "source": [
        "# Local LLM Test Guide\n",
        "\n",
        "This notebook demonstrates how to run syntax checks and the test suite after switching to local models.\n"
      ]
    },
    {
      "cell_type": "code",
      "execution_count": null,
      "metadata": {},
      "outputs": [],
      "source": [
        "# Syntax check\n",
        "import subprocess, sys\n",
        "cmd=[sys.executable,'-m','py_compile',\n",
        "     'FinShibainu-main/krx_llm_dataset/utils/api.py',\n",
        "     'FinShibainu-main/krx_llm_dataset/utils/graph.py',\n",
        "     'FinShibainu-main/krx_llm_dataset/utils/template.py']\n",
        "print('Running:',' '.join(cmd))\n",
        "subprocess.run(cmd,check=True)\n",
        "print('Syntax OK')\n"
      ]
    },
    {
      "cell_type": "code",
      "execution_count": null,
      "metadata": {},
      "outputs": [],
      "source": [
        "# Run unit tests\n",
        "!pytest -q\n"
      ]
    }
  ],
  "metadata": {
    "kernelspec": {
      "display_name": "Python 3",
      "language": "python",
      "name": "python3"
    },
    "language_info": {
      "name": "python",
      "version": "3.11"
    }
  },
  "nbformat": 4,
  "nbformat_minor": 5
}