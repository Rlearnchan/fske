{
 "cells": [
  {
   "cell_type": "code",
   "execution_count": null,
   "id": "eb3bd59c",
   "metadata": {},
   "outputs": [],
   "source": [
    "# !pip install datasets"
   ]
  },
  {
   "cell_type": "code",
   "execution_count": null,
   "id": "df178352",
   "metadata": {},
   "outputs": [],
   "source": [
    "from datasets import load_dataset\n",
    "import pandas as pd\n",
    "\n",
    "ds = load_dataset(\"aiqwe/FinShibainu\", \"mcqa\")\n",
    "df = pd.DataFrame(ds['train'])\n",
    "df.to_csv(\"../data/mcqa.csv\", index=False)\n",
    "\n",
    "ds = load_dataset(\"aiqwe/FinShibainu\", \"qa\")\n",
    "df = pd.DataFrame(ds['train'])\n",
    "df.to_csv(\"../data/qa.csv\", index=False)"
   ]
  }
 ],
 "metadata": {
  "language_info": {
   "name": "python"
  }
 },
 "nbformat": 4,
 "nbformat_minor": 5
}
