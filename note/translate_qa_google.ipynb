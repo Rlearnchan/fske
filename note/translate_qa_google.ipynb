{
 "cells": [
  {
   "cell_type": "code",
   "execution_count": 1,
   "id": "7fe672de",
   "metadata": {},
   "outputs": [
    {
     "name": "stderr",
     "output_type": "stream",
     "text": [
      "  DEPRECATION: Building 'googletrans' using the legacy setup.py bdist_wheel mechanism, which will be removed in a future version. pip 25.3 will enforce this behaviour change. A possible replacement is to use the standardized build interface by setting the `--use-pep517` option, (possibly combined with `--no-build-isolation`), or adding a `pyproject.toml` file to the source tree of 'googletrans'. Discussion can be found at https://github.com/pypa/pip/issues/6334\n"
     ]
    },
    {
     "name": "stdout",
     "output_type": "stream",
     "text": [
      "라이브러리 설치 완료!\n",
      "구글 번역기 초기화 완료!\n",
      "지원 언어: 107개\n",
      "주요 언어: {'af': 'afrikaans', 'sq': 'albanian', 'am': 'amharic', 'ar': 'arabic', 'hy': 'armenian', 'az': 'azerbaijani', 'eu': 'basque', 'be': 'belarusian', 'bn': 'bengali', 'bs': 'bosnian'}\n"
     ]
    }
   ],
   "source": [
    "# 필요한 라이브러리 설치 및 설정\n",
    "\n",
    "# 구글 번역 라이브러리 설치\n",
    "!pip install -q googletrans==4.0.0rc1\n",
    "!pip install -q pandas tqdm\n",
    "\n",
    "print(\"라이브러리 설치 완료!\")\n",
    "\n",
    "import os\n",
    "import pandas as pd\n",
    "import numpy as np\n",
    "from tqdm import tqdm\n",
    "import time\n",
    "import re\n",
    "from typing import List, Dict, Tuple\n",
    "\n",
    "# 구글 번역 라이브러리\n",
    "from googletrans import Translator, LANGUAGES\n",
    "\n",
    "# 번역기 초기화\n",
    "translator = Translator()\n",
    "\n",
    "print(\"구글 번역기 초기화 완료!\")\n",
    "print(f\"지원 언어: {len(LANGUAGES)}개\")\n",
    "print(\"주요 언어:\", {k: v for k, v in list(LANGUAGES.items())[:10]})\n"
   ]
  },
  {
   "cell_type": "code",
   "execution_count": 2,
   "id": "b10e632a",
   "metadata": {},
   "outputs": [
    {
     "name": "stdout",
     "output_type": "stream",
     "text": [
      "구글 번역 함수 정의 완료!\n"
     ]
    }
   ],
   "source": [
    "# 구글 번역 함수 정의\n",
    "\n",
    "def detect_language(text: str) -> str:\n",
    "    \"\"\"텍스트의 언어를 감지합니다.\"\"\"\n",
    "    try:\n",
    "        # 한국어 문자 비율 체크\n",
    "        korean_chars = sum(1 for char in text if '\\uac00' <= char <= '\\ud7af')\n",
    "        if korean_chars > len(text) * 0.1:  # 10% 이상이 한글이면 한국어\n",
    "            return \"ko\"\n",
    "        \n",
    "        # 구글 번역으로 언어 감지\n",
    "        detected = translator.detect(text[:500])  # 처음 500자만 검사\n",
    "        return detected.lang\n",
    "        \n",
    "    except Exception as e:\n",
    "        print(f\"언어 감지 오류: {e}\")\n",
    "        # 중국어/영어 휴리스틱 감지\n",
    "        chinese_chars = sum(1 for char in text if '\\u4e00' <= char <= '\\u9fff')\n",
    "        english_chars = sum(1 for char in text if char.isascii() and char.isalpha())\n",
    "        \n",
    "        if chinese_chars > english_chars:\n",
    "            return \"zh\"\n",
    "        else:\n",
    "            return \"en\"\n",
    "\n",
    "def translate_with_google(text: str, target_lang: str = \"ko\", max_retries: int = 3) -> str:\n",
    "    \"\"\"구글 번역으로 텍스트를 번역합니다.\"\"\"\n",
    "    \n",
    "    if not text or len(text.strip()) < 2:\n",
    "        return text\n",
    "    \n",
    "    # 언어 감지\n",
    "    source_lang = detect_language(text)\n",
    "    \n",
    "    # 이미 한국어면 번역하지 않음\n",
    "    if source_lang == \"ko\":\n",
    "        return text\n",
    "    \n",
    "        # 번역 시도 (재시도 로직 포함)\n",
    "    for attempt in range(max_retries):\n",
    "        try:\n",
    "            # 텍스트가 너무 길면 분할 (5000자 제한)\n",
    "            if len(text) > 4000:\n",
    "                # 문장 단위로 분할\n",
    "                sentences = re.split(r'[.!?]\\s+', text)\n",
    "                translated_parts = []\n",
    "                \n",
    "                for sentence in sentences:\n",
    "                    if sentence.strip():\n",
    "                        result = translator.translate(sentence.strip(), dest=target_lang, src=source_lang)\n",
    "                        translated_parts.append(result.text)\n",
    "                        time.sleep(0.1)  # API 제한 방지\n",
    "                \n",
    "                return ' '.join(translated_parts)\n",
    "            else:\n",
    "                # 일반 번역\n",
    "                result = translator.translate(text, dest=target_lang, src=source_lang)\n",
    "                return result.text\n",
    "                \n",
    "        except Exception as e:\n",
    "            print(f\"번역 시도 {attempt + 1} 실패: {e}\")\n",
    "            if attempt < max_retries - 1:\n",
    "                time.sleep(1)  # 재시도 전 대기\n",
    "            else:\n",
    "                print(f\"번역 포기: {text[:50]}...\")\n",
    "                return text  # 원문 반환\n",
    "\n",
    "def translate_dataset_google(df, output_file, batch_size=20, test_limit=None, delay=0.05):\n",
    "    \"\"\"\n",
    "    구글 번역을 사용하여 데이터셋을 배치별로 번역하고 파일에 저장합니다.\n",
    "    \n",
    "    Args:\n",
    "        df: 원본 데이터프레임\n",
    "        output_file: 저장할 파일 경로\n",
    "        batch_size: 배치 크기\n",
    "        test_limit: 테스트용 데이터 개수 제한\n",
    "        delay: API 호출 간 지연시간 (초)\n",
    "    \"\"\"\n",
    "    \n",
    "    # 테스트용으로 데이터 제한\n",
    "    if test_limit and len(df) > test_limit:\n",
    "        df = df.head(test_limit)\n",
    "        print(f\"테스트용으로 {test_limit}개 데이터로 제한\")\n",
    "    \n",
    "    print(f\"총 {len(df)}개 항목을 {batch_size}개씩 배치 번역 시작...\")\n",
    "    print(f\"결과 파일: {output_file}\")\n",
    "    \n",
    "    # 파일 헤더 작성 (덮어쓰기)\n",
    "    with open(output_file, 'w', encoding='utf-8') as f:\n",
    "        f.write(\"Question,Answer\\n\")\n",
    "    \n",
    "    total_processed = 0\n",
    "    start_time = time.time()\n",
    "    \n",
    "    for batch_start in tqdm(range(0, len(df), batch_size), desc=\"🌐 구글 번역\"):\n",
    "        batch_end = min(batch_start + batch_size, len(df))\n",
    "        batch_df = df.iloc[batch_start:batch_end]\n",
    "        \n",
    "        batch_results = []\n",
    "        \n",
    "        for idx, row in batch_df.iterrows():\n",
    "            try:\n",
    "                # Question과 Answer 각각 번역\n",
    "                original_question = str(row['Question'])\n",
    "                original_answer = str(row['Answer'])\n",
    "                \n",
    "                # 번역 수행\n",
    "                translated_question = translate_with_google(original_question)\n",
    "                time.sleep(delay)  # API 제한 방지\n",
    "                \n",
    "                translated_answer = translate_with_google(original_answer)\n",
    "                time.sleep(delay)  # API 제한 방지\n",
    "                \n",
    "                batch_results.append({\n",
    "                    'Question': translated_question,\n",
    "                    'Answer': translated_answer\n",
    "                })\n",
    "                \n",
    "            except Exception as e:\n",
    "                print(f\"번역 오류 (행 {idx}): {e}\")\n",
    "                batch_results.append({\n",
    "                    'Question': original_question,\n",
    "                    'Answer': original_answer\n",
    "                })\n",
    "        \n",
    "        # 배치 결과를 파일에 추가 (append 모드)\n",
    "        with open(output_file, 'a', encoding='utf-8') as f:\n",
    "            for result in batch_results:\n",
    "                # CSV 형식으로 저장 (따옴표 이스케이프)\n",
    "                question_escaped = result['Question'].replace('\"', '\"\"').replace('\\n', '\\\\n')\n",
    "                answer_escaped = result['Answer'].replace('\"', '\"\"').replace('\\n', '\\\\n')\n",
    "                f.write(f'\"{question_escaped}\",\"{answer_escaped}\"\\n')\n",
    "        \n",
    "        total_processed += len(batch_results)\n",
    "        \n",
    "        # 진행률 및 예상 시간 표시\n",
    "        elapsed_time = time.time() - start_time\n",
    "        avg_time_per_item = elapsed_time / total_processed if total_processed > 0 else 0\n",
    "        remaining_items = len(df) - total_processed\n",
    "        estimated_remaining = avg_time_per_item * remaining_items\n",
    "        \n",
    "        print(f\"배치 {batch_start//batch_size + 1} 완료: {total_processed}/{len(df)}개 처리됨 \"\n",
    "              f\"(평균 {avg_time_per_item:.1f}초/개, 예상 남은시간: {estimated_remaining/60:.1f}분)\")\n",
    "    \n",
    "    total_time = time.time() - start_time\n",
    "    print(f\"🎉 번역 완료! 총 {total_processed}개 항목, 소요시간: {total_time/60:.1f}분\")\n",
    "    return total_processed\n",
    "\n",
    "print(\"구글 번역 함수 정의 완료!\")\n"
   ]
  },
  {
   "cell_type": "code",
   "execution_count": 3,
   "id": "694f7776",
   "metadata": {},
   "outputs": [
    {
     "name": "stdout",
     "output_type": "stream",
     "text": [
      "=== 데이터 로드 ===\n",
      "CyberMetric MCQA: 10180개\n",
      "샘플: Which of the following refers to the secrecy of information?\n",
      "1. Availability\n",
      "2. Authentication\n",
      "3. In...\n",
      "SecBench MCQA: 2730개\n",
      "샘플: 以下哪种措施是企业为了遵守数据保护法规，通常会实施的？\n",
      "1. 定期进行网络渗透测试\n",
      "2. 建立数据最小化原则，仅收集必要的个人数据\n",
      "3. 在网站上使用不可跟踪的cookies\n",
      "4. 完全避免跨境数据传...\n",
      "SecBench QA: 270개\n",
      "샘플: 为什么现代操作系统的IP ID通常是随机产生的？...\n",
      "\n",
      "데이터 로드 완료!\n",
      "\n",
      "=== 언어 분포 체크 ===\n",
      "CyberMetric: en 감지됨\n",
      "SecBench MCQA: zh-CN 감지됨\n",
      "SecBench QA: zh-CN 감지됨\n"
     ]
    }
   ],
   "source": [
    "# 데이터 로드\n",
    "\n",
    "print(\"=== 데이터 로드 ===\")\n",
    "\n",
    "# 1. CyberMetric MCQA (영어 전용)\n",
    "cyber_mcqa = pd.read_csv('../data/CyberMetric/mcqa_org.csv')\n",
    "print(f\"CyberMetric MCQA: {cyber_mcqa.shape[0]}개\")\n",
    "print(\"샘플:\", cyber_mcqa.iloc[0]['Question'][:100] + \"...\")\n",
    "\n",
    "# 2. SecBench MCQA (영어/중국어 혼용)\n",
    "sec_mcqa = pd.read_csv('../data/SecBench/mcqa_org.csv')\n",
    "print(f\"SecBench MCQA: {sec_mcqa.shape[0]}개\")\n",
    "print(\"샘플:\", sec_mcqa.iloc[0]['Question'][:100] + \"...\")\n",
    "\n",
    "# 3. SecBench QA (영어/중국어 혼용)  \n",
    "sec_qa = pd.read_csv('../data/SecBench/qa_org.csv')\n",
    "print(f\"SecBench QA: {sec_qa.shape[0]}개\")\n",
    "print(\"샘플:\", sec_qa.iloc[0]['Question'][:100] + \"...\")\n",
    "\n",
    "print(\"\\n데이터 로드 완료!\")\n",
    "\n",
    "# 언어 분포 간단 체크\n",
    "print(\"\\n=== 언어 분포 체크 ===\")\n",
    "for name, df in [(\"CyberMetric\", cyber_mcqa), (\"SecBench MCQA\", sec_mcqa), (\"SecBench QA\", sec_qa)]:\n",
    "    sample_text = df.iloc[0]['Question']\n",
    "    detected_lang = detect_language(sample_text)\n",
    "    print(f\"{name}: {detected_lang} 감지됨\")\n"
   ]
  },
  {
   "cell_type": "code",
   "execution_count": null,
   "id": "8da17b96",
   "metadata": {},
   "outputs": [
    {
     "name": "stdout",
     "output_type": "stream",
     "text": [
      "🚀 전체 데이터 구글 번역 시작!\n",
      "✅ 최적화 설정:\n",
      "   - 배치 크기: 20개 (속도 향상)\n",
      "   - API 지연: 0.05초 (최소 지연)\n",
      "   - 테스트 제한: 없음 (전체 데이터)\n",
      "   - 재시도: 3회 (안정성 확보)\n",
      "\n",
      "=== 1. CyberMetric MCQA 번역 (10180개) ===\n",
      "총 10180개 항목을 20개씩 배치 번역 시작...\n",
      "결과 파일: ../data/CyberMetric/mcqa.csv\n"
     ]
    },
    {
     "name": "stderr",
     "output_type": "stream",
     "text": [
      "🌐 구글 번역:   0%|          | 0/509 [00:00<?, ?it/s]"
     ]
    },
    {
     "name": "stderr",
     "output_type": "stream",
     "text": [
      "🌐 구글 번역:   0%|          | 1/509 [00:25<3:37:55, 25.74s/it]"
     ]
    },
    {
     "name": "stdout",
     "output_type": "stream",
     "text": [
      "배치 1 완료: 20/10180개 처리됨 (평균 1.3초/개, 예상 남은시간: 218.2분)\n"
     ]
    },
    {
     "name": "stderr",
     "output_type": "stream",
     "text": [
      "🌐 구글 번역:   0%|          | 2/509 [00:54<3:53:04, 27.58s/it]"
     ]
    },
    {
     "name": "stdout",
     "output_type": "stream",
     "text": [
      "배치 2 완료: 40/10180개 처리됨 (평균 1.4초/개, 예상 남은시간: 230.9분)\n",
      "번역 시도 1 실패: The read operation timed out\n"
     ]
    },
    {
     "name": "stderr",
     "output_type": "stream",
     "text": [
      "🌐 구글 번역:   1%|          | 3/509 [01:31<4:26:38, 31.62s/it]"
     ]
    },
    {
     "name": "stdout",
     "output_type": "stream",
     "text": [
      "배치 3 완료: 60/10180개 처리됨 (평균 1.5초/개, 예상 남은시간: 256.0분)\n",
      "번역 시도 1 실패: The read operation timed out\n"
     ]
    },
    {
     "name": "stderr",
     "output_type": "stream",
     "text": [
      "🌐 구글 번역:   1%|          | 4/509 [02:04<4:32:21, 32.36s/it]"
     ]
    },
    {
     "name": "stdout",
     "output_type": "stream",
     "text": [
      "배치 4 완료: 80/10180개 처리됨 (평균 1.6초/개, 예상 남은시간: 262.1분)\n"
     ]
    },
    {
     "name": "stderr",
     "output_type": "stream",
     "text": [
      "🌐 구글 번역:   1%|          | 5/509 [02:32<4:19:24, 30.88s/it]"
     ]
    },
    {
     "name": "stdout",
     "output_type": "stream",
     "text": [
      "배치 5 완료: 100/10180개 처리됨 (평균 1.5초/개, 예상 남은시간: 256.7분)\n"
     ]
    }
   ],
   "source": [
    "# 전체 데이터 번역 실행 - 최대 속도 설정\n",
    "\n",
    "print(\"🚀 전체 데이터 구글 번역 시작!\")\n",
    "print(\"✅ 최적화 설정:\")\n",
    "print(\"   - 배치 크기: 20개 (속도 향상)\")\n",
    "print(\"   - API 지연: 0.05초 (최소 지연)\")\n",
    "print(\"   - 테스트 제한: 없음 (전체 데이터)\")\n",
    "print(\"   - 재시도: 3회 (안정성 확보)\")\n",
    "\n",
    "# 1. CyberMetric MCQA 번역 (영어 → 한국어)\n",
    "print(f\"\\n=== 1. CyberMetric MCQA 번역 ({len(cyber_mcqa)}개) ===\")\n",
    "cybermetric_output = \"../data/CyberMetric/mcqa.csv\"\n",
    "translate_dataset_google(\n",
    "    df=cyber_mcqa,\n",
    "    output_file=cybermetric_output,\n",
    "    batch_size=20,      # 속도 향상\n",
    "    test_limit=None,    # 전체 데이터\n",
    "    delay=0.05          # 최소 지연\n",
    ")\n",
    "\n",
    "# 2. SecBench MCQA 번역 (중국어/영어 → 한국어)\n",
    "print(f\"\\n=== 2. SecBench MCQA 번역 ({len(sec_mcqa)}개) ===\")\n",
    "secbench_mcqa_output = \"../data/SecBench/mcqa.csv\"\n",
    "translate_dataset_google(\n",
    "    df=sec_mcqa,\n",
    "    output_file=secbench_mcqa_output,\n",
    "    batch_size=20,      # 속도 향상\n",
    "    test_limit=None,    # 전체 데이터\n",
    "    delay=0.05          # 최소 지연\n",
    ")\n",
    "\n",
    "# 3. SecBench QA 번역 (중국어/영어 → 한국어)\n",
    "print(f\"\\n=== 3. SecBench QA 번역 ({len(sec_qa)}개) ===\")\n",
    "secbench_qa_output = \"../data/SecBench/qa.csv\"\n",
    "translate_dataset_google(\n",
    "    df=sec_qa,\n",
    "    output_file=secbench_qa_output,\n",
    "    batch_size=20,      # 속도 향상\n",
    "    test_limit=None,    # 전체 데이터\n",
    "    delay=0.05          # 최소 지연\n",
    ")\n",
    "\n",
    "print(\"\\n🎉 모든 번역 작업 완료!\")\n",
    "print(\"\\n📁 생성된 파일:\")\n",
    "print(f\"- CyberMetric MCQA: {cybermetric_output}\")\n",
    "print(f\"- SecBench MCQA: {secbench_mcqa_output}\")\n",
    "print(f\"- SecBench QA: {secbench_qa_output}\")\n",
    "\n",
    "# 예상 시간 계산\n",
    "total_items = len(cyber_mcqa) + len(sec_mcqa) + len(sec_qa)\n",
    "estimated_minutes = total_items * 0.1 / 60  # 0.1초/개 기준\n",
    "print(f\"\\n⏱️ 예상 총 소요시간: {estimated_minutes:.1f}분\")\n",
    "print(\"💡 구글 번역 API 무료 할당량: 월 50만 문자\")\n"
   ]
  },
  {
   "cell_type": "code",
   "execution_count": null,
   "id": "1c029685",
   "metadata": {},
   "outputs": [
    {
     "name": "stdout",
     "output_type": "stream",
     "text": [
      "=== 번역 결과 확인 ===\n",
      "\n",
      "✅ CyberMetric MCQA\n",
      "   파일: /workspace/fske/data/CyberMetric/mcqa_google_translated.csv\n",
      "   행 수: 100개\n",
      "   컬럼: ['Question', 'Answer']\n",
      "   번역 샘플:\n",
      "   Q: 다음 중 정보의 비밀을 나타내는 것은 무엇입니까?\\n1. 가용성\\n2. 인증\\n3. 성실성\\n4. 기밀성...\n",
      "   A: 답변: 4...\n",
      "\n",
      "✅ SecBench MCQA\n",
      "   파일: /workspace/fske/data/SecBench/mcqa_google_translated.csv\n",
      "   행 수: 40개\n",
      "   컬럼: ['Question', 'Answer']\n",
      "   번역 샘플:\n",
      "   Q: 다음 중 데이터 보호 규정을 준수하기 위해 기업이 일반적으로 구현하는 조치는 무엇입니까?\\n1. 정기적 인 네트워크 침투 테스트\\n2. 데이터 ...\n",
      "   A: 답변: 2...\n",
      "❌ SecBench QA: 파일 없음 - /workspace/fske/data/SecBench/qa_google_translated.csv\n",
      "\n",
      "📊 번역 품질 확인을 위해 원본과 비교해보세요!\n"
     ]
    }
   ],
   "source": [
    "# 번역 결과 확인\n",
    "\n",
    "def check_translation_results():\n",
    "    \"\"\"번역 결과 파일들을 확인합니다.\"\"\"\n",
    "    \n",
    "    files_to_check = [\n",
    "        (\"/workspace/fske/data/CyberMetric/mcqa_google_translated.csv\", \"CyberMetric MCQA\"),\n",
    "        (\"/workspace/fske/data/SecBench/mcqa_google_translated.csv\", \"SecBench MCQA\"),\n",
    "        (\"/workspace/fske/data/SecBench/qa_google_translated.csv\", \"SecBench QA\")\n",
    "    ]\n",
    "    \n",
    "    print(\"=== 번역 결과 확인 ===\")\n",
    "    \n",
    "    for file_path, name in files_to_check:\n",
    "        if os.path.exists(file_path):\n",
    "            try:\n",
    "                df = pd.read_csv(file_path)\n",
    "                print(f\"\\n✅ {name}\")\n",
    "                print(f\"   파일: {file_path}\")\n",
    "                print(f\"   행 수: {len(df)}개\")\n",
    "                print(f\"   컬럼: {list(df.columns)}\")\n",
    "                \n",
    "                # 첫 번째 번역 결과 샘플 표시\n",
    "                if len(df) > 0:\n",
    "                    print(f\"   번역 샘플:\")\n",
    "                    print(f\"   Q: {df.iloc[0]['Question'][:80]}...\")\n",
    "                    print(f\"   A: {df.iloc[0]['Answer'][:80]}...\")\n",
    "                    \n",
    "            except Exception as e:\n",
    "                print(f\"❌ {name}: 파일 읽기 오류 - {e}\")\n",
    "        else:\n",
    "            print(f\"❌ {name}: 파일 없음 - {file_path}\")\n",
    "    \n",
    "    print(\"\\n📊 번역 품질 확인을 위해 원본과 비교해보세요!\")\n",
    "\n",
    "# 결과 확인 실행\n",
    "check_translation_results()\n"
   ]
  }
 ],
 "metadata": {
  "kernelspec": {
   "display_name": "Python 3",
   "language": "python",
   "name": "python3"
  },
  "language_info": {
   "codemirror_mode": {
    "name": "ipython",
    "version": 3
   },
   "file_extension": ".py",
   "mimetype": "text/x-python",
   "name": "python",
   "nbconvert_exporter": "python",
   "pygments_lexer": "ipython3",
   "version": "3.11.13"
  }
 },
 "nbformat": 4,
 "nbformat_minor": 5
}
