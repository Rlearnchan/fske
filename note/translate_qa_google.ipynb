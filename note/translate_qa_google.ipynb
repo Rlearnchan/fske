{
 "cells": [
  {
   "cell_type": "code",
   "execution_count": 1,
   "id": "7fe672de",
   "metadata": {},
   "outputs": [
    {
     "name": "stderr",
     "output_type": "stream",
     "text": [
      "  DEPRECATION: Building 'googletrans' using the legacy setup.py bdist_wheel mechanism, which will be removed in a future version. pip 25.3 will enforce this behaviour change. A possible replacement is to use the standardized build interface by setting the `--use-pep517` option, (possibly combined with `--no-build-isolation`), or adding a `pyproject.toml` file to the source tree of 'googletrans'. Discussion can be found at https://github.com/pypa/pip/issues/6334\n"
     ]
    },
    {
     "name": "stdout",
     "output_type": "stream",
     "text": [
      "라이브러리 설치 완료!\n",
      "구글 번역기 초기화 완료!\n",
      "지원 언어: 107개\n",
      "주요 언어: {'af': 'afrikaans', 'sq': 'albanian', 'am': 'amharic', 'ar': 'arabic', 'hy': 'armenian', 'az': 'azerbaijani', 'eu': 'basque', 'be': 'belarusian', 'bn': 'bengali', 'bs': 'bosnian'}\n"
     ]
    }
   ],
   "source": [
    "# 필요한 라이브러리 설치 및 설정\n",
    "\n",
    "# 구글 번역 라이브러리 설치\n",
    "!pip install -q googletrans==4.0.0rc1\n",
    "!pip install -q pandas tqdm\n",
    "\n",
    "print(\"라이브러리 설치 완료!\")\n",
    "\n",
    "import os\n",
    "import pandas as pd\n",
    "import numpy as np\n",
    "from tqdm import tqdm\n",
    "import time\n",
    "import re\n",
    "from typing import List, Dict, Tuple\n",
    "\n",
    "# 구글 번역 라이브러리\n",
    "from googletrans import Translator, LANGUAGES\n",
    "\n",
    "# 번역기 초기화\n",
    "translator = Translator()\n",
    "\n",
    "print(\"구글 번역기 초기화 완료!\")\n",
    "print(f\"지원 언어: {len(LANGUAGES)}개\")\n",
    "print(\"주요 언어:\", {k: v for k, v in list(LANGUAGES.items())[:10]})\n"
   ]
  },
  {
   "cell_type": "code",
   "execution_count": 2,
   "id": "b10e632a",
   "metadata": {},
   "outputs": [
    {
     "name": "stdout",
     "output_type": "stream",
     "text": [
      "구글 번역 함수 정의 완료!\n"
     ]
    }
   ],
   "source": [
    "# 구글 번역 함수 정의\n",
    "\n",
    "def detect_language(text: str) -> str:\n",
    "    \"\"\"텍스트의 언어를 감지합니다.\"\"\"\n",
    "    try:\n",
    "        # 한국어 문자 비율 체크\n",
    "        korean_chars = sum(1 for char in text if '\\uac00' <= char <= '\\ud7af')\n",
    "        if korean_chars > len(text) * 0.1:  # 10% 이상이 한글이면 한국어\n",
    "            return \"ko\"\n",
    "        \n",
    "        # 구글 번역으로 언어 감지\n",
    "        detected = translator.detect(text[:500])  # 처음 500자만 검사\n",
    "        return detected.lang\n",
    "        \n",
    "    except Exception as e:\n",
    "        print(f\"언어 감지 오류: {e}\")\n",
    "        # 중국어/영어 휴리스틱 감지\n",
    "        chinese_chars = sum(1 for char in text if '\\u4e00' <= char <= '\\u9fff')\n",
    "        english_chars = sum(1 for char in text if char.isascii() and char.isalpha())\n",
    "        \n",
    "        if chinese_chars > english_chars:\n",
    "            return \"zh\"\n",
    "        else:\n",
    "            return \"en\"\n",
    "\n",
    "def translate_with_google(text: str, target_lang: str = \"ko\", max_retries: int = 3) -> str:\n",
    "    \"\"\"구글 번역으로 텍스트를 번역합니다.\"\"\"\n",
    "    \n",
    "    if not text or len(text.strip()) < 2:\n",
    "        return text\n",
    "    \n",
    "    # 언어 감지\n",
    "    source_lang = detect_language(text)\n",
    "    \n",
    "    # 이미 한국어면 번역하지 않음\n",
    "    if source_lang == \"ko\":\n",
    "        return text\n",
    "    \n",
    "        # 번역 시도 (재시도 로직 포함)\n",
    "    for attempt in range(max_retries):\n",
    "        try:\n",
    "            # 텍스트가 너무 길면 분할 (5000자 제한)\n",
    "            if len(text) > 4000:\n",
    "                # 문장 단위로 분할\n",
    "                sentences = re.split(r'[.!?]\\s+', text)\n",
    "                translated_parts = []\n",
    "                \n",
    "                for sentence in sentences:\n",
    "                    if sentence.strip():\n",
    "                        result = translator.translate(sentence.strip(), dest=target_lang, src=source_lang)\n",
    "                        translated_parts.append(result.text)\n",
    "                        time.sleep(0.1)  # API 제한 방지\n",
    "                \n",
    "                return ' '.join(translated_parts)\n",
    "            else:\n",
    "                # 일반 번역\n",
    "                result = translator.translate(text, dest=target_lang, src=source_lang)\n",
    "                return result.text\n",
    "                \n",
    "        except Exception as e:\n",
    "            print(f\"번역 시도 {attempt + 1} 실패: {e}\")\n",
    "            if attempt < max_retries - 1:\n",
    "                time.sleep(1)  # 재시도 전 대기\n",
    "            else:\n",
    "                print(f\"번역 포기: {text[:50]}...\")\n",
    "                return text  # 원문 반환\n",
    "\n",
    "def translate_dataset_google(df, output_file, batch_size=20, test_limit=None, delay=0.05):\n",
    "    \"\"\"\n",
    "    구글 번역을 사용하여 데이터셋을 배치별로 번역하고 파일에 저장합니다.\n",
    "    \n",
    "    Args:\n",
    "        df: 원본 데이터프레임\n",
    "        output_file: 저장할 파일 경로\n",
    "        batch_size: 배치 크기\n",
    "        test_limit: 테스트용 데이터 개수 제한\n",
    "        delay: API 호출 간 지연시간 (초)\n",
    "    \"\"\"\n",
    "    \n",
    "    # 테스트용으로 데이터 제한\n",
    "    if test_limit and len(df) > test_limit:\n",
    "        df = df.head(test_limit)\n",
    "        print(f\"테스트용으로 {test_limit}개 데이터로 제한\")\n",
    "    \n",
    "    print(f\"총 {len(df)}개 항목을 {batch_size}개씩 배치 번역 시작...\")\n",
    "    print(f\"결과 파일: {output_file}\")\n",
    "    \n",
    "    # 파일 헤더 작성 (덮어쓰기)\n",
    "    with open(output_file, 'w', encoding='utf-8') as f:\n",
    "        f.write(\"Question,Answer\\n\")\n",
    "    \n",
    "    total_processed = 0\n",
    "    start_time = time.time()\n",
    "    \n",
    "    for batch_start in tqdm(range(0, len(df), batch_size), desc=\"🌐 구글 번역\"):\n",
    "        batch_end = min(batch_start + batch_size, len(df))\n",
    "        batch_df = df.iloc[batch_start:batch_end]\n",
    "        \n",
    "        batch_results = []\n",
    "        \n",
    "        for idx, row in batch_df.iterrows():\n",
    "            try:\n",
    "                # Question과 Answer 각각 번역\n",
    "                original_question = str(row['Question'])\n",
    "                original_answer = str(row['Answer'])\n",
    "                \n",
    "                # 번역 수행\n",
    "                translated_question = translate_with_google(original_question)\n",
    "                time.sleep(delay)  # API 제한 방지\n",
    "                \n",
    "                translated_answer = translate_with_google(original_answer)\n",
    "                time.sleep(delay)  # API 제한 방지\n",
    "                \n",
    "                batch_results.append({\n",
    "                    'Question': translated_question,\n",
    "                    'Answer': translated_answer\n",
    "                })\n",
    "                \n",
    "            except Exception as e:\n",
    "                print(f\"번역 오류 (행 {idx}): {e}\")\n",
    "                batch_results.append({\n",
    "                    'Question': original_question,\n",
    "                    'Answer': original_answer\n",
    "                })\n",
    "        \n",
    "        # 배치 결과를 파일에 추가 (append 모드)\n",
    "        with open(output_file, 'a', encoding='utf-8') as f:\n",
    "            for result in batch_results:\n",
    "                # CSV 형식으로 저장 (따옴표 이스케이프)\n",
    "                question_escaped = result['Question'].replace('\"', '\"\"').replace('\\n', '\\\\n')\n",
    "                answer_escaped = result['Answer'].replace('\"', '\"\"').replace('\\n', '\\\\n')\n",
    "                f.write(f'\"{question_escaped}\",\"{answer_escaped}\"\\n')\n",
    "        \n",
    "        total_processed += len(batch_results)\n",
    "        \n",
    "        # 진행률 및 예상 시간 표시\n",
    "        elapsed_time = time.time() - start_time\n",
    "        avg_time_per_item = elapsed_time / total_processed if total_processed > 0 else 0\n",
    "        remaining_items = len(df) - total_processed\n",
    "        estimated_remaining = avg_time_per_item * remaining_items\n",
    "        \n",
    "        print(f\"배치 {batch_start//batch_size + 1} 완료: {total_processed}/{len(df)}개 처리됨 \"\n",
    "              f\"(평균 {avg_time_per_item:.1f}초/개, 예상 남은시간: {estimated_remaining/60:.1f}분)\")\n",
    "    \n",
    "    total_time = time.time() - start_time\n",
    "    print(f\"🎉 번역 완료! 총 {total_processed}개 항목, 소요시간: {total_time/60:.1f}분\")\n",
    "    return total_processed\n",
    "\n",
    "print(\"구글 번역 함수 정의 완료!\")\n"
   ]
  },
  {
   "cell_type": "code",
   "execution_count": 3,
   "id": "694f7776",
   "metadata": {},
   "outputs": [
    {
     "name": "stdout",
     "output_type": "stream",
     "text": [
      "=== 데이터 로드 ===\n",
      "CyberMetric MCQA: 10180개\n",
      "샘플: Which of the following refers to the secrecy of information?\n",
      "1. Availability\n",
      "2. Authentication\n",
      "3. In...\n",
      "SecBench MCQA: 2730개\n",
      "샘플: 以下哪种措施是企业为了遵守数据保护法规，通常会实施的？\n",
      "1. 定期进行网络渗透测试\n",
      "2. 建立数据最小化原则，仅收集必要的个人数据\n",
      "3. 在网站上使用不可跟踪的cookies\n",
      "4. 完全避免跨境数据传...\n",
      "SecBench QA: 270개\n",
      "샘플: 为什么现代操作系统的IP ID通常是随机产生的？...\n",
      "\n",
      "데이터 로드 완료!\n",
      "\n",
      "=== 언어 분포 체크 ===\n",
      "CyberMetric: en 감지됨\n",
      "SecBench MCQA: zh-CN 감지됨\n",
      "SecBench QA: zh-CN 감지됨\n"
     ]
    }
   ],
   "source": [
    "# 데이터 로드\n",
    "\n",
    "print(\"=== 데이터 로드 ===\")\n",
    "\n",
    "# 1. CyberMetric MCQA (영어 전용)\n",
    "cyber_mcqa = pd.read_csv('../data/CyberMetric/mcqa_org.csv')\n",
    "print(f\"CyberMetric MCQA: {cyber_mcqa.shape[0]}개\")\n",
    "print(\"샘플:\", cyber_mcqa.iloc[0]['Question'][:100] + \"...\")\n",
    "\n",
    "# 2. SecBench MCQA (영어/중국어 혼용)\n",
    "sec_mcqa = pd.read_csv('../data/SecBench/mcqa_org.csv')\n",
    "print(f\"SecBench MCQA: {sec_mcqa.shape[0]}개\")\n",
    "print(\"샘플:\", sec_mcqa.iloc[0]['Question'][:100] + \"...\")\n",
    "\n",
    "# 3. SecBench QA (영어/중국어 혼용)  \n",
    "sec_qa = pd.read_csv('../data/SecBench/qa_org.csv')\n",
    "print(f\"SecBench QA: {sec_qa.shape[0]}개\")\n",
    "print(\"샘플:\", sec_qa.iloc[0]['Question'][:100] + \"...\")\n",
    "\n",
    "print(\"\\n데이터 로드 완료!\")\n",
    "\n",
    "# 언어 분포 간단 체크\n",
    "print(\"\\n=== 언어 분포 체크 ===\")\n",
    "for name, df in [(\"CyberMetric\", cyber_mcqa), (\"SecBench MCQA\", sec_mcqa), (\"SecBench QA\", sec_qa)]:\n",
    "    sample_text = df.iloc[0]['Question']\n",
    "    detected_lang = detect_language(sample_text)\n",
    "    print(f\"{name}: {detected_lang} 감지됨\")\n"
   ]
  },
  {
   "cell_type": "code",
   "execution_count": 5,
   "id": "8da17b96",
   "metadata": {},
   "outputs": [
    {
     "name": "stdout",
     "output_type": "stream",
     "text": [
      "🚀 전체 데이터 구글 번역 시작!\n",
      "✅ 최적화 설정:\n",
      "   - 배치 크기: 20개 (속도 향상)\n",
      "   - API 지연: 0.05초 (최소 지연)\n",
      "   - 테스트 제한: 없음 (전체 데이터)\n",
      "   - 재시도: 3회 (안정성 확보)\n",
      "\n",
      "=== 1. CyberMetric MCQA 번역 (10180개) ===\n",
      "총 10180개 항목을 20개씩 배치 번역 시작...\n",
      "결과 파일: ../data/CyberMetric/mcqa.csv\n"
     ]
    },
    {
     "name": "stderr",
     "output_type": "stream",
     "text": [
      "🌐 구글 번역:   0%|          | 0/509 [00:00<?, ?it/s]"
     ]
    },
    {
     "name": "stderr",
     "output_type": "stream",
     "text": [
      "🌐 구글 번역:   0%|          | 1/509 [00:25<3:37:55, 25.74s/it]"
     ]
    },
    {
     "name": "stdout",
     "output_type": "stream",
     "text": [
      "배치 1 완료: 20/10180개 처리됨 (평균 1.3초/개, 예상 남은시간: 218.2분)\n"
     ]
    },
    {
     "name": "stderr",
     "output_type": "stream",
     "text": [
      "🌐 구글 번역:   0%|          | 2/509 [00:54<3:53:04, 27.58s/it]"
     ]
    },
    {
     "name": "stdout",
     "output_type": "stream",
     "text": [
      "배치 2 완료: 40/10180개 처리됨 (평균 1.4초/개, 예상 남은시간: 230.9분)\n",
      "번역 시도 1 실패: The read operation timed out\n"
     ]
    },
    {
     "name": "stderr",
     "output_type": "stream",
     "text": [
      "🌐 구글 번역:   1%|          | 3/509 [01:31<4:26:38, 31.62s/it]"
     ]
    },
    {
     "name": "stdout",
     "output_type": "stream",
     "text": [
      "배치 3 완료: 60/10180개 처리됨 (평균 1.5초/개, 예상 남은시간: 256.0분)\n",
      "번역 시도 1 실패: The read operation timed out\n"
     ]
    },
    {
     "name": "stderr",
     "output_type": "stream",
     "text": [
      "🌐 구글 번역:   1%|          | 4/509 [02:04<4:32:21, 32.36s/it]"
     ]
    },
    {
     "name": "stdout",
     "output_type": "stream",
     "text": [
      "배치 4 완료: 80/10180개 처리됨 (평균 1.6초/개, 예상 남은시간: 262.1분)\n"
     ]
    },
    {
     "name": "stderr",
     "output_type": "stream",
     "text": [
      "🌐 구글 번역:   1%|          | 5/509 [02:32<4:19:24, 30.88s/it]"
     ]
    },
    {
     "name": "stdout",
     "output_type": "stream",
     "text": [
      "배치 5 완료: 100/10180개 처리됨 (평균 1.5초/개, 예상 남은시간: 256.7분)\n"
     ]
    },
    {
     "name": "stderr",
     "output_type": "stream",
     "text": [
      "🌐 구글 번역:   1%|          | 6/509 [03:03<4:17:25, 30.71s/it]"
     ]
    },
    {
     "name": "stdout",
     "output_type": "stream",
     "text": [
      "배치 6 완료: 120/10180개 처리됨 (평균 1.5초/개, 예상 남은시간: 256.0분)\n"
     ]
    },
    {
     "name": "stderr",
     "output_type": "stream",
     "text": [
      "🌐 구글 번역:   1%|▏         | 7/509 [03:32<4:13:49, 30.34s/it]"
     ]
    },
    {
     "name": "stdout",
     "output_type": "stream",
     "text": [
      "배치 7 완료: 140/10180개 처리됨 (평균 1.5초/개, 예상 남은시간: 254.3분)\n"
     ]
    },
    {
     "name": "stderr",
     "output_type": "stream",
     "text": [
      "🌐 구글 번역:   2%|▏         | 8/509 [03:58<4:01:40, 28.94s/it]"
     ]
    },
    {
     "name": "stdout",
     "output_type": "stream",
     "text": [
      "배치 8 완료: 160/10180개 처리됨 (평균 1.5초/개, 예상 남은시간: 249.2분)\n",
      "번역 시도 1 실패: the JSON object must be str, bytes or bytearray, not NoneType\n",
      "번역 시도 1 실패: the JSON object must be str, bytes or bytearray, not NoneType\n"
     ]
    },
    {
     "name": "stderr",
     "output_type": "stream",
     "text": [
      "🌐 구글 번역:   2%|▏         | 9/509 [04:30<4:07:34, 29.71s/it]"
     ]
    },
    {
     "name": "stdout",
     "output_type": "stream",
     "text": [
      "배치 9 완료: 180/10180개 처리됨 (평균 1.5초/개, 예상 남은시간: 250.1분)\n"
     ]
    },
    {
     "name": "stderr",
     "output_type": "stream",
     "text": [
      "🌐 구글 번역:   2%|▏         | 10/509 [04:55<3:55:49, 28.36s/it]"
     ]
    },
    {
     "name": "stdout",
     "output_type": "stream",
     "text": [
      "배치 10 완료: 200/10180개 처리됨 (평균 1.5초/개, 예상 남은시간: 245.7분)\n"
     ]
    },
    {
     "name": "stderr",
     "output_type": "stream",
     "text": [
      "🌐 구글 번역:   2%|▏         | 11/509 [05:20<3:47:02, 27.35s/it]"
     ]
    },
    {
     "name": "stdout",
     "output_type": "stream",
     "text": [
      "배치 11 완료: 220/10180개 처리됨 (평균 1.5초/개, 예상 남은시간: 241.9분)\n",
      "번역 시도 1 실패: The read operation timed out\n"
     ]
    },
    {
     "name": "stderr",
     "output_type": "stream",
     "text": [
      "🌐 구글 번역:   2%|▏         | 12/509 [05:53<4:00:38, 29.05s/it]"
     ]
    },
    {
     "name": "stdout",
     "output_type": "stream",
     "text": [
      "배치 12 완료: 240/10180개 처리됨 (평균 1.5초/개, 예상 남은시간: 244.0분)\n"
     ]
    },
    {
     "name": "stderr",
     "output_type": "stream",
     "text": [
      "🌐 구글 번역:   3%|▎         | 13/509 [06:20<3:54:55, 28.42s/it]"
     ]
    },
    {
     "name": "stdout",
     "output_type": "stream",
     "text": [
      "배치 13 완료: 260/10180개 처리됨 (평균 1.5초/개, 예상 남은시간: 241.9분)\n",
      "번역 시도 1 실패: The read operation timed out\n"
     ]
    },
    {
     "name": "stderr",
     "output_type": "stream",
     "text": [
      "🌐 구글 번역:   3%|▎         | 14/509 [06:56<4:13:18, 30.70s/it]"
     ]
    },
    {
     "name": "stdout",
     "output_type": "stream",
     "text": [
      "배치 14 완료: 280/10180개 처리됨 (평균 1.5초/개, 예상 남은시간: 245.4분)\n"
     ]
    },
    {
     "name": "stderr",
     "output_type": "stream",
     "text": [
      "🌐 구글 번역:   3%|▎         | 15/509 [07:22<4:02:19, 29.43s/it]"
     ]
    },
    {
     "name": "stdout",
     "output_type": "stream",
     "text": [
      "배치 15 완료: 300/10180개 처리됨 (평균 1.5초/개, 예상 남은시간: 243.1분)\n"
     ]
    },
    {
     "name": "stderr",
     "output_type": "stream",
     "text": [
      "🌐 구글 번역:   3%|▎         | 16/509 [07:49<3:55:57, 28.72s/it]"
     ]
    },
    {
     "name": "stdout",
     "output_type": "stream",
     "text": [
      "배치 16 완료: 320/10180개 처리됨 (평균 1.5초/개, 예상 남은시간: 241.3분)\n"
     ]
    },
    {
     "name": "stderr",
     "output_type": "stream",
     "text": [
      "🌐 구글 번역:   3%|▎         | 17/509 [08:16<3:49:19, 27.97s/it]"
     ]
    },
    {
     "name": "stdout",
     "output_type": "stream",
     "text": [
      "배치 17 완료: 340/10180개 처리됨 (평균 1.5초/개, 예상 남은시간: 239.3분)\n"
     ]
    },
    {
     "name": "stderr",
     "output_type": "stream",
     "text": [
      "🌐 구글 번역:   4%|▎         | 18/509 [08:43<3:46:54, 27.73s/it]"
     ]
    },
    {
     "name": "stdout",
     "output_type": "stream",
     "text": [
      "배치 18 완료: 360/10180개 처리됨 (평균 1.5초/개, 예상 남은시간: 237.9분)\n"
     ]
    },
    {
     "name": "stderr",
     "output_type": "stream",
     "text": [
      "🌐 구글 번역:   4%|▎         | 19/509 [09:09<3:41:40, 27.14s/it]"
     ]
    },
    {
     "name": "stdout",
     "output_type": "stream",
     "text": [
      "배치 19 완료: 380/10180개 처리됨 (평균 1.4초/개, 예상 남은시간: 236.0분)\n"
     ]
    },
    {
     "name": "stderr",
     "output_type": "stream",
     "text": [
      "🌐 구글 번역:   4%|▍         | 20/509 [09:35<3:40:27, 27.05s/it]"
     ]
    },
    {
     "name": "stdout",
     "output_type": "stream",
     "text": [
      "배치 20 완료: 400/10180개 처리됨 (평균 1.4초/개, 예상 남은시간: 234.7분)\n"
     ]
    },
    {
     "name": "stderr",
     "output_type": "stream",
     "text": [
      "🌐 구글 번역:   4%|▍         | 21/509 [10:06<3:48:06, 28.05s/it]"
     ]
    },
    {
     "name": "stdout",
     "output_type": "stream",
     "text": [
      "배치 21 완료: 420/10180개 처리됨 (평균 1.4초/개, 예상 남은시간: 234.8분)\n"
     ]
    },
    {
     "name": "stderr",
     "output_type": "stream",
     "text": [
      "🌐 구글 번역:   4%|▍         | 22/509 [10:40<4:01:58, 29.81s/it]"
     ]
    },
    {
     "name": "stdout",
     "output_type": "stream",
     "text": [
      "배치 22 완료: 440/10180개 처리됨 (평균 1.5초/개, 예상 남은시간: 236.2분)\n"
     ]
    },
    {
     "name": "stderr",
     "output_type": "stream",
     "text": [
      "🌐 구글 번역:   5%|▍         | 23/509 [11:07<3:54:17, 28.92s/it]"
     ]
    },
    {
     "name": "stdout",
     "output_type": "stream",
     "text": [
      "배치 23 완료: 460/10180개 처리됨 (평균 1.5초/개, 예상 남은시간: 234.9분)\n"
     ]
    },
    {
     "name": "stderr",
     "output_type": "stream",
     "text": [
      "🌐 구글 번역:   5%|▍         | 24/509 [11:32<3:44:21, 27.75s/it]"
     ]
    },
    {
     "name": "stdout",
     "output_type": "stream",
     "text": [
      "배치 24 완료: 480/10180개 처리됨 (평균 1.4초/개, 예상 남은시간: 233.1분)\n"
     ]
    },
    {
     "name": "stderr",
     "output_type": "stream",
     "text": [
      "🌐 구글 번역:   5%|▍         | 25/509 [11:58<3:41:29, 27.46s/it]"
     ]
    },
    {
     "name": "stdout",
     "output_type": "stream",
     "text": [
      "배치 25 완료: 500/10180개 처리됨 (평균 1.4초/개, 예상 남은시간: 232.0분)\n"
     ]
    },
    {
     "name": "stderr",
     "output_type": "stream",
     "text": [
      "🌐 구글 번역:   5%|▌         | 26/509 [12:29<3:47:54, 28.31s/it]"
     ]
    },
    {
     "name": "stdout",
     "output_type": "stream",
     "text": [
      "배치 26 완료: 520/10180개 처리됨 (평균 1.4초/개, 예상 남은시간: 232.0분)\n"
     ]
    },
    {
     "name": "stderr",
     "output_type": "stream",
     "text": [
      "🌐 구글 번역:   5%|▌         | 27/509 [12:53<3:37:46, 27.11s/it]"
     ]
    },
    {
     "name": "stdout",
     "output_type": "stream",
     "text": [
      "배치 27 완료: 540/10180개 처리됨 (평균 1.4초/개, 예상 남은시간: 230.1분)\n"
     ]
    },
    {
     "name": "stderr",
     "output_type": "stream",
     "text": [
      "🌐 구글 번역:   6%|▌         | 28/509 [13:21<3:38:27, 27.25s/it]"
     ]
    },
    {
     "name": "stdout",
     "output_type": "stream",
     "text": [
      "배치 28 완료: 560/10180개 처리됨 (평균 1.4초/개, 예상 남은시간: 229.4분)\n"
     ]
    },
    {
     "name": "stderr",
     "output_type": "stream",
     "text": [
      "🌐 구글 번역:   6%|▌         | 29/509 [13:49<3:40:41, 27.59s/it]"
     ]
    },
    {
     "name": "stdout",
     "output_type": "stream",
     "text": [
      "배치 29 완료: 580/10180개 처리됨 (평균 1.4초/개, 예상 남은시간: 228.8분)\n"
     ]
    },
    {
     "name": "stderr",
     "output_type": "stream",
     "text": [
      "🌐 구글 번역:   6%|▌         | 30/509 [14:15<3:36:26, 27.11s/it]"
     ]
    },
    {
     "name": "stdout",
     "output_type": "stream",
     "text": [
      "배치 30 완료: 600/10180개 처리됨 (평균 1.4초/개, 예상 남은시간: 227.6분)\n"
     ]
    },
    {
     "name": "stderr",
     "output_type": "stream",
     "text": [
      "🌐 구글 번역:   6%|▌         | 31/509 [14:43<3:38:57, 27.48s/it]"
     ]
    },
    {
     "name": "stdout",
     "output_type": "stream",
     "text": [
      "배치 31 완료: 620/10180개 처리됨 (평균 1.4초/개, 예상 남은시간: 227.1분)\n"
     ]
    },
    {
     "name": "stderr",
     "output_type": "stream",
     "text": [
      "🌐 구글 번역:   6%|▋         | 32/509 [15:13<3:43:48, 28.15s/it]"
     ]
    },
    {
     "name": "stdout",
     "output_type": "stream",
     "text": [
      "배치 32 완료: 640/10180개 처리됨 (평균 1.4초/개, 예상 남은시간: 227.0분)\n"
     ]
    },
    {
     "name": "stderr",
     "output_type": "stream",
     "text": [
      "🌐 구글 번역:   6%|▋         | 33/509 [15:40<3:41:31, 27.92s/it]"
     ]
    },
    {
     "name": "stdout",
     "output_type": "stream",
     "text": [
      "배치 33 완료: 660/10180개 처리됨 (평균 1.4초/개, 예상 남은시간: 226.2분)\n"
     ]
    },
    {
     "name": "stderr",
     "output_type": "stream",
     "text": [
      "🌐 구글 번역:   7%|▋         | 34/509 [16:09<3:42:07, 28.06s/it]"
     ]
    },
    {
     "name": "stdout",
     "output_type": "stream",
     "text": [
      "배치 34 완료: 680/10180개 처리됨 (평균 1.4초/개, 예상 남은시간: 225.7분)\n"
     ]
    },
    {
     "name": "stderr",
     "output_type": "stream",
     "text": [
      "🌐 구글 번역:   7%|▋         | 35/509 [16:37<3:42:41, 28.19s/it]"
     ]
    },
    {
     "name": "stdout",
     "output_type": "stream",
     "text": [
      "배치 35 완료: 700/10180개 처리됨 (평균 1.4초/개, 예상 남은시간: 225.2분)\n",
      "번역 시도 1 실패: The read operation timed out\n"
     ]
    },
    {
     "name": "stderr",
     "output_type": "stream",
     "text": [
      "🌐 구글 번역:   7%|▋         | 36/509 [17:12<3:58:25, 30.24s/it]"
     ]
    },
    {
     "name": "stdout",
     "output_type": "stream",
     "text": [
      "배치 36 완료: 720/10180개 처리됨 (평균 1.4초/개, 예상 남은시간: 226.2분)\n"
     ]
    },
    {
     "name": "stderr",
     "output_type": "stream",
     "text": [
      "🌐 구글 번역:   7%|▋         | 37/509 [17:39<3:49:55, 29.23s/it]"
     ]
    },
    {
     "name": "stdout",
     "output_type": "stream",
     "text": [
      "배치 37 완료: 740/10180개 처리됨 (평균 1.4초/개, 예상 남은시간: 225.3분)\n"
     ]
    },
    {
     "name": "stderr",
     "output_type": "stream",
     "text": [
      "🌐 구글 번역:   7%|▋         | 38/509 [18:06<3:43:04, 28.42s/it]"
     ]
    },
    {
     "name": "stdout",
     "output_type": "stream",
     "text": [
      "배치 38 완료: 760/10180개 처리됨 (평균 1.4초/개, 예상 남은시간: 224.4분)\n"
     ]
    },
    {
     "name": "stderr",
     "output_type": "stream",
     "text": [
      "🌐 구글 번역:   8%|▊         | 39/509 [18:35<3:43:38, 28.55s/it]"
     ]
    },
    {
     "name": "stdout",
     "output_type": "stream",
     "text": [
      "배치 39 완료: 780/10180개 처리됨 (평균 1.4초/개, 예상 남은시간: 224.0분)\n",
      "번역 시도 1 실패: The read operation timed out\n"
     ]
    },
    {
     "name": "stderr",
     "output_type": "stream",
     "text": [
      "🌐 구글 번역:   8%|▊         | 40/509 [19:08<3:54:06, 29.95s/it]"
     ]
    },
    {
     "name": "stdout",
     "output_type": "stream",
     "text": [
      "배치 40 완료: 800/10180개 처리됨 (평균 1.4초/개, 예상 남은시간: 224.4분)\n"
     ]
    },
    {
     "name": "stderr",
     "output_type": "stream",
     "text": [
      "🌐 구글 번역:   8%|▊         | 41/509 [19:33<3:43:18, 28.63s/it]"
     ]
    },
    {
     "name": "stdout",
     "output_type": "stream",
     "text": [
      "배치 41 완료: 820/10180개 처리됨 (평균 1.4초/개, 예상 남은시간: 223.3분)\n"
     ]
    },
    {
     "name": "stderr",
     "output_type": "stream",
     "text": [
      "🌐 구글 번역:   8%|▊         | 42/509 [19:59<3:36:27, 27.81s/it]"
     ]
    },
    {
     "name": "stdout",
     "output_type": "stream",
     "text": [
      "배치 42 완료: 840/10180개 처리됨 (평균 1.4초/개, 예상 남은시간: 222.3분)\n"
     ]
    },
    {
     "name": "stderr",
     "output_type": "stream",
     "text": [
      "🌐 구글 번역:   8%|▊         | 43/509 [20:29<3:39:36, 28.28s/it]"
     ]
    },
    {
     "name": "stdout",
     "output_type": "stream",
     "text": [
      "배치 43 완료: 860/10180개 처리됨 (평균 1.4초/개, 예상 남은시간: 222.0분)\n"
     ]
    },
    {
     "name": "stderr",
     "output_type": "stream",
     "text": [
      "🌐 구글 번역:   9%|▊         | 44/509 [20:54<3:33:01, 27.49s/it]"
     ]
    },
    {
     "name": "stdout",
     "output_type": "stream",
     "text": [
      "배치 44 완료: 880/10180개 처리됨 (평균 1.4초/개, 예상 남은시간: 221.0분)\n"
     ]
    },
    {
     "name": "stderr",
     "output_type": "stream",
     "text": [
      "🌐 구글 번역:   9%|▉         | 45/509 [21:24<3:37:07, 28.08s/it]"
     ]
    },
    {
     "name": "stdout",
     "output_type": "stream",
     "text": [
      "배치 45 완료: 900/10180개 처리됨 (평균 1.4초/개, 예상 남은시간: 220.7분)\n"
     ]
    },
    {
     "name": "stderr",
     "output_type": "stream",
     "text": [
      "🌐 구글 번역:   9%|▉         | 46/509 [21:51<3:34:19, 27.77s/it]"
     ]
    },
    {
     "name": "stdout",
     "output_type": "stream",
     "text": [
      "배치 46 완료: 920/10180개 처리됨 (평균 1.4초/개, 예상 남은시간: 220.0분)\n"
     ]
    },
    {
     "name": "stderr",
     "output_type": "stream",
     "text": [
      "🌐 구글 번역:   9%|▉         | 47/509 [22:17<3:30:46, 27.37s/it]"
     ]
    },
    {
     "name": "stdout",
     "output_type": "stream",
     "text": [
      "배치 47 완료: 940/10180개 처리됨 (평균 1.4초/개, 예상 남은시간: 219.2분)\n"
     ]
    },
    {
     "name": "stderr",
     "output_type": "stream",
     "text": [
      "🌐 구글 번역:   9%|▉         | 48/509 [22:45<3:30:18, 27.37s/it]"
     ]
    },
    {
     "name": "stdout",
     "output_type": "stream",
     "text": [
      "배치 48 완료: 960/10180개 처리됨 (평균 1.4초/개, 예상 남은시간: 218.5분)\n"
     ]
    },
    {
     "name": "stderr",
     "output_type": "stream",
     "text": [
      "🌐 구글 번역:  10%|▉         | 49/509 [23:11<3:27:39, 27.09s/it]"
     ]
    },
    {
     "name": "stdout",
     "output_type": "stream",
     "text": [
      "배치 49 완료: 980/10180개 처리됨 (평균 1.4초/개, 예상 남은시간: 217.7분)\n"
     ]
    },
    {
     "name": "stderr",
     "output_type": "stream",
     "text": [
      "🌐 구글 번역:  10%|▉         | 50/509 [23:39<3:28:32, 27.26s/it]"
     ]
    },
    {
     "name": "stdout",
     "output_type": "stream",
     "text": [
      "배치 50 완료: 1000/10180개 처리됨 (평균 1.4초/개, 예상 남은시간: 217.1분)\n"
     ]
    },
    {
     "name": "stderr",
     "output_type": "stream",
     "text": [
      "🌐 구글 번역:  10%|█         | 51/509 [24:07<3:30:47, 27.61s/it]"
     ]
    },
    {
     "name": "stdout",
     "output_type": "stream",
     "text": [
      "배치 51 완료: 1020/10180개 처리됨 (평균 1.4초/개, 예상 남은시간: 216.7분)\n",
      "번역 시도 1 실패: the JSON object must be str, bytes or bytearray, not NoneType\n"
     ]
    },
    {
     "name": "stderr",
     "output_type": "stream",
     "text": [
      "🌐 구글 번역:  10%|█         | 52/509 [24:37<3:34:33, 28.17s/it]"
     ]
    },
    {
     "name": "stdout",
     "output_type": "stream",
     "text": [
      "배치 52 완료: 1040/10180개 처리됨 (평균 1.4초/개, 예상 남은시간: 216.4분)\n"
     ]
    },
    {
     "name": "stderr",
     "output_type": "stream",
     "text": [
      "🌐 구글 번역:  10%|█         | 53/509 [25:06<3:36:03, 28.43s/it]"
     ]
    },
    {
     "name": "stdout",
     "output_type": "stream",
     "text": [
      "배치 53 완료: 1060/10180개 처리됨 (평균 1.4초/개, 예상 남은시간: 216.0분)\n"
     ]
    },
    {
     "name": "stderr",
     "output_type": "stream",
     "text": [
      "🌐 구글 번역:  11%|█         | 54/509 [25:37<3:41:39, 29.23s/it]"
     ]
    },
    {
     "name": "stdout",
     "output_type": "stream",
     "text": [
      "배치 54 완료: 1080/10180개 처리됨 (평균 1.4초/개, 예상 남은시간: 215.9분)\n"
     ]
    },
    {
     "name": "stderr",
     "output_type": "stream",
     "text": [
      "🌐 구글 번역:  11%|█         | 55/509 [26:07<3:43:33, 29.54s/it]"
     ]
    },
    {
     "name": "stdout",
     "output_type": "stream",
     "text": [
      "배치 55 완료: 1100/10180개 처리됨 (평균 1.4초/개, 예상 남은시간: 215.6분)\n"
     ]
    },
    {
     "name": "stderr",
     "output_type": "stream",
     "text": [
      "🌐 구글 번역:  11%|█         | 56/509 [26:37<3:43:45, 29.64s/it]"
     ]
    },
    {
     "name": "stdout",
     "output_type": "stream",
     "text": [
      "배치 56 완료: 1120/10180개 처리됨 (평균 1.4초/개, 예상 남은시간: 215.4분)\n"
     ]
    },
    {
     "name": "stderr",
     "output_type": "stream",
     "text": [
      "🌐 구글 번역:  11%|█         | 57/509 [27:05<3:39:34, 29.15s/it]"
     ]
    },
    {
     "name": "stdout",
     "output_type": "stream",
     "text": [
      "배치 57 완료: 1140/10180개 처리됨 (평균 1.4초/개, 예상 남은시간: 214.8분)\n"
     ]
    },
    {
     "name": "stderr",
     "output_type": "stream",
     "text": [
      "🌐 구글 번역:  11%|█▏        | 58/509 [27:39<3:51:28, 30.79s/it]"
     ]
    },
    {
     "name": "stdout",
     "output_type": "stream",
     "text": [
      "배치 58 완료: 1160/10180개 처리됨 (평균 1.4초/개, 예상 남은시간: 215.1분)\n"
     ]
    },
    {
     "name": "stderr",
     "output_type": "stream",
     "text": [
      "🌐 구글 번역:  12%|█▏        | 59/509 [28:11<3:52:04, 30.94s/it]"
     ]
    },
    {
     "name": "stdout",
     "output_type": "stream",
     "text": [
      "배치 59 완료: 1180/10180개 처리됨 (평균 1.4초/개, 예상 남은시간: 215.0분)\n"
     ]
    },
    {
     "name": "stderr",
     "output_type": "stream",
     "text": [
      "🌐 구글 번역:  12%|█▏        | 60/509 [28:38<3:43:22, 29.85s/it]"
     ]
    },
    {
     "name": "stdout",
     "output_type": "stream",
     "text": [
      "배치 60 완료: 1200/10180개 처리됨 (평균 1.4초/개, 예상 남은시간: 214.3분)\n"
     ]
    },
    {
     "name": "stderr",
     "output_type": "stream",
     "text": [
      "🌐 구글 번역:  12%|█▏        | 61/509 [29:10<3:48:23, 30.59s/it]"
     ]
    },
    {
     "name": "stdout",
     "output_type": "stream",
     "text": [
      "배치 61 완료: 1220/10180개 처리됨 (평균 1.4초/개, 예상 남은시간: 214.3분)\n"
     ]
    },
    {
     "name": "stderr",
     "output_type": "stream",
     "text": [
      "🌐 구글 번역:  12%|█▏        | 62/509 [29:36<3:36:19, 29.04s/it]"
     ]
    },
    {
     "name": "stdout",
     "output_type": "stream",
     "text": [
      "배치 62 완료: 1240/10180개 처리됨 (평균 1.4초/개, 예상 남은시간: 213.4분)\n"
     ]
    },
    {
     "name": "stderr",
     "output_type": "stream",
     "text": [
      "🌐 구글 번역:  12%|█▏        | 63/509 [30:02<3:29:29, 28.18s/it]"
     ]
    },
    {
     "name": "stdout",
     "output_type": "stream",
     "text": [
      "배치 63 완료: 1260/10180개 처리됨 (평균 1.4초/개, 예상 남은시간: 212.7분)\n"
     ]
    },
    {
     "name": "stderr",
     "output_type": "stream",
     "text": [
      "🌐 구글 번역:  13%|█▎        | 64/509 [30:26<3:20:34, 27.04s/it]"
     ]
    },
    {
     "name": "stdout",
     "output_type": "stream",
     "text": [
      "배치 64 완료: 1280/10180개 처리됨 (평균 1.4초/개, 예상 남은시간: 211.7분)\n"
     ]
    },
    {
     "name": "stderr",
     "output_type": "stream",
     "text": [
      "🌐 구글 번역:  13%|█▎        | 65/509 [30:55<3:24:03, 27.58s/it]"
     ]
    },
    {
     "name": "stdout",
     "output_type": "stream",
     "text": [
      "배치 65 완료: 1300/10180개 처리됨 (평균 1.4초/개, 예상 남은시간: 211.3분)\n"
     ]
    },
    {
     "name": "stderr",
     "output_type": "stream",
     "text": [
      "🌐 구글 번역:  13%|█▎        | 66/509 [31:24<3:26:59, 28.03s/it]"
     ]
    },
    {
     "name": "stdout",
     "output_type": "stream",
     "text": [
      "배치 66 완료: 1320/10180개 처리됨 (평균 1.4초/개, 예상 남은시간: 210.8분)\n"
     ]
    },
    {
     "name": "stderr",
     "output_type": "stream",
     "text": [
      "🌐 구글 번역:  13%|█▎        | 67/509 [31:52<3:25:51, 27.94s/it]"
     ]
    },
    {
     "name": "stdout",
     "output_type": "stream",
     "text": [
      "배치 67 완료: 1340/10180개 처리됨 (평균 1.4초/개, 예상 남은시간: 210.3분)\n"
     ]
    },
    {
     "name": "stderr",
     "output_type": "stream",
     "text": [
      "🌐 구글 번역:  13%|█▎        | 68/509 [32:18<3:21:18, 27.39s/it]"
     ]
    },
    {
     "name": "stdout",
     "output_type": "stream",
     "text": [
      "배치 68 완료: 1360/10180개 처리됨 (평균 1.4초/개, 예상 남은시간: 209.5분)\n"
     ]
    },
    {
     "name": "stderr",
     "output_type": "stream",
     "text": [
      "🌐 구글 번역:  14%|█▎        | 69/509 [32:46<3:21:29, 27.48s/it]"
     ]
    },
    {
     "name": "stdout",
     "output_type": "stream",
     "text": [
      "배치 69 완료: 1380/10180개 처리됨 (평균 1.4초/개, 예상 남은시간: 209.0분)\n"
     ]
    },
    {
     "name": "stderr",
     "output_type": "stream",
     "text": [
      "🌐 구글 번역:  14%|█▍        | 70/509 [33:14<3:23:02, 27.75s/it]"
     ]
    },
    {
     "name": "stdout",
     "output_type": "stream",
     "text": [
      "배치 70 완료: 1400/10180개 처리됨 (평균 1.4초/개, 예상 남은시간: 208.5분)\n"
     ]
    },
    {
     "name": "stderr",
     "output_type": "stream",
     "text": [
      "🌐 구글 번역:  14%|█▍        | 71/509 [33:39<3:16:56, 26.98s/it]"
     ]
    },
    {
     "name": "stdout",
     "output_type": "stream",
     "text": [
      "배치 71 완료: 1420/10180개 처리됨 (평균 1.4초/개, 예상 남은시간: 207.7분)\n"
     ]
    },
    {
     "name": "stderr",
     "output_type": "stream",
     "text": [
      "🌐 구글 번역:  14%|█▍        | 72/509 [34:04<3:11:27, 26.29s/it]"
     ]
    },
    {
     "name": "stdout",
     "output_type": "stream",
     "text": [
      "배치 72 완료: 1440/10180개 처리됨 (평균 1.4초/개, 예상 남은시간: 206.8분)\n"
     ]
    },
    {
     "name": "stderr",
     "output_type": "stream",
     "text": [
      "🌐 구글 번역:  14%|█▍        | 73/509 [34:31<3:13:34, 26.64s/it]"
     ]
    },
    {
     "name": "stdout",
     "output_type": "stream",
     "text": [
      "배치 73 완료: 1460/10180개 처리됨 (평균 1.4초/개, 예상 남은시간: 206.3분)\n"
     ]
    },
    {
     "name": "stderr",
     "output_type": "stream",
     "text": [
      "🌐 구글 번역:  15%|█▍        | 74/509 [34:57<3:09:45, 26.17s/it]"
     ]
    },
    {
     "name": "stdout",
     "output_type": "stream",
     "text": [
      "배치 74 완료: 1480/10180개 처리됨 (평균 1.4초/개, 예상 남은시간: 205.5분)\n"
     ]
    },
    {
     "name": "stderr",
     "output_type": "stream",
     "text": [
      "🌐 구글 번역:  15%|█▍        | 75/509 [35:26<3:16:31, 27.17s/it]"
     ]
    },
    {
     "name": "stdout",
     "output_type": "stream",
     "text": [
      "배치 75 완료: 1500/10180개 처리됨 (평균 1.4초/개, 예상 남은시간: 205.1분)\n"
     ]
    },
    {
     "name": "stderr",
     "output_type": "stream",
     "text": [
      "🌐 구글 번역:  15%|█▍        | 76/509 [35:51<3:11:09, 26.49s/it]"
     ]
    },
    {
     "name": "stdout",
     "output_type": "stream",
     "text": [
      "배치 76 완료: 1520/10180개 처리됨 (평균 1.4초/개, 예상 남은시간: 204.3분)\n"
     ]
    },
    {
     "name": "stderr",
     "output_type": "stream",
     "text": [
      "🌐 구글 번역:  15%|█▌        | 77/509 [36:18<3:10:59, 26.53s/it]"
     ]
    },
    {
     "name": "stdout",
     "output_type": "stream",
     "text": [
      "배치 77 완료: 1540/10180개 처리됨 (평균 1.4초/개, 예상 남은시간: 203.7분)\n"
     ]
    },
    {
     "name": "stderr",
     "output_type": "stream",
     "text": [
      "🌐 구글 번역:  15%|█▌        | 78/509 [36:45<3:12:50, 26.85s/it]"
     ]
    },
    {
     "name": "stdout",
     "output_type": "stream",
     "text": [
      "배치 78 완료: 1560/10180개 처리됨 (평균 1.4초/개, 예상 남은시간: 203.1분)\n"
     ]
    },
    {
     "name": "stderr",
     "output_type": "stream",
     "text": [
      "🌐 구글 번역:  16%|█▌        | 79/509 [37:13<3:14:27, 27.13s/it]"
     ]
    },
    {
     "name": "stdout",
     "output_type": "stream",
     "text": [
      "배치 79 완료: 1580/10180개 처리됨 (평균 1.4초/개, 예상 남은시간: 202.6분)\n"
     ]
    },
    {
     "name": "stderr",
     "output_type": "stream",
     "text": [
      "🌐 구글 번역:  16%|█▌        | 80/509 [37:40<3:13:17, 27.03s/it]"
     ]
    },
    {
     "name": "stdout",
     "output_type": "stream",
     "text": [
      "배치 80 완료: 1600/10180개 처리됨 (평균 1.4초/개, 예상 남은시간: 202.0분)\n"
     ]
    },
    {
     "name": "stderr",
     "output_type": "stream",
     "text": [
      "🌐 구글 번역:  16%|█▌        | 81/509 [38:08<3:16:27, 27.54s/it]"
     ]
    },
    {
     "name": "stdout",
     "output_type": "stream",
     "text": [
      "배치 81 완료: 1620/10180개 처리됨 (평균 1.4초/개, 예상 남은시간: 201.6분)\n"
     ]
    },
    {
     "name": "stderr",
     "output_type": "stream",
     "text": [
      "🌐 구글 번역:  16%|█▌        | 82/509 [38:37<3:17:30, 27.75s/it]"
     ]
    },
    {
     "name": "stdout",
     "output_type": "stream",
     "text": [
      "배치 82 완료: 1640/10180개 처리됨 (평균 1.4초/개, 예상 남은시간: 201.1분)\n"
     ]
    },
    {
     "name": "stderr",
     "output_type": "stream",
     "text": [
      "🌐 구글 번역:  16%|█▋        | 83/509 [39:06<3:20:00, 28.17s/it]"
     ]
    },
    {
     "name": "stdout",
     "output_type": "stream",
     "text": [
      "배치 83 완료: 1660/10180개 처리됨 (평균 1.4초/개, 예상 남은시간: 200.7분)\n"
     ]
    },
    {
     "name": "stderr",
     "output_type": "stream",
     "text": [
      "🌐 구글 번역:  17%|█▋        | 84/509 [39:33<3:18:04, 27.96s/it]"
     ]
    },
    {
     "name": "stdout",
     "output_type": "stream",
     "text": [
      "배치 84 완료: 1680/10180개 처리됨 (평균 1.4초/개, 예상 남은시간: 200.2분)\n"
     ]
    },
    {
     "name": "stderr",
     "output_type": "stream",
     "text": [
      "🌐 구글 번역:  17%|█▋        | 85/509 [40:04<3:22:30, 28.66s/it]"
     ]
    },
    {
     "name": "stdout",
     "output_type": "stream",
     "text": [
      "배치 85 완료: 1700/10180개 처리됨 (평균 1.4초/개, 예상 남은시간: 199.9분)\n"
     ]
    },
    {
     "name": "stderr",
     "output_type": "stream",
     "text": [
      "🌐 구글 번역:  17%|█▋        | 86/509 [40:36<3:29:00, 29.65s/it]"
     ]
    },
    {
     "name": "stdout",
     "output_type": "stream",
     "text": [
      "배치 86 완료: 1720/10180개 처리됨 (평균 1.4초/개, 예상 남은시간: 199.7분)\n"
     ]
    },
    {
     "name": "stderr",
     "output_type": "stream",
     "text": [
      "🌐 구글 번역:  17%|█▋        | 87/509 [41:05<3:28:56, 29.71s/it]"
     ]
    },
    {
     "name": "stdout",
     "output_type": "stream",
     "text": [
      "배치 87 완료: 1740/10180개 처리됨 (평균 1.4초/개, 예상 남은시간: 199.4분)\n"
     ]
    },
    {
     "name": "stderr",
     "output_type": "stream",
     "text": [
      "🌐 구글 번역:  17%|█▋        | 88/509 [41:34<3:25:42, 29.32s/it]"
     ]
    },
    {
     "name": "stdout",
     "output_type": "stream",
     "text": [
      "배치 88 완료: 1760/10180개 처리됨 (평균 1.4초/개, 예상 남은시간: 198.9분)\n"
     ]
    },
    {
     "name": "stderr",
     "output_type": "stream",
     "text": [
      "🌐 구글 번역:  17%|█▋        | 89/509 [42:04<3:26:08, 29.45s/it]"
     ]
    },
    {
     "name": "stdout",
     "output_type": "stream",
     "text": [
      "배치 89 완료: 1780/10180개 처리됨 (평균 1.4초/개, 예상 남은시간: 198.5분)\n"
     ]
    },
    {
     "name": "stderr",
     "output_type": "stream",
     "text": [
      "🌐 구글 번역:  18%|█▊        | 90/509 [42:32<3:23:37, 29.16s/it]"
     ]
    },
    {
     "name": "stdout",
     "output_type": "stream",
     "text": [
      "배치 90 완료: 1800/10180개 처리됨 (평균 1.4초/개, 예상 남은시간: 198.1분)\n"
     ]
    },
    {
     "name": "stderr",
     "output_type": "stream",
     "text": [
      "🌐 구글 번역:  18%|█▊        | 91/509 [43:02<3:23:54, 29.27s/it]"
     ]
    },
    {
     "name": "stdout",
     "output_type": "stream",
     "text": [
      "배치 91 완료: 1820/10180개 처리됨 (평균 1.4초/개, 예상 남은시간: 197.7분)\n"
     ]
    },
    {
     "name": "stderr",
     "output_type": "stream",
     "text": [
      "🌐 구글 번역:  18%|█▊        | 92/509 [43:30<3:22:38, 29.16s/it]"
     ]
    },
    {
     "name": "stdout",
     "output_type": "stream",
     "text": [
      "배치 92 완료: 1840/10180개 처리됨 (평균 1.4초/개, 예상 남은시간: 197.2분)\n"
     ]
    },
    {
     "name": "stderr",
     "output_type": "stream",
     "text": [
      "🌐 구글 번역:  18%|█▊        | 93/509 [44:00<3:22:48, 29.25s/it]"
     ]
    },
    {
     "name": "stdout",
     "output_type": "stream",
     "text": [
      "배치 93 완료: 1860/10180개 처리됨 (평균 1.4초/개, 예상 남은시간: 196.9분)\n"
     ]
    },
    {
     "name": "stderr",
     "output_type": "stream",
     "text": [
      "🌐 구글 번역:  18%|█▊        | 94/509 [44:28<3:19:58, 28.91s/it]"
     ]
    },
    {
     "name": "stdout",
     "output_type": "stream",
     "text": [
      "배치 94 완료: 1880/10180개 처리됨 (평균 1.4초/개, 예상 남은시간: 196.4분)\n"
     ]
    },
    {
     "name": "stderr",
     "output_type": "stream",
     "text": [
      "🌐 구글 번역:  19%|█▊        | 95/509 [45:01<3:28:24, 30.21s/it]"
     ]
    },
    {
     "name": "stdout",
     "output_type": "stream",
     "text": [
      "배치 95 완료: 1900/10180개 처리됨 (평균 1.4초/개, 예상 남은시간: 196.2분)\n"
     ]
    },
    {
     "name": "stderr",
     "output_type": "stream",
     "text": [
      "🌐 구글 번역:  19%|█▉        | 96/509 [45:33<3:29:58, 30.51s/it]"
     ]
    },
    {
     "name": "stdout",
     "output_type": "stream",
     "text": [
      "배치 96 완료: 1920/10180개 처리됨 (평균 1.4초/개, 예상 남은시간: 196.0분)\n"
     ]
    },
    {
     "name": "stderr",
     "output_type": "stream",
     "text": [
      "🌐 구글 번역:  19%|█▉        | 97/509 [46:02<3:27:47, 30.26s/it]"
     ]
    },
    {
     "name": "stdout",
     "output_type": "stream",
     "text": [
      "배치 97 완료: 1940/10180개 처리됨 (평균 1.4초/개, 예상 남은시간: 195.6분)\n"
     ]
    },
    {
     "name": "stderr",
     "output_type": "stream",
     "text": [
      "🌐 구글 번역:  19%|█▉        | 98/509 [46:30<3:22:54, 29.62s/it]"
     ]
    },
    {
     "name": "stdout",
     "output_type": "stream",
     "text": [
      "배치 98 완료: 1960/10180개 처리됨 (평균 1.4초/개, 예상 남은시간: 195.1분)\n"
     ]
    },
    {
     "name": "stderr",
     "output_type": "stream",
     "text": [
      "🌐 구글 번역:  19%|█▉        | 99/509 [46:57<3:16:01, 28.69s/it]"
     ]
    },
    {
     "name": "stdout",
     "output_type": "stream",
     "text": [
      "배치 99 완료: 1980/10180개 처리됨 (평균 1.4초/개, 예상 남은시간: 194.5분)\n"
     ]
    },
    {
     "name": "stderr",
     "output_type": "stream",
     "text": [
      "🌐 구글 번역:  20%|█▉        | 100/509 [47:23<3:10:32, 27.95s/it]"
     ]
    },
    {
     "name": "stdout",
     "output_type": "stream",
     "text": [
      "배치 100 완료: 2000/10180개 처리됨 (평균 1.4초/개, 예상 남은시간: 193.8분)\n"
     ]
    },
    {
     "name": "stderr",
     "output_type": "stream",
     "text": [
      "🌐 구글 번역:  20%|█▉        | 101/509 [47:51<3:09:49, 27.92s/it]"
     ]
    },
    {
     "name": "stdout",
     "output_type": "stream",
     "text": [
      "배치 101 완료: 2020/10180개 처리됨 (평균 1.4초/개, 예상 남은시간: 193.3분)\n"
     ]
    },
    {
     "name": "stderr",
     "output_type": "stream",
     "text": [
      "🌐 구글 번역:  20%|██        | 102/509 [48:21<3:12:48, 28.42s/it]"
     ]
    },
    {
     "name": "stdout",
     "output_type": "stream",
     "text": [
      "배치 102 완료: 2040/10180개 처리됨 (평균 1.4초/개, 예상 남은시간: 192.9분)\n"
     ]
    },
    {
     "name": "stderr",
     "output_type": "stream",
     "text": [
      "🌐 구글 번역:  20%|██        | 103/509 [48:56<3:26:06, 30.46s/it]"
     ]
    },
    {
     "name": "stdout",
     "output_type": "stream",
     "text": [
      "배치 103 완료: 2060/10180개 처리됨 (평균 1.4초/개, 예상 남은시간: 192.9분)\n"
     ]
    },
    {
     "name": "stderr",
     "output_type": "stream",
     "text": [
      "🌐 구글 번역:  20%|██        | 104/509 [49:29<3:30:46, 31.23s/it]"
     ]
    },
    {
     "name": "stdout",
     "output_type": "stream",
     "text": [
      "배치 104 완료: 2080/10180개 처리됨 (평균 1.4초/개, 예상 남은시간: 192.7분)\n"
     ]
    },
    {
     "name": "stderr",
     "output_type": "stream",
     "text": [
      "🌐 구글 번역:  21%|██        | 105/509 [50:00<3:30:49, 31.31s/it]"
     ]
    },
    {
     "name": "stdout",
     "output_type": "stream",
     "text": [
      "배치 105 완료: 2100/10180개 처리됨 (평균 1.4초/개, 예상 남은시간: 192.4분)\n"
     ]
    },
    {
     "name": "stderr",
     "output_type": "stream",
     "text": [
      "🌐 구글 번역:  21%|██        | 106/509 [50:33<3:32:20, 31.61s/it]"
     ]
    },
    {
     "name": "stdout",
     "output_type": "stream",
     "text": [
      "배치 106 완료: 2120/10180개 처리됨 (평균 1.4초/개, 예상 남은시간: 192.2분)\n"
     ]
    },
    {
     "name": "stderr",
     "output_type": "stream",
     "text": [
      "🌐 구글 번역:  21%|██        | 107/509 [51:02<3:28:06, 31.06s/it]"
     ]
    },
    {
     "name": "stdout",
     "output_type": "stream",
     "text": [
      "배치 107 완료: 2140/10180개 처리됨 (평균 1.4초/개, 예상 남은시간: 191.8분)\n"
     ]
    },
    {
     "name": "stderr",
     "output_type": "stream",
     "text": [
      "🌐 구글 번역:  21%|██        | 108/509 [51:30<3:19:50, 29.90s/it]"
     ]
    },
    {
     "name": "stdout",
     "output_type": "stream",
     "text": [
      "배치 108 완료: 2160/10180개 처리됨 (평균 1.4초/개, 예상 남은시간: 191.2분)\n"
     ]
    },
    {
     "name": "stderr",
     "output_type": "stream",
     "text": [
      "🌐 구글 번역:  21%|██▏       | 109/509 [51:58<3:16:00, 29.40s/it]"
     ]
    },
    {
     "name": "stdout",
     "output_type": "stream",
     "text": [
      "배치 109 완료: 2180/10180개 처리됨 (평균 1.4초/개, 예상 남은시간: 190.7분)\n"
     ]
    },
    {
     "name": "stderr",
     "output_type": "stream",
     "text": [
      "🌐 구글 번역:  22%|██▏       | 110/509 [52:27<3:15:06, 29.34s/it]"
     ]
    },
    {
     "name": "stdout",
     "output_type": "stream",
     "text": [
      "배치 110 완료: 2200/10180개 처리됨 (평균 1.4초/개, 예상 남은시간: 190.3분)\n"
     ]
    },
    {
     "name": "stderr",
     "output_type": "stream",
     "text": [
      "🌐 구글 번역:  22%|██▏       | 111/509 [52:52<3:06:14, 28.08s/it]"
     ]
    },
    {
     "name": "stdout",
     "output_type": "stream",
     "text": [
      "배치 111 완료: 2220/10180개 처리됨 (평균 1.4초/개, 예상 남은시간: 189.6분)\n"
     ]
    },
    {
     "name": "stderr",
     "output_type": "stream",
     "text": [
      "🌐 구글 번역:  22%|██▏       | 112/509 [53:21<3:08:20, 28.47s/it]"
     ]
    },
    {
     "name": "stdout",
     "output_type": "stream",
     "text": [
      "배치 112 완료: 2240/10180개 처리됨 (평균 1.4초/개, 예상 남은시간: 189.2분)\n"
     ]
    },
    {
     "name": "stderr",
     "output_type": "stream",
     "text": [
      "🌐 구글 번역:  22%|██▏       | 113/509 [53:53<3:13:06, 29.26s/it]"
     ]
    },
    {
     "name": "stdout",
     "output_type": "stream",
     "text": [
      "배치 113 완료: 2260/10180개 처리됨 (평균 1.4초/개, 예상 남은시간: 188.8분)\n",
      "번역 시도 1 실패: The read operation timed out\n"
     ]
    },
    {
     "name": "stderr",
     "output_type": "stream",
     "text": [
      "🌐 구글 번역:  22%|██▏       | 114/509 [54:32<3:32:59, 32.35s/it]"
     ]
    },
    {
     "name": "stdout",
     "output_type": "stream",
     "text": [
      "배치 114 완료: 2280/10180개 처리됨 (평균 1.4초/개, 예상 남은시간: 189.0분)\n"
     ]
    },
    {
     "name": "stderr",
     "output_type": "stream",
     "text": [
      "🌐 구글 번역:  23%|██▎       | 115/509 [54:59<3:21:41, 30.72s/it]"
     ]
    },
    {
     "name": "stdout",
     "output_type": "stream",
     "text": [
      "배치 115 완료: 2300/10180개 처리됨 (평균 1.4초/개, 예상 남은시간: 188.4분)\n"
     ]
    },
    {
     "name": "stderr",
     "output_type": "stream",
     "text": [
      "🌐 구글 번역:  23%|██▎       | 116/509 [55:28<3:18:02, 30.23s/it]"
     ]
    },
    {
     "name": "stdout",
     "output_type": "stream",
     "text": [
      "배치 116 완료: 2320/10180개 처리됨 (평균 1.4초/개, 예상 남은시간: 188.0분)\n"
     ]
    },
    {
     "name": "stderr",
     "output_type": "stream",
     "text": [
      "🌐 구글 번역:  23%|██▎       | 117/509 [55:59<3:18:36, 30.40s/it]"
     ]
    },
    {
     "name": "stdout",
     "output_type": "stream",
     "text": [
      "배치 117 완료: 2340/10180개 처리됨 (평균 1.4초/개, 예상 남은시간: 187.6분)\n"
     ]
    },
    {
     "name": "stderr",
     "output_type": "stream",
     "text": [
      "🌐 구글 번역:  23%|██▎       | 118/509 [56:29<3:17:51, 30.36s/it]"
     ]
    },
    {
     "name": "stdout",
     "output_type": "stream",
     "text": [
      "배치 118 완료: 2360/10180개 처리됨 (평균 1.4초/개, 예상 남은시간: 187.2분)\n"
     ]
    },
    {
     "name": "stderr",
     "output_type": "stream",
     "text": [
      "🌐 구글 번역:  23%|██▎       | 119/509 [57:00<3:17:23, 30.37s/it]"
     ]
    },
    {
     "name": "stdout",
     "output_type": "stream",
     "text": [
      "배치 119 완료: 2380/10180개 처리됨 (평균 1.4초/개, 예상 남은시간: 186.8분)\n"
     ]
    },
    {
     "name": "stderr",
     "output_type": "stream",
     "text": [
      "🌐 구글 번역:  24%|██▎       | 120/509 [57:29<3:15:40, 30.18s/it]"
     ]
    },
    {
     "name": "stdout",
     "output_type": "stream",
     "text": [
      "배치 120 완료: 2400/10180개 처리됨 (평균 1.4초/개, 예상 남은시간: 186.4분)\n"
     ]
    },
    {
     "name": "stderr",
     "output_type": "stream",
     "text": [
      "🌐 구글 번역:  24%|██▍       | 121/509 [57:57<3:09:30, 29.30s/it]"
     ]
    },
    {
     "name": "stdout",
     "output_type": "stream",
     "text": [
      "배치 121 완료: 2420/10180개 처리됨 (평균 1.4초/개, 예상 남은시간: 185.8분)\n"
     ]
    },
    {
     "name": "stderr",
     "output_type": "stream",
     "text": [
      "🌐 구글 번역:  24%|██▍       | 122/509 [58:24<3:05:06, 28.70s/it]"
     ]
    },
    {
     "name": "stdout",
     "output_type": "stream",
     "text": [
      "배치 122 완료: 2440/10180개 처리됨 (평균 1.4초/개, 예상 남은시간: 185.3분)\n"
     ]
    },
    {
     "name": "stderr",
     "output_type": "stream",
     "text": [
      "🌐 구글 번역:  24%|██▍       | 123/509 [58:57<3:12:30, 29.92s/it]"
     ]
    },
    {
     "name": "stdout",
     "output_type": "stream",
     "text": [
      "배치 123 완료: 2460/10180개 처리됨 (평균 1.4초/개, 예상 남은시간: 185.0분)\n"
     ]
    },
    {
     "name": "stderr",
     "output_type": "stream",
     "text": [
      "🌐 구글 번역:  24%|██▍       | 124/509 [59:28<3:13:53, 30.22s/it]"
     ]
    },
    {
     "name": "stdout",
     "output_type": "stream",
     "text": [
      "배치 124 완료: 2480/10180개 처리됨 (평균 1.4초/개, 예상 남은시간: 184.6분)\n"
     ]
    },
    {
     "name": "stderr",
     "output_type": "stream",
     "text": [
      "🌐 구글 번역:  25%|██▍       | 125/509 [59:55<3:08:59, 29.53s/it]"
     ]
    },
    {
     "name": "stdout",
     "output_type": "stream",
     "text": [
      "배치 125 완료: 2500/10180개 처리됨 (평균 1.4초/개, 예상 남은시간: 184.1분)\n"
     ]
    },
    {
     "name": "stderr",
     "output_type": "stream",
     "text": [
      "🌐 구글 번역:  25%|██▍       | 126/509 [1:00:28<3:14:02, 30.40s/it]"
     ]
    },
    {
     "name": "stdout",
     "output_type": "stream",
     "text": [
      "배치 126 완료: 2520/10180개 처리됨 (평균 1.4초/개, 예상 남은시간: 183.8분)\n"
     ]
    },
    {
     "name": "stderr",
     "output_type": "stream",
     "text": [
      "🌐 구글 번역:  25%|██▍       | 127/509 [1:01:00<3:15:51, 30.76s/it]"
     ]
    },
    {
     "name": "stdout",
     "output_type": "stream",
     "text": [
      "배치 127 완료: 2540/10180개 처리됨 (평균 1.4초/개, 예상 남은시간: 183.5분)\n"
     ]
    },
    {
     "name": "stderr",
     "output_type": "stream",
     "text": [
      "🌐 구글 번역:  25%|██▌       | 128/509 [1:01:27<3:10:01, 29.93s/it]"
     ]
    },
    {
     "name": "stdout",
     "output_type": "stream",
     "text": [
      "배치 128 완료: 2560/10180개 처리됨 (평균 1.4초/개, 예상 남은시간: 183.0분)\n"
     ]
    },
    {
     "name": "stderr",
     "output_type": "stream",
     "text": [
      "🌐 구글 번역:  25%|██▌       | 129/509 [1:01:57<3:08:53, 29.83s/it]"
     ]
    },
    {
     "name": "stdout",
     "output_type": "stream",
     "text": [
      "배치 129 완료: 2580/10180개 처리됨 (평균 1.4초/개, 예상 남은시간: 182.5분)\n"
     ]
    },
    {
     "name": "stderr",
     "output_type": "stream",
     "text": [
      "🌐 구글 번역:  26%|██▌       | 130/509 [1:02:27<3:09:07, 29.94s/it]"
     ]
    },
    {
     "name": "stdout",
     "output_type": "stream",
     "text": [
      "배치 130 완료: 2600/10180개 처리됨 (평균 1.4초/개, 예상 남은시간: 182.1분)\n"
     ]
    },
    {
     "name": "stderr",
     "output_type": "stream",
     "text": [
      "🌐 구글 번역:  26%|██▌       | 131/509 [1:02:56<3:06:54, 29.67s/it]"
     ]
    },
    {
     "name": "stdout",
     "output_type": "stream",
     "text": [
      "배치 131 완료: 2620/10180개 처리됨 (평균 1.4초/개, 예상 남은시간: 181.6분)\n"
     ]
    },
    {
     "name": "stderr",
     "output_type": "stream",
     "text": [
      "🌐 구글 번역:  26%|██▌       | 132/509 [1:03:26<3:06:38, 29.70s/it]"
     ]
    },
    {
     "name": "stdout",
     "output_type": "stream",
     "text": [
      "배치 132 완료: 2640/10180개 처리됨 (평균 1.4초/개, 예상 남은시간: 181.2분)\n"
     ]
    },
    {
     "name": "stderr",
     "output_type": "stream",
     "text": [
      "🌐 구글 번역:  26%|██▌       | 133/509 [1:03:56<3:06:49, 29.81s/it]"
     ]
    },
    {
     "name": "stdout",
     "output_type": "stream",
     "text": [
      "배치 133 완료: 2660/10180개 처리됨 (평균 1.4초/개, 예상 남은시간: 180.8분)\n"
     ]
    },
    {
     "name": "stderr",
     "output_type": "stream",
     "text": [
      "🌐 구글 번역:  26%|██▋       | 134/509 [1:04:28<3:09:44, 30.36s/it]"
     ]
    },
    {
     "name": "stdout",
     "output_type": "stream",
     "text": [
      "배치 134 완료: 2680/10180개 처리됨 (평균 1.4초/개, 예상 남은시간: 180.4분)\n"
     ]
    },
    {
     "name": "stderr",
     "output_type": "stream",
     "text": [
      "🌐 구글 번역:  27%|██▋       | 135/509 [1:04:57<3:06:29, 29.92s/it]"
     ]
    },
    {
     "name": "stdout",
     "output_type": "stream",
     "text": [
      "배치 135 완료: 2700/10180개 처리됨 (평균 1.4초/개, 예상 남은시간: 179.9분)\n"
     ]
    },
    {
     "name": "stderr",
     "output_type": "stream",
     "text": [
      "🌐 구글 번역:  27%|██▋       | 136/509 [1:05:24<3:01:54, 29.26s/it]"
     ]
    },
    {
     "name": "stdout",
     "output_type": "stream",
     "text": [
      "배치 136 완료: 2720/10180개 처리됨 (평균 1.4초/개, 예상 남은시간: 179.4분)\n"
     ]
    },
    {
     "name": "stderr",
     "output_type": "stream",
     "text": [
      "🌐 구글 번역:  27%|██▋       | 137/509 [1:05:55<3:03:17, 29.56s/it]"
     ]
    },
    {
     "name": "stdout",
     "output_type": "stream",
     "text": [
      "배치 137 완료: 2740/10180개 처리됨 (평균 1.4초/개, 예상 남은시간: 179.0분)\n"
     ]
    },
    {
     "name": "stderr",
     "output_type": "stream",
     "text": [
      "🌐 구글 번역:  27%|██▋       | 138/509 [1:06:25<3:04:17, 29.81s/it]"
     ]
    },
    {
     "name": "stdout",
     "output_type": "stream",
     "text": [
      "배치 138 완료: 2760/10180개 처리됨 (평균 1.4초/개, 예상 남은시간: 178.6분)\n"
     ]
    },
    {
     "name": "stderr",
     "output_type": "stream",
     "text": [
      "🌐 구글 번역:  27%|██▋       | 139/509 [1:06:56<3:06:11, 30.19s/it]"
     ]
    },
    {
     "name": "stdout",
     "output_type": "stream",
     "text": [
      "배치 139 완료: 2780/10180개 처리됨 (평균 1.4초/개, 예상 남은시간: 178.2분)\n"
     ]
    },
    {
     "name": "stderr",
     "output_type": "stream",
     "text": [
      "🌐 구글 번역:  28%|██▊       | 140/509 [1:07:29<3:09:43, 30.85s/it]"
     ]
    },
    {
     "name": "stdout",
     "output_type": "stream",
     "text": [
      "배치 140 완료: 2800/10180개 처리됨 (평균 1.4초/개, 예상 남은시간: 177.9분)\n"
     ]
    },
    {
     "name": "stderr",
     "output_type": "stream",
     "text": [
      "🌐 구글 번역:  28%|██▊       | 141/509 [1:07:58<3:05:45, 30.29s/it]"
     ]
    },
    {
     "name": "stdout",
     "output_type": "stream",
     "text": [
      "배치 141 완료: 2820/10180개 처리됨 (평균 1.4초/개, 예상 남은시간: 177.4분)\n",
      "번역 시도 1 실패: The read operation timed out\n"
     ]
    },
    {
     "name": "stderr",
     "output_type": "stream",
     "text": [
      "🌐 구글 번역:  28%|██▊       | 142/509 [1:08:35<3:18:13, 32.41s/it]"
     ]
    },
    {
     "name": "stdout",
     "output_type": "stream",
     "text": [
      "배치 142 완료: 2840/10180개 처리됨 (평균 1.4초/개, 예상 남은시간: 177.3분)\n"
     ]
    },
    {
     "name": "stderr",
     "output_type": "stream",
     "text": [
      "🌐 구글 번역:  28%|██▊       | 143/509 [1:09:04<3:12:13, 31.51s/it]"
     ]
    },
    {
     "name": "stdout",
     "output_type": "stream",
     "text": [
      "배치 143 완료: 2860/10180개 처리됨 (평균 1.4초/개, 예상 남은시간: 176.8분)\n"
     ]
    },
    {
     "name": "stderr",
     "output_type": "stream",
     "text": [
      "🌐 구글 번역:  28%|██▊       | 144/509 [1:09:32<3:05:27, 30.49s/it]"
     ]
    },
    {
     "name": "stdout",
     "output_type": "stream",
     "text": [
      "배치 144 완료: 2880/10180개 처리됨 (평균 1.4초/개, 예상 남은시간: 176.3분)\n"
     ]
    },
    {
     "name": "stderr",
     "output_type": "stream",
     "text": [
      "🌐 구글 번역:  28%|██▊       | 145/509 [1:10:01<3:01:46, 29.96s/it]"
     ]
    },
    {
     "name": "stdout",
     "output_type": "stream",
     "text": [
      "배치 145 완료: 2900/10180개 처리됨 (평균 1.4초/개, 예상 남은시간: 175.8분)\n"
     ]
    },
    {
     "name": "stderr",
     "output_type": "stream",
     "text": [
      "🌐 구글 번역:  29%|██▊       | 146/509 [1:10:30<2:59:31, 29.67s/it]"
     ]
    },
    {
     "name": "stdout",
     "output_type": "stream",
     "text": [
      "배치 146 완료: 2920/10180개 처리됨 (평균 1.4초/개, 예상 남은시간: 175.3분)\n"
     ]
    },
    {
     "name": "stderr",
     "output_type": "stream",
     "text": [
      "🌐 구글 번역:  29%|██▉       | 147/509 [1:10:59<2:56:46, 29.30s/it]"
     ]
    },
    {
     "name": "stdout",
     "output_type": "stream",
     "text": [
      "배치 147 완료: 2940/10180개 처리됨 (평균 1.4초/개, 예상 남은시간: 174.8분)\n"
     ]
    },
    {
     "name": "stderr",
     "output_type": "stream",
     "text": [
      "🌐 구글 번역:  29%|██▉       | 148/509 [1:11:25<2:51:47, 28.55s/it]"
     ]
    },
    {
     "name": "stdout",
     "output_type": "stream",
     "text": [
      "배치 148 완료: 2960/10180개 처리됨 (평균 1.4초/개, 예상 남은시간: 174.2분)\n"
     ]
    },
    {
     "name": "stderr",
     "output_type": "stream",
     "text": [
      "🌐 구글 번역:  29%|██▉       | 149/509 [1:11:55<2:53:04, 28.85s/it]"
     ]
    },
    {
     "name": "stdout",
     "output_type": "stream",
     "text": [
      "배치 149 완료: 2980/10180개 처리됨 (평균 1.4초/개, 예상 남은시간: 173.8분)\n"
     ]
    },
    {
     "name": "stderr",
     "output_type": "stream",
     "text": [
      "🌐 구글 번역:  29%|██▉       | 150/509 [1:12:24<2:52:13, 28.78s/it]"
     ]
    },
    {
     "name": "stdout",
     "output_type": "stream",
     "text": [
      "배치 150 완료: 3000/10180개 처리됨 (평균 1.4초/개, 예상 남은시간: 173.3분)\n",
      "번역 시도 1 실패: The read operation timed out\n"
     ]
    },
    {
     "name": "stderr",
     "output_type": "stream",
     "text": [
      "🌐 구글 번역:  30%|██▉       | 151/509 [1:12:59<3:02:59, 30.67s/it]"
     ]
    },
    {
     "name": "stdout",
     "output_type": "stream",
     "text": [
      "배치 151 완료: 3020/10180개 처리됨 (평균 1.5초/개, 예상 남은시간: 173.0분)\n"
     ]
    },
    {
     "name": "stderr",
     "output_type": "stream",
     "text": [
      "🌐 구글 번역:  30%|██▉       | 152/509 [1:13:29<3:02:37, 30.69s/it]"
     ]
    },
    {
     "name": "stdout",
     "output_type": "stream",
     "text": [
      "배치 152 완료: 3040/10180개 처리됨 (평균 1.5초/개, 예상 남은시간: 172.6분)\n"
     ]
    },
    {
     "name": "stderr",
     "output_type": "stream",
     "text": [
      "🌐 구글 번역:  30%|███       | 153/509 [1:13:58<2:57:50, 29.97s/it]"
     ]
    },
    {
     "name": "stdout",
     "output_type": "stream",
     "text": [
      "배치 153 완료: 3060/10180개 처리됨 (평균 1.5초/개, 예상 남은시간: 172.1분)\n"
     ]
    },
    {
     "name": "stderr",
     "output_type": "stream",
     "text": [
      "🌐 구글 번역:  30%|███       | 154/509 [1:14:26<2:54:34, 29.51s/it]"
     ]
    },
    {
     "name": "stdout",
     "output_type": "stream",
     "text": [
      "배치 154 완료: 3080/10180개 처리됨 (평균 1.5초/개, 예상 남은시간: 171.6분)\n"
     ]
    },
    {
     "name": "stderr",
     "output_type": "stream",
     "text": [
      "🌐 구글 번역:  30%|███       | 155/509 [1:14:54<2:52:07, 29.17s/it]"
     ]
    },
    {
     "name": "stdout",
     "output_type": "stream",
     "text": [
      "배치 155 완료: 3100/10180개 처리됨 (평균 1.5초/개, 예상 남은시간: 171.1분)\n"
     ]
    },
    {
     "name": "stderr",
     "output_type": "stream",
     "text": [
      "🌐 구글 번역:  31%|███       | 156/509 [1:15:27<2:58:07, 30.27s/it]"
     ]
    },
    {
     "name": "stdout",
     "output_type": "stream",
     "text": [
      "배치 156 완료: 3120/10180개 처리됨 (평균 1.5초/개, 예상 남은시간: 170.8분)\n"
     ]
    },
    {
     "name": "stderr",
     "output_type": "stream",
     "text": [
      "🌐 구글 번역:  31%|███       | 157/509 [1:15:55<2:53:50, 29.63s/it]"
     ]
    },
    {
     "name": "stdout",
     "output_type": "stream",
     "text": [
      "배치 157 완료: 3140/10180개 처리됨 (평균 1.5초/개, 예상 남은시간: 170.2분)\n"
     ]
    },
    {
     "name": "stderr",
     "output_type": "stream",
     "text": [
      "🌐 구글 번역:  31%|███       | 158/509 [1:16:25<2:52:54, 29.56s/it]"
     ]
    },
    {
     "name": "stdout",
     "output_type": "stream",
     "text": [
      "배치 158 완료: 3160/10180개 처리됨 (평균 1.5초/개, 예상 남은시간: 169.8분)\n"
     ]
    },
    {
     "name": "stderr",
     "output_type": "stream",
     "text": [
      "🌐 구글 번역:  31%|███       | 159/509 [1:16:56<2:54:48, 29.97s/it]"
     ]
    },
    {
     "name": "stdout",
     "output_type": "stream",
     "text": [
      "배치 159 완료: 3180/10180개 처리됨 (평균 1.5초/개, 예상 남은시간: 169.4분)\n"
     ]
    },
    {
     "name": "stderr",
     "output_type": "stream",
     "text": [
      "🌐 구글 번역:  31%|███▏      | 160/509 [1:17:24<2:51:25, 29.47s/it]"
     ]
    },
    {
     "name": "stdout",
     "output_type": "stream",
     "text": [
      "배치 160 완료: 3200/10180개 처리됨 (평균 1.5초/개, 예상 남은시간: 168.9분)\n"
     ]
    },
    {
     "name": "stderr",
     "output_type": "stream",
     "text": [
      "🌐 구글 번역:  32%|███▏      | 161/509 [1:17:55<2:53:44, 29.95s/it]"
     ]
    },
    {
     "name": "stdout",
     "output_type": "stream",
     "text": [
      "배치 161 완료: 3220/10180개 처리됨 (평균 1.5초/개, 예상 남은시간: 168.4분)\n"
     ]
    },
    {
     "name": "stderr",
     "output_type": "stream",
     "text": [
      "🌐 구글 번역:  32%|███▏      | 162/509 [1:18:28<2:58:13, 30.82s/it]"
     ]
    },
    {
     "name": "stdout",
     "output_type": "stream",
     "text": [
      "배치 162 완료: 3240/10180개 처리됨 (평균 1.5초/개, 예상 남은시간: 168.1분)\n"
     ]
    },
    {
     "name": "stderr",
     "output_type": "stream",
     "text": [
      "🌐 구글 번역:  32%|███▏      | 163/509 [1:19:01<3:01:14, 31.43s/it]"
     ]
    },
    {
     "name": "stdout",
     "output_type": "stream",
     "text": [
      "배치 163 완료: 3260/10180개 처리됨 (평균 1.5초/개, 예상 남은시간: 167.7분)\n"
     ]
    },
    {
     "name": "stderr",
     "output_type": "stream",
     "text": [
      "🌐 구글 번역:  32%|███▏      | 164/509 [1:19:32<2:59:47, 31.27s/it]"
     ]
    },
    {
     "name": "stdout",
     "output_type": "stream",
     "text": [
      "배치 164 완료: 3280/10180개 처리됨 (평균 1.5초/개, 예상 남은시간: 167.3분)\n"
     ]
    },
    {
     "name": "stderr",
     "output_type": "stream",
     "text": [
      "🌐 구글 번역:  32%|███▏      | 165/509 [1:20:02<2:57:46, 31.01s/it]"
     ]
    },
    {
     "name": "stdout",
     "output_type": "stream",
     "text": [
      "배치 165 완료: 3300/10180개 처리됨 (평균 1.5초/개, 예상 남은시간: 166.9분)\n"
     ]
    },
    {
     "name": "stderr",
     "output_type": "stream",
     "text": [
      "🌐 구글 번역:  33%|███▎      | 166/509 [1:20:39<3:07:46, 32.85s/it]"
     ]
    },
    {
     "name": "stdout",
     "output_type": "stream",
     "text": [
      "배치 166 완료: 3320/10180개 처리됨 (평균 1.5초/개, 예상 남은시간: 166.7분)\n"
     ]
    },
    {
     "name": "stderr",
     "output_type": "stream",
     "text": [
      "🌐 구글 번역:  33%|███▎      | 167/509 [1:21:12<3:07:17, 32.86s/it]"
     ]
    },
    {
     "name": "stdout",
     "output_type": "stream",
     "text": [
      "배치 167 완료: 3340/10180개 처리됨 (평균 1.5초/개, 예상 남은시간: 166.3분)\n"
     ]
    },
    {
     "name": "stderr",
     "output_type": "stream",
     "text": [
      "🌐 구글 번역:  33%|███▎      | 168/509 [1:21:45<3:05:58, 32.72s/it]"
     ]
    },
    {
     "name": "stdout",
     "output_type": "stream",
     "text": [
      "배치 168 완료: 3360/10180개 처리됨 (평균 1.5초/개, 예상 남은시간: 165.9분)\n"
     ]
    },
    {
     "name": "stderr",
     "output_type": "stream",
     "text": [
      "🌐 구글 번역:  33%|███▎      | 169/509 [1:22:13<2:57:49, 31.38s/it]"
     ]
    },
    {
     "name": "stdout",
     "output_type": "stream",
     "text": [
      "배치 169 완료: 3380/10180개 처리됨 (평균 1.5초/개, 예상 남은시간: 165.4분)\n"
     ]
    },
    {
     "name": "stderr",
     "output_type": "stream",
     "text": [
      "🌐 구글 번역:  33%|███▎      | 170/509 [1:22:41<2:52:39, 30.56s/it]"
     ]
    },
    {
     "name": "stdout",
     "output_type": "stream",
     "text": [
      "배치 170 완료: 3400/10180개 처리됨 (평균 1.5초/개, 예상 남은시간: 164.9분)\n"
     ]
    },
    {
     "name": "stderr",
     "output_type": "stream",
     "text": [
      "🌐 구글 번역:  34%|███▎      | 171/509 [1:23:09<2:46:23, 29.54s/it]"
     ]
    },
    {
     "name": "stdout",
     "output_type": "stream",
     "text": [
      "배치 171 완료: 3420/10180개 처리됨 (평균 1.5초/개, 예상 남은시간: 164.4분)\n"
     ]
    },
    {
     "name": "stderr",
     "output_type": "stream",
     "text": [
      "🌐 구글 번역:  34%|███▍      | 172/509 [1:23:39<2:47:51, 29.89s/it]"
     ]
    },
    {
     "name": "stdout",
     "output_type": "stream",
     "text": [
      "배치 172 완료: 3440/10180개 처리됨 (평균 1.5초/개, 예상 남은시간: 163.9분)\n"
     ]
    },
    {
     "name": "stderr",
     "output_type": "stream",
     "text": [
      "🌐 구글 번역:  34%|███▍      | 173/509 [1:24:14<2:56:07, 31.45s/it]"
     ]
    },
    {
     "name": "stdout",
     "output_type": "stream",
     "text": [
      "배치 173 완료: 3460/10180개 처리됨 (평균 1.5초/개, 예상 남은시간: 163.6분)\n"
     ]
    },
    {
     "name": "stderr",
     "output_type": "stream",
     "text": [
      "🌐 구글 번역:  34%|███▍      | 174/509 [1:24:44<2:51:47, 30.77s/it]"
     ]
    },
    {
     "name": "stdout",
     "output_type": "stream",
     "text": [
      "배치 174 완료: 3480/10180개 처리됨 (평균 1.5초/개, 예상 남은시간: 163.1분)\n"
     ]
    },
    {
     "name": "stderr",
     "output_type": "stream",
     "text": [
      "🌐 구글 번역:  34%|███▍      | 175/509 [1:25:11<2:45:52, 29.80s/it]"
     ]
    },
    {
     "name": "stdout",
     "output_type": "stream",
     "text": [
      "배치 175 완료: 3500/10180개 처리됨 (평균 1.5초/개, 예상 남은시간: 162.6분)\n"
     ]
    },
    {
     "name": "stderr",
     "output_type": "stream",
     "text": [
      "🌐 구글 번역:  35%|███▍      | 176/509 [1:25:41<2:46:13, 29.95s/it]"
     ]
    },
    {
     "name": "stdout",
     "output_type": "stream",
     "text": [
      "배치 176 완료: 3520/10180개 처리됨 (평균 1.5초/개, 예상 남은시간: 162.1분)\n"
     ]
    },
    {
     "name": "stderr",
     "output_type": "stream",
     "text": [
      "🌐 구글 번역:  35%|███▍      | 177/509 [1:26:09<2:42:35, 29.38s/it]"
     ]
    },
    {
     "name": "stdout",
     "output_type": "stream",
     "text": [
      "배치 177 완료: 3540/10180개 처리됨 (평균 1.5초/개, 예상 남은시간: 161.6분)\n"
     ]
    },
    {
     "name": "stderr",
     "output_type": "stream",
     "text": [
      "🌐 구글 번역:  35%|███▍      | 178/509 [1:26:38<2:40:49, 29.15s/it]"
     ]
    },
    {
     "name": "stdout",
     "output_type": "stream",
     "text": [
      "배치 178 완료: 3560/10180개 처리됨 (평균 1.5초/개, 예상 남은시간: 161.1분)\n"
     ]
    },
    {
     "name": "stderr",
     "output_type": "stream",
     "text": [
      "🌐 구글 번역:  35%|███▌      | 179/509 [1:27:07<2:40:14, 29.13s/it]"
     ]
    },
    {
     "name": "stdout",
     "output_type": "stream",
     "text": [
      "배치 179 완료: 3580/10180개 처리됨 (평균 1.5초/개, 예상 남은시간: 160.6분)\n"
     ]
    },
    {
     "name": "stderr",
     "output_type": "stream",
     "text": [
      "🌐 구글 번역:  35%|███▌      | 180/509 [1:27:35<2:37:59, 28.81s/it]"
     ]
    },
    {
     "name": "stdout",
     "output_type": "stream",
     "text": [
      "배치 180 완료: 3600/10180개 처리됨 (평균 1.5초/개, 예상 남은시간: 160.1분)\n"
     ]
    },
    {
     "name": "stderr",
     "output_type": "stream",
     "text": [
      "🌐 구글 번역:  36%|███▌      | 181/509 [1:28:06<2:40:08, 29.29s/it]"
     ]
    },
    {
     "name": "stdout",
     "output_type": "stream",
     "text": [
      "배치 181 완료: 3620/10180개 처리됨 (평균 1.5초/개, 예상 남은시간: 159.7분)\n"
     ]
    },
    {
     "name": "stderr",
     "output_type": "stream",
     "text": [
      "🌐 구글 번역:  36%|███▌      | 182/509 [1:28:34<2:37:29, 28.90s/it]"
     ]
    },
    {
     "name": "stdout",
     "output_type": "stream",
     "text": [
      "배치 182 완료: 3640/10180개 처리됨 (평균 1.5초/개, 예상 남은시간: 159.1분)\n"
     ]
    },
    {
     "name": "stderr",
     "output_type": "stream",
     "text": [
      "🌐 구글 번역:  36%|███▌      | 183/509 [1:29:02<2:35:58, 28.71s/it]"
     ]
    },
    {
     "name": "stdout",
     "output_type": "stream",
     "text": [
      "배치 183 완료: 3660/10180개 처리됨 (평균 1.5초/개, 예상 남은시간: 158.6분)\n"
     ]
    },
    {
     "name": "stderr",
     "output_type": "stream",
     "text": [
      "🌐 구글 번역:  36%|███▌      | 184/509 [1:29:32<2:38:25, 29.25s/it]"
     ]
    },
    {
     "name": "stdout",
     "output_type": "stream",
     "text": [
      "배치 184 완료: 3680/10180개 처리됨 (평균 1.5초/개, 예상 남은시간: 158.2분)\n"
     ]
    },
    {
     "name": "stderr",
     "output_type": "stream",
     "text": [
      "🌐 구글 번역:  36%|███▋      | 185/509 [1:30:01<2:36:11, 28.92s/it]"
     ]
    },
    {
     "name": "stdout",
     "output_type": "stream",
     "text": [
      "배치 185 완료: 3700/10180개 처리됨 (평균 1.5초/개, 예상 남은시간: 157.7분)\n"
     ]
    },
    {
     "name": "stderr",
     "output_type": "stream",
     "text": [
      "🌐 구글 번역:  37%|███▋      | 186/509 [1:30:30<2:36:29, 29.07s/it]"
     ]
    },
    {
     "name": "stdout",
     "output_type": "stream",
     "text": [
      "배치 186 완료: 3720/10180개 처리됨 (평균 1.5초/개, 예상 남은시간: 157.2분)\n"
     ]
    },
    {
     "name": "stderr",
     "output_type": "stream",
     "text": [
      "🌐 구글 번역:  37%|███▋      | 187/509 [1:31:01<2:39:02, 29.63s/it]"
     ]
    },
    {
     "name": "stdout",
     "output_type": "stream",
     "text": [
      "배치 187 완료: 3740/10180개 처리됨 (평균 1.5초/개, 예상 남은시간: 156.7분)\n"
     ]
    },
    {
     "name": "stderr",
     "output_type": "stream",
     "text": [
      "🌐 구글 번역:  37%|███▋      | 188/509 [1:31:31<2:39:08, 29.75s/it]"
     ]
    },
    {
     "name": "stdout",
     "output_type": "stream",
     "text": [
      "배치 188 완료: 3760/10180개 처리됨 (평균 1.5초/개, 예상 남은시간: 156.3분)\n"
     ]
    },
    {
     "name": "stderr",
     "output_type": "stream",
     "text": [
      "🌐 구글 번역:  37%|███▋      | 189/509 [1:32:00<2:37:24, 29.51s/it]"
     ]
    },
    {
     "name": "stdout",
     "output_type": "stream",
     "text": [
      "배치 189 완료: 3780/10180개 처리됨 (평균 1.5초/개, 예상 남은시간: 155.8분)\n"
     ]
    },
    {
     "name": "stderr",
     "output_type": "stream",
     "text": [
      "🌐 구글 번역:  37%|███▋      | 190/509 [1:32:29<2:36:24, 29.42s/it]"
     ]
    },
    {
     "name": "stdout",
     "output_type": "stream",
     "text": [
      "배치 190 완료: 3800/10180개 처리됨 (평균 1.5초/개, 예상 남은시간: 155.3분)\n"
     ]
    },
    {
     "name": "stderr",
     "output_type": "stream",
     "text": [
      "🌐 구글 번역:  38%|███▊      | 191/509 [1:33:00<2:38:41, 29.94s/it]"
     ]
    },
    {
     "name": "stdout",
     "output_type": "stream",
     "text": [
      "배치 191 완료: 3820/10180개 처리됨 (평균 1.5초/개, 예상 남은시간: 154.9분)\n"
     ]
    },
    {
     "name": "stderr",
     "output_type": "stream",
     "text": [
      "🌐 구글 번역:  38%|███▊      | 192/509 [1:33:29<2:35:50, 29.50s/it]"
     ]
    },
    {
     "name": "stdout",
     "output_type": "stream",
     "text": [
      "배치 192 완료: 3840/10180개 처리됨 (평균 1.5초/개, 예상 남은시간: 154.4분)\n"
     ]
    },
    {
     "name": "stderr",
     "output_type": "stream",
     "text": [
      "🌐 구글 번역:  38%|███▊      | 193/509 [1:33:58<2:34:24, 29.32s/it]"
     ]
    },
    {
     "name": "stdout",
     "output_type": "stream",
     "text": [
      "배치 193 완료: 3860/10180개 처리됨 (평균 1.5초/개, 예상 남은시간: 153.9분)\n"
     ]
    },
    {
     "name": "stderr",
     "output_type": "stream",
     "text": [
      "🌐 구글 번역:  38%|███▊      | 194/509 [1:34:27<2:33:47, 29.29s/it]"
     ]
    },
    {
     "name": "stdout",
     "output_type": "stream",
     "text": [
      "배치 194 완료: 3880/10180개 처리됨 (평균 1.5초/개, 예상 남은시간: 153.4분)\n"
     ]
    },
    {
     "name": "stderr",
     "output_type": "stream",
     "text": [
      "🌐 구글 번역:  38%|███▊      | 195/509 [1:34:55<2:31:28, 28.94s/it]"
     ]
    },
    {
     "name": "stdout",
     "output_type": "stream",
     "text": [
      "배치 195 완료: 3900/10180개 처리됨 (평균 1.5초/개, 예상 남은시간: 152.9분)\n"
     ]
    },
    {
     "name": "stderr",
     "output_type": "stream",
     "text": [
      "🌐 구글 번역:  39%|███▊      | 196/509 [1:35:23<2:29:28, 28.65s/it]"
     ]
    },
    {
     "name": "stdout",
     "output_type": "stream",
     "text": [
      "배치 196 완료: 3920/10180개 처리됨 (평균 1.5초/개, 예상 남은시간: 152.3분)\n"
     ]
    },
    {
     "name": "stderr",
     "output_type": "stream",
     "text": [
      "🌐 구글 번역:  39%|███▊      | 197/509 [1:35:53<2:31:33, 29.15s/it]"
     ]
    },
    {
     "name": "stdout",
     "output_type": "stream",
     "text": [
      "배치 197 완료: 3940/10180개 처리됨 (평균 1.5초/개, 예상 남은시간: 151.9분)\n"
     ]
    },
    {
     "name": "stderr",
     "output_type": "stream",
     "text": [
      "🌐 구글 번역:  39%|███▉      | 198/509 [1:36:21<2:29:13, 28.79s/it]"
     ]
    },
    {
     "name": "stdout",
     "output_type": "stream",
     "text": [
      "배치 198 완료: 3960/10180개 처리됨 (평균 1.5초/개, 예상 남은시간: 151.4분)\n"
     ]
    },
    {
     "name": "stderr",
     "output_type": "stream",
     "text": [
      "🌐 구글 번역:  39%|███▉      | 199/509 [1:36:51<2:29:31, 28.94s/it]"
     ]
    },
    {
     "name": "stdout",
     "output_type": "stream",
     "text": [
      "배치 199 완료: 3980/10180개 처리됨 (평균 1.5초/개, 예상 남은시간: 150.9분)\n"
     ]
    },
    {
     "name": "stderr",
     "output_type": "stream",
     "text": [
      "🌐 구글 번역:  39%|███▉      | 200/509 [1:37:19<2:28:02, 28.75s/it]"
     ]
    },
    {
     "name": "stdout",
     "output_type": "stream",
     "text": [
      "배치 200 완료: 4000/10180개 처리됨 (평균 1.5초/개, 예상 남은시간: 150.4분)\n"
     ]
    },
    {
     "name": "stderr",
     "output_type": "stream",
     "text": [
      "🌐 구글 번역:  39%|███▉      | 201/509 [1:37:51<2:33:19, 29.87s/it]"
     ]
    },
    {
     "name": "stdout",
     "output_type": "stream",
     "text": [
      "배치 201 완료: 4020/10180개 처리됨 (평균 1.5초/개, 예상 남은시간: 150.0분)\n"
     ]
    },
    {
     "name": "stderr",
     "output_type": "stream",
     "text": [
      "🌐 구글 번역:  40%|███▉      | 202/509 [1:38:19<2:29:20, 29.19s/it]"
     ]
    },
    {
     "name": "stdout",
     "output_type": "stream",
     "text": [
      "배치 202 완료: 4040/10180개 처리됨 (평균 1.5초/개, 예상 남은시간: 149.4분)\n"
     ]
    },
    {
     "name": "stderr",
     "output_type": "stream",
     "text": [
      "🌐 구글 번역:  40%|███▉      | 203/509 [1:38:50<2:32:13, 29.85s/it]"
     ]
    },
    {
     "name": "stdout",
     "output_type": "stream",
     "text": [
      "배치 203 완료: 4060/10180개 처리됨 (평균 1.5초/개, 예상 남은시간: 149.0분)\n"
     ]
    },
    {
     "name": "stderr",
     "output_type": "stream",
     "text": [
      "🌐 구글 번역:  40%|████      | 204/509 [1:39:18<2:28:51, 29.28s/it]"
     ]
    },
    {
     "name": "stdout",
     "output_type": "stream",
     "text": [
      "배치 204 완료: 4080/10180개 처리됨 (평균 1.5초/개, 예상 남은시간: 148.5분)\n"
     ]
    },
    {
     "name": "stderr",
     "output_type": "stream",
     "text": [
      "🌐 구글 번역:  40%|████      | 205/509 [1:39:47<2:27:25, 29.10s/it]"
     ]
    },
    {
     "name": "stdout",
     "output_type": "stream",
     "text": [
      "배치 205 완료: 4100/10180개 처리됨 (평균 1.5초/개, 예상 남은시간: 148.0분)\n"
     ]
    },
    {
     "name": "stderr",
     "output_type": "stream",
     "text": [
      "🌐 구글 번역:  40%|████      | 206/509 [1:40:18<2:29:38, 29.63s/it]"
     ]
    },
    {
     "name": "stdout",
     "output_type": "stream",
     "text": [
      "배치 206 완료: 4120/10180개 처리됨 (평균 1.5초/개, 예상 남은시간: 147.5분)\n"
     ]
    },
    {
     "name": "stderr",
     "output_type": "stream",
     "text": [
      "🌐 구글 번역:  41%|████      | 207/509 [1:40:46<2:27:17, 29.26s/it]"
     ]
    },
    {
     "name": "stdout",
     "output_type": "stream",
     "text": [
      "배치 207 완료: 4140/10180개 처리됨 (평균 1.5초/개, 예상 남은시간: 147.0분)\n"
     ]
    },
    {
     "name": "stderr",
     "output_type": "stream",
     "text": [
      "🌐 구글 번역:  41%|████      | 208/509 [1:41:15<2:26:17, 29.16s/it]"
     ]
    },
    {
     "name": "stdout",
     "output_type": "stream",
     "text": [
      "배치 208 완료: 4160/10180개 처리됨 (평균 1.5초/개, 예상 남은시간: 146.5분)\n"
     ]
    },
    {
     "name": "stderr",
     "output_type": "stream",
     "text": [
      "🌐 구글 번역:  41%|████      | 209/509 [1:41:44<2:25:59, 29.20s/it]"
     ]
    },
    {
     "name": "stdout",
     "output_type": "stream",
     "text": [
      "배치 209 완료: 4180/10180개 처리됨 (평균 1.5초/개, 예상 남은시간: 146.1분)\n"
     ]
    },
    {
     "name": "stderr",
     "output_type": "stream",
     "text": [
      "🌐 구글 번역:  41%|████▏     | 210/509 [1:42:15<2:27:55, 29.68s/it]"
     ]
    },
    {
     "name": "stdout",
     "output_type": "stream",
     "text": [
      "배치 210 완료: 4200/10180개 처리됨 (평균 1.5초/개, 예상 남은시간: 145.6분)\n"
     ]
    },
    {
     "name": "stderr",
     "output_type": "stream",
     "text": [
      "🌐 구글 번역:  41%|████▏     | 211/509 [1:42:44<2:26:10, 29.43s/it]"
     ]
    },
    {
     "name": "stdout",
     "output_type": "stream",
     "text": [
      "배치 211 완료: 4220/10180개 처리됨 (평균 1.5초/개, 예상 남은시간: 145.1분)\n"
     ]
    },
    {
     "name": "stderr",
     "output_type": "stream",
     "text": [
      "🌐 구글 번역:  42%|████▏     | 212/509 [1:43:14<2:25:59, 29.49s/it]"
     ]
    },
    {
     "name": "stdout",
     "output_type": "stream",
     "text": [
      "배치 212 완료: 4240/10180개 처리됨 (평균 1.5초/개, 예상 남은시간: 144.6분)\n"
     ]
    },
    {
     "name": "stderr",
     "output_type": "stream",
     "text": [
      "🌐 구글 번역:  42%|████▏     | 213/509 [1:43:44<2:27:17, 29.86s/it]"
     ]
    },
    {
     "name": "stdout",
     "output_type": "stream",
     "text": [
      "배치 213 완료: 4260/10180개 처리됨 (평균 1.5초/개, 예상 남은시간: 144.2분)\n"
     ]
    },
    {
     "name": "stderr",
     "output_type": "stream",
     "text": [
      "🌐 구글 번역:  42%|████▏     | 214/509 [1:44:14<2:26:02, 29.70s/it]"
     ]
    },
    {
     "name": "stdout",
     "output_type": "stream",
     "text": [
      "배치 214 완료: 4280/10180개 처리됨 (평균 1.5초/개, 예상 남은시간: 143.7분)\n"
     ]
    },
    {
     "name": "stderr",
     "output_type": "stream",
     "text": [
      "🌐 구글 번역:  42%|████▏     | 215/509 [1:44:42<2:23:44, 29.33s/it]"
     ]
    },
    {
     "name": "stdout",
     "output_type": "stream",
     "text": [
      "배치 215 완료: 4300/10180개 처리됨 (평균 1.5초/개, 예상 남은시간: 143.2분)\n"
     ]
    },
    {
     "name": "stderr",
     "output_type": "stream",
     "text": [
      "🌐 구글 번역:  42%|████▏     | 216/509 [1:45:12<2:23:26, 29.37s/it]"
     ]
    },
    {
     "name": "stdout",
     "output_type": "stream",
     "text": [
      "배치 216 완료: 4320/10180개 처리됨 (평균 1.5초/개, 예상 남은시간: 142.7분)\n"
     ]
    },
    {
     "name": "stderr",
     "output_type": "stream",
     "text": [
      "🌐 구글 번역:  43%|████▎     | 217/509 [1:45:41<2:23:10, 29.42s/it]"
     ]
    },
    {
     "name": "stdout",
     "output_type": "stream",
     "text": [
      "배치 217 완료: 4340/10180개 처리됨 (평균 1.5초/개, 예상 남은시간: 142.2분)\n"
     ]
    },
    {
     "name": "stderr",
     "output_type": "stream",
     "text": [
      "🌐 구글 번역:  43%|████▎     | 218/509 [1:46:12<2:24:46, 29.85s/it]"
     ]
    },
    {
     "name": "stdout",
     "output_type": "stream",
     "text": [
      "배치 218 완료: 4360/10180개 처리됨 (평균 1.5초/개, 예상 남은시간: 141.8분)\n"
     ]
    },
    {
     "name": "stderr",
     "output_type": "stream",
     "text": [
      "🌐 구글 번역:  43%|████▎     | 219/509 [1:46:42<2:23:48, 29.75s/it]"
     ]
    },
    {
     "name": "stdout",
     "output_type": "stream",
     "text": [
      "배치 219 완료: 4380/10180개 처리됨 (평균 1.5초/개, 예상 남은시간: 141.3분)\n"
     ]
    },
    {
     "name": "stderr",
     "output_type": "stream",
     "text": [
      "🌐 구글 번역:  43%|████▎     | 220/509 [1:47:10<2:21:41, 29.42s/it]"
     ]
    },
    {
     "name": "stdout",
     "output_type": "stream",
     "text": [
      "배치 220 완료: 4400/10180개 처리됨 (평균 1.5초/개, 예상 남은시간: 140.8분)\n"
     ]
    },
    {
     "name": "stderr",
     "output_type": "stream",
     "text": [
      "🌐 구글 번역:  43%|████▎     | 221/509 [1:47:39<2:19:51, 29.14s/it]"
     ]
    },
    {
     "name": "stdout",
     "output_type": "stream",
     "text": [
      "배치 221 완료: 4420/10180개 처리됨 (평균 1.5초/개, 예상 남은시간: 140.3분)\n"
     ]
    },
    {
     "name": "stderr",
     "output_type": "stream",
     "text": [
      "🌐 구글 번역:  44%|████▎     | 222/509 [1:48:08<2:18:58, 29.05s/it]"
     ]
    },
    {
     "name": "stdout",
     "output_type": "stream",
     "text": [
      "배치 222 완료: 4440/10180개 처리됨 (평균 1.5초/개, 예상 남은시간: 139.8분)\n"
     ]
    },
    {
     "name": "stderr",
     "output_type": "stream",
     "text": [
      "🌐 구글 번역:  44%|████▍     | 223/509 [1:48:37<2:18:41, 29.10s/it]"
     ]
    },
    {
     "name": "stdout",
     "output_type": "stream",
     "text": [
      "배치 223 완료: 4460/10180개 처리됨 (평균 1.5초/개, 예상 남은시간: 139.3분)\n"
     ]
    },
    {
     "name": "stderr",
     "output_type": "stream",
     "text": [
      "🌐 구글 번역:  44%|████▍     | 224/509 [1:49:03<2:14:38, 28.35s/it]"
     ]
    },
    {
     "name": "stdout",
     "output_type": "stream",
     "text": [
      "배치 224 완료: 4480/10180개 처리됨 (평균 1.5초/개, 예상 남은시간: 138.8분)\n"
     ]
    },
    {
     "name": "stderr",
     "output_type": "stream",
     "text": [
      "🌐 구글 번역:  44%|████▍     | 225/509 [1:49:33<2:15:48, 28.69s/it]"
     ]
    },
    {
     "name": "stdout",
     "output_type": "stream",
     "text": [
      "배치 225 완료: 4500/10180개 처리됨 (평균 1.5초/개, 예상 남은시간: 138.3분)\n"
     ]
    },
    {
     "name": "stderr",
     "output_type": "stream",
     "text": [
      "🌐 구글 번역:  44%|████▍     | 226/509 [1:50:01<2:14:32, 28.52s/it]"
     ]
    },
    {
     "name": "stdout",
     "output_type": "stream",
     "text": [
      "배치 226 완료: 4520/10180개 처리됨 (평균 1.5초/개, 예상 남은시간: 137.8분)\n"
     ]
    },
    {
     "name": "stderr",
     "output_type": "stream",
     "text": [
      "🌐 구글 번역:  45%|████▍     | 227/509 [1:50:30<2:14:50, 28.69s/it]"
     ]
    },
    {
     "name": "stdout",
     "output_type": "stream",
     "text": [
      "배치 227 완료: 4540/10180개 처리됨 (평균 1.5초/개, 예상 남은시간: 137.3분)\n"
     ]
    },
    {
     "name": "stderr",
     "output_type": "stream",
     "text": [
      "🌐 구글 번역:  45%|████▍     | 228/509 [1:51:01<2:17:10, 29.29s/it]"
     ]
    },
    {
     "name": "stdout",
     "output_type": "stream",
     "text": [
      "배치 228 완료: 4560/10180개 처리됨 (평균 1.5초/개, 예상 남은시간: 136.8분)\n"
     ]
    },
    {
     "name": "stderr",
     "output_type": "stream",
     "text": [
      "🌐 구글 번역:  45%|████▍     | 229/509 [1:51:29<2:14:51, 28.90s/it]"
     ]
    },
    {
     "name": "stdout",
     "output_type": "stream",
     "text": [
      "배치 229 완료: 4580/10180개 처리됨 (평균 1.5초/개, 예상 남은시간: 136.3분)\n"
     ]
    },
    {
     "name": "stderr",
     "output_type": "stream",
     "text": [
      "🌐 구글 번역:  45%|████▌     | 230/509 [1:51:59<2:16:15, 29.30s/it]"
     ]
    },
    {
     "name": "stdout",
     "output_type": "stream",
     "text": [
      "배치 230 완료: 4600/10180개 처리됨 (평균 1.5초/개, 예상 남은시간: 135.9분)\n"
     ]
    },
    {
     "name": "stderr",
     "output_type": "stream",
     "text": [
      "🌐 구글 번역:  45%|████▌     | 231/509 [1:52:32<2:20:58, 30.43s/it]"
     ]
    },
    {
     "name": "stdout",
     "output_type": "stream",
     "text": [
      "배치 231 완료: 4620/10180개 처리됨 (평균 1.5초/개, 예상 남은시간: 135.4분)\n"
     ]
    },
    {
     "name": "stderr",
     "output_type": "stream",
     "text": [
      "🌐 구글 번역:  46%|████▌     | 232/509 [1:53:02<2:19:45, 30.27s/it]"
     ]
    },
    {
     "name": "stdout",
     "output_type": "stream",
     "text": [
      "배치 232 완료: 4640/10180개 처리됨 (평균 1.5초/개, 예상 남은시간: 135.0분)\n"
     ]
    },
    {
     "name": "stderr",
     "output_type": "stream",
     "text": [
      "🌐 구글 번역:  46%|████▌     | 233/509 [1:53:32<2:19:16, 30.28s/it]"
     ]
    },
    {
     "name": "stdout",
     "output_type": "stream",
     "text": [
      "배치 233 완료: 4660/10180개 처리됨 (평균 1.5초/개, 예상 남은시간: 134.5분)\n"
     ]
    },
    {
     "name": "stderr",
     "output_type": "stream",
     "text": [
      "🌐 구글 번역:  46%|████▌     | 234/509 [1:54:00<2:15:46, 29.62s/it]"
     ]
    },
    {
     "name": "stdout",
     "output_type": "stream",
     "text": [
      "배치 234 완료: 4680/10180개 처리됨 (평균 1.5초/개, 예상 남은시간: 134.0분)\n"
     ]
    },
    {
     "name": "stderr",
     "output_type": "stream",
     "text": [
      "🌐 구글 번역:  46%|████▌     | 235/509 [1:54:30<2:15:19, 29.63s/it]"
     ]
    },
    {
     "name": "stdout",
     "output_type": "stream",
     "text": [
      "배치 235 완료: 4700/10180개 처리됨 (평균 1.5초/개, 예상 남은시간: 133.5분)\n"
     ]
    },
    {
     "name": "stderr",
     "output_type": "stream",
     "text": [
      "🌐 구글 번역:  46%|████▋     | 236/509 [1:55:01<2:16:14, 29.94s/it]"
     ]
    },
    {
     "name": "stdout",
     "output_type": "stream",
     "text": [
      "배치 236 완료: 4720/10180개 처리됨 (평균 1.5초/개, 예상 남은시간: 133.1분)\n"
     ]
    },
    {
     "name": "stderr",
     "output_type": "stream",
     "text": [
      "🌐 구글 번역:  47%|████▋     | 237/509 [1:55:29<2:13:25, 29.43s/it]"
     ]
    },
    {
     "name": "stdout",
     "output_type": "stream",
     "text": [
      "배치 237 완료: 4740/10180개 처리됨 (평균 1.5초/개, 예상 남은시간: 132.5분)\n"
     ]
    },
    {
     "name": "stderr",
     "output_type": "stream",
     "text": [
      "🌐 구글 번역:  47%|████▋     | 238/509 [1:55:59<2:14:29, 29.78s/it]"
     ]
    },
    {
     "name": "stdout",
     "output_type": "stream",
     "text": [
      "배치 238 완료: 4760/10180개 처리됨 (평균 1.5초/개, 예상 남은시간: 132.1분)\n"
     ]
    },
    {
     "name": "stderr",
     "output_type": "stream",
     "text": [
      "🌐 구글 번역:  47%|████▋     | 239/509 [1:56:33<2:19:21, 30.97s/it]"
     ]
    },
    {
     "name": "stdout",
     "output_type": "stream",
     "text": [
      "배치 239 완료: 4780/10180개 처리됨 (평균 1.5초/개, 예상 남은시간: 131.7분)\n"
     ]
    },
    {
     "name": "stderr",
     "output_type": "stream",
     "text": [
      "🌐 구글 번역:  47%|████▋     | 240/509 [1:57:01<2:14:02, 29.90s/it]"
     ]
    },
    {
     "name": "stdout",
     "output_type": "stream",
     "text": [
      "배치 240 완료: 4800/10180개 처리됨 (평균 1.5초/개, 예상 남은시간: 131.2분)\n"
     ]
    },
    {
     "name": "stderr",
     "output_type": "stream",
     "text": [
      "🌐 구글 번역:  47%|████▋     | 241/509 [1:57:30<2:12:40, 29.70s/it]"
     ]
    },
    {
     "name": "stdout",
     "output_type": "stream",
     "text": [
      "배치 241 완료: 4820/10180개 처리됨 (평균 1.5초/개, 예상 남은시간: 130.7분)\n"
     ]
    },
    {
     "name": "stderr",
     "output_type": "stream",
     "text": [
      "🌐 구글 번역:  48%|████▊     | 242/509 [1:58:04<2:18:08, 31.04s/it]"
     ]
    },
    {
     "name": "stdout",
     "output_type": "stream",
     "text": [
      "배치 242 완료: 4840/10180개 처리됨 (평균 1.5초/개, 예상 남은시간: 130.3분)\n"
     ]
    },
    {
     "name": "stderr",
     "output_type": "stream",
     "text": [
      "🌐 구글 번역:  48%|████▊     | 243/509 [1:58:39<2:22:35, 32.16s/it]"
     ]
    },
    {
     "name": "stdout",
     "output_type": "stream",
     "text": [
      "배치 243 완료: 4860/10180개 처리됨 (평균 1.5초/개, 예상 남은시간: 129.9분)\n"
     ]
    },
    {
     "name": "stderr",
     "output_type": "stream",
     "text": [
      "🌐 구글 번역:  48%|████▊     | 244/509 [1:59:15<2:27:48, 33.46s/it]"
     ]
    },
    {
     "name": "stdout",
     "output_type": "stream",
     "text": [
      "배치 244 완료: 4880/10180개 처리됨 (평균 1.5초/개, 예상 남은시간: 129.5분)\n"
     ]
    },
    {
     "name": "stderr",
     "output_type": "stream",
     "text": [
      "🌐 구글 번역:  48%|████▊     | 245/509 [1:59:55<2:34:56, 35.21s/it]"
     ]
    },
    {
     "name": "stdout",
     "output_type": "stream",
     "text": [
      "배치 245 완료: 4900/10180개 처리됨 (평균 1.5초/개, 예상 남은시간: 129.2분)\n",
      "번역 시도 1 실패: The read operation timed out\n"
     ]
    },
    {
     "name": "stderr",
     "output_type": "stream",
     "text": [
      "🌐 구글 번역:  48%|████▊     | 246/509 [2:00:32<2:36:40, 35.74s/it]"
     ]
    },
    {
     "name": "stdout",
     "output_type": "stream",
     "text": [
      "배치 246 완료: 4920/10180개 처리됨 (평균 1.5초/개, 예상 남은시간: 128.9분)\n"
     ]
    },
    {
     "name": "stderr",
     "output_type": "stream",
     "text": [
      "🌐 구글 번역:  49%|████▊     | 247/509 [2:01:09<2:38:37, 36.33s/it]"
     ]
    },
    {
     "name": "stdout",
     "output_type": "stream",
     "text": [
      "배치 247 완료: 4940/10180개 처리됨 (평균 1.5초/개, 예상 남은시간: 128.5분)\n"
     ]
    },
    {
     "name": "stderr",
     "output_type": "stream",
     "text": [
      "🌐 구글 번역:  49%|████▊     | 248/509 [2:01:46<2:39:02, 36.56s/it]"
     ]
    },
    {
     "name": "stdout",
     "output_type": "stream",
     "text": [
      "배치 248 완료: 4960/10180개 처리됨 (평균 1.5초/개, 예상 남은시간: 128.2분)\n"
     ]
    },
    {
     "name": "stderr",
     "output_type": "stream",
     "text": [
      "🌐 구글 번역:  49%|████▉     | 249/509 [2:02:21<2:35:39, 35.92s/it]"
     ]
    },
    {
     "name": "stdout",
     "output_type": "stream",
     "text": [
      "배치 249 완료: 4980/10180개 처리됨 (평균 1.5초/개, 예상 남은시간: 127.8분)\n"
     ]
    },
    {
     "name": "stderr",
     "output_type": "stream",
     "text": [
      "🌐 구글 번역:  49%|████▉     | 250/509 [2:02:56<2:34:11, 35.72s/it]"
     ]
    },
    {
     "name": "stdout",
     "output_type": "stream",
     "text": [
      "배치 250 완료: 5000/10180개 처리됨 (평균 1.5초/개, 예상 남은시간: 127.4분)\n"
     ]
    },
    {
     "name": "stderr",
     "output_type": "stream",
     "text": [
      "🌐 구글 번역:  49%|████▉     | 251/509 [2:03:28<2:28:03, 34.43s/it]"
     ]
    },
    {
     "name": "stdout",
     "output_type": "stream",
     "text": [
      "배치 251 완료: 5020/10180개 처리됨 (평균 1.5초/개, 예상 남은시간: 126.9분)\n"
     ]
    },
    {
     "name": "stderr",
     "output_type": "stream",
     "text": [
      "🌐 구글 번역:  50%|████▉     | 252/509 [2:04:00<2:25:07, 33.88s/it]"
     ]
    },
    {
     "name": "stdout",
     "output_type": "stream",
     "text": [
      "배치 252 완료: 5040/10180개 처리됨 (평균 1.5초/개, 예상 남은시간: 126.5분)\n"
     ]
    },
    {
     "name": "stderr",
     "output_type": "stream",
     "text": [
      "🌐 구글 번역:  50%|████▉     | 253/509 [2:04:31<2:20:54, 33.03s/it]"
     ]
    },
    {
     "name": "stdout",
     "output_type": "stream",
     "text": [
      "배치 253 완료: 5060/10180개 처리됨 (평균 1.5초/개, 예상 남은시간: 126.0분)\n"
     ]
    },
    {
     "name": "stderr",
     "output_type": "stream",
     "text": [
      "🌐 구글 번역:  50%|████▉     | 254/509 [2:05:02<2:17:34, 32.37s/it]"
     ]
    },
    {
     "name": "stdout",
     "output_type": "stream",
     "text": [
      "배치 254 완료: 5080/10180개 처리됨 (평균 1.5초/개, 예상 남은시간: 125.5분)\n"
     ]
    },
    {
     "name": "stderr",
     "output_type": "stream",
     "text": [
      "🌐 구글 번역:  50%|█████     | 255/509 [2:05:32<2:14:10, 31.70s/it]"
     ]
    },
    {
     "name": "stdout",
     "output_type": "stream",
     "text": [
      "배치 255 완료: 5100/10180개 처리됨 (평균 1.5초/개, 예상 남은시간: 125.1분)\n"
     ]
    },
    {
     "name": "stderr",
     "output_type": "stream",
     "text": [
      "🌐 구글 번역:  50%|█████     | 256/509 [2:06:06<2:15:49, 32.21s/it]"
     ]
    },
    {
     "name": "stdout",
     "output_type": "stream",
     "text": [
      "배치 256 완료: 5120/10180개 처리됨 (평균 1.5초/개, 예상 남은시간: 124.6분)\n"
     ]
    },
    {
     "name": "stderr",
     "output_type": "stream",
     "text": [
      "🌐 구글 번역:  50%|█████     | 257/509 [2:06:35<2:11:21, 31.28s/it]"
     ]
    },
    {
     "name": "stdout",
     "output_type": "stream",
     "text": [
      "배치 257 완료: 5140/10180개 처리됨 (평균 1.5초/개, 예상 남은시간: 124.1분)\n"
     ]
    },
    {
     "name": "stderr",
     "output_type": "stream",
     "text": [
      "🌐 구글 번역:  51%|█████     | 258/509 [2:07:04<2:08:03, 30.61s/it]"
     ]
    },
    {
     "name": "stdout",
     "output_type": "stream",
     "text": [
      "배치 258 완료: 5160/10180개 처리됨 (평균 1.5초/개, 예상 남은시간: 123.6분)\n"
     ]
    },
    {
     "name": "stderr",
     "output_type": "stream",
     "text": [
      "🌐 구글 번역:  51%|█████     | 259/509 [2:07:34<2:06:50, 30.44s/it]"
     ]
    },
    {
     "name": "stdout",
     "output_type": "stream",
     "text": [
      "배치 259 완료: 5180/10180개 처리됨 (평균 1.5초/개, 예상 남은시간: 123.1분)\n"
     ]
    },
    {
     "name": "stderr",
     "output_type": "stream",
     "text": [
      "🌐 구글 번역:  51%|█████     | 260/509 [2:08:06<2:08:50, 31.05s/it]"
     ]
    },
    {
     "name": "stdout",
     "output_type": "stream",
     "text": [
      "배치 260 완료: 5200/10180개 처리됨 (평균 1.5초/개, 예상 남은시간: 122.7분)\n"
     ]
    },
    {
     "name": "stderr",
     "output_type": "stream",
     "text": [
      "🌐 구글 번역:  51%|█████▏    | 261/509 [2:08:35<2:05:44, 30.42s/it]"
     ]
    },
    {
     "name": "stdout",
     "output_type": "stream",
     "text": [
      "배치 261 완료: 5220/10180개 처리됨 (평균 1.5초/개, 예상 남은시간: 122.2분)\n"
     ]
    },
    {
     "name": "stderr",
     "output_type": "stream",
     "text": [
      "🌐 구글 번역:  51%|█████▏    | 262/509 [2:09:06<2:06:17, 30.68s/it]"
     ]
    },
    {
     "name": "stdout",
     "output_type": "stream",
     "text": [
      "배치 262 완료: 5240/10180개 처리됨 (평균 1.5초/개, 예상 남은시간: 121.7분)\n"
     ]
    },
    {
     "name": "stderr",
     "output_type": "stream",
     "text": [
      "🌐 구글 번역:  52%|█████▏    | 263/509 [2:09:37<2:05:54, 30.71s/it]"
     ]
    },
    {
     "name": "stdout",
     "output_type": "stream",
     "text": [
      "배치 263 완료: 5260/10180개 처리됨 (평균 1.5초/개, 예상 남은시간: 121.2분)\n"
     ]
    },
    {
     "name": "stderr",
     "output_type": "stream",
     "text": [
      "🌐 구글 번역:  52%|█████▏    | 264/509 [2:10:05<2:02:18, 29.95s/it]"
     ]
    },
    {
     "name": "stdout",
     "output_type": "stream",
     "text": [
      "배치 264 완료: 5280/10180개 처리됨 (평균 1.5초/개, 예상 남은시간: 120.7분)\n"
     ]
    },
    {
     "name": "stderr",
     "output_type": "stream",
     "text": [
      "🌐 구글 번역:  52%|█████▏    | 265/509 [2:10:38<2:05:28, 30.85s/it]"
     ]
    },
    {
     "name": "stdout",
     "output_type": "stream",
     "text": [
      "배치 265 완료: 5300/10180개 처리됨 (평균 1.5초/개, 예상 남은시간: 120.3분)\n"
     ]
    },
    {
     "name": "stderr",
     "output_type": "stream",
     "text": [
      "🌐 구글 번역:  52%|█████▏    | 266/509 [2:11:10<2:05:49, 31.07s/it]"
     ]
    },
    {
     "name": "stdout",
     "output_type": "stream",
     "text": [
      "배치 266 완료: 5320/10180개 처리됨 (평균 1.5초/개, 예상 남은시간: 119.8분)\n"
     ]
    },
    {
     "name": "stderr",
     "output_type": "stream",
     "text": [
      "🌐 구글 번역:  52%|█████▏    | 267/509 [2:11:41<2:05:52, 31.21s/it]"
     ]
    },
    {
     "name": "stdout",
     "output_type": "stream",
     "text": [
      "배치 267 완료: 5340/10180개 처리됨 (평균 1.5초/개, 예상 남은시간: 119.4분)\n"
     ]
    },
    {
     "name": "stderr",
     "output_type": "stream",
     "text": [
      "🌐 구글 번역:  53%|█████▎    | 268/509 [2:12:11<2:03:47, 30.82s/it]"
     ]
    },
    {
     "name": "stdout",
     "output_type": "stream",
     "text": [
      "배치 268 완료: 5360/10180개 처리됨 (평균 1.5초/개, 예상 남은시간: 118.9분)\n"
     ]
    },
    {
     "name": "stderr",
     "output_type": "stream",
     "text": [
      "🌐 구글 번역:  53%|█████▎    | 269/509 [2:12:40<2:00:12, 30.05s/it]"
     ]
    },
    {
     "name": "stdout",
     "output_type": "stream",
     "text": [
      "배치 269 완료: 5380/10180개 처리됨 (평균 1.5초/개, 예상 남은시간: 118.4분)\n"
     ]
    },
    {
     "name": "stderr",
     "output_type": "stream",
     "text": [
      "🌐 구글 번역:  53%|█████▎    | 270/509 [2:13:13<2:03:23, 30.98s/it]"
     ]
    },
    {
     "name": "stdout",
     "output_type": "stream",
     "text": [
      "배치 270 완료: 5400/10180개 처리됨 (평균 1.5초/개, 예상 남은시간: 117.9분)\n"
     ]
    },
    {
     "name": "stderr",
     "output_type": "stream",
     "text": [
      "🌐 구글 번역:  53%|█████▎    | 271/509 [2:13:43<2:01:38, 30.67s/it]"
     ]
    },
    {
     "name": "stdout",
     "output_type": "stream",
     "text": [
      "배치 271 완료: 5420/10180개 처리됨 (평균 1.5초/개, 예상 남은시간: 117.4분)\n"
     ]
    },
    {
     "name": "stderr",
     "output_type": "stream",
     "text": [
      "🌐 구글 번역:  53%|█████▎    | 272/509 [2:14:11<1:58:20, 29.96s/it]"
     ]
    },
    {
     "name": "stdout",
     "output_type": "stream",
     "text": [
      "배치 272 완료: 5440/10180개 처리됨 (평균 1.5초/개, 예상 남은시간: 116.9분)\n"
     ]
    },
    {
     "name": "stderr",
     "output_type": "stream",
     "text": [
      "🌐 구글 번역:  54%|█████▎    | 273/509 [2:14:40<1:56:08, 29.53s/it]"
     ]
    },
    {
     "name": "stdout",
     "output_type": "stream",
     "text": [
      "배치 273 완료: 5460/10180개 처리됨 (평균 1.5초/개, 예상 남은시간: 116.4분)\n"
     ]
    },
    {
     "name": "stderr",
     "output_type": "stream",
     "text": [
      "🌐 구글 번역:  54%|█████▍    | 274/509 [2:15:10<1:56:14, 29.68s/it]"
     ]
    },
    {
     "name": "stdout",
     "output_type": "stream",
     "text": [
      "배치 274 완료: 5480/10180개 처리됨 (평균 1.5초/개, 예상 남은시간: 115.9분)\n"
     ]
    },
    {
     "name": "stderr",
     "output_type": "stream",
     "text": [
      "🌐 구글 번역:  54%|█████▍    | 275/509 [2:15:40<1:56:14, 29.81s/it]"
     ]
    },
    {
     "name": "stdout",
     "output_type": "stream",
     "text": [
      "배치 275 완료: 5500/10180개 처리됨 (평균 1.5초/개, 예상 남은시간: 115.4분)\n"
     ]
    },
    {
     "name": "stderr",
     "output_type": "stream",
     "text": [
      "🌐 구글 번역:  54%|█████▍    | 276/509 [2:16:07<1:53:21, 29.19s/it]"
     ]
    },
    {
     "name": "stdout",
     "output_type": "stream",
     "text": [
      "배치 276 완료: 5520/10180개 처리됨 (평균 1.5초/개, 예상 남은시간: 114.9분)\n"
     ]
    },
    {
     "name": "stderr",
     "output_type": "stream",
     "text": [
      "🌐 구글 번역:  54%|█████▍    | 277/509 [2:16:36<1:52:35, 29.12s/it]"
     ]
    },
    {
     "name": "stdout",
     "output_type": "stream",
     "text": [
      "배치 277 완료: 5540/10180개 처리됨 (평균 1.5초/개, 예상 남은시간: 114.4분)\n"
     ]
    },
    {
     "name": "stderr",
     "output_type": "stream",
     "text": [
      "🌐 구글 번역:  55%|█████▍    | 278/509 [2:17:10<1:57:23, 30.49s/it]"
     ]
    },
    {
     "name": "stdout",
     "output_type": "stream",
     "text": [
      "배치 278 완료: 5560/10180개 처리됨 (평균 1.5초/개, 예상 남은시간: 114.0분)\n"
     ]
    },
    {
     "name": "stderr",
     "output_type": "stream",
     "text": [
      "🌐 구글 번역:  55%|█████▍    | 279/509 [2:17:41<1:57:01, 30.53s/it]"
     ]
    },
    {
     "name": "stdout",
     "output_type": "stream",
     "text": [
      "배치 279 완료: 5580/10180개 처리됨 (평균 1.5초/개, 예상 남은시간: 113.5분)\n"
     ]
    },
    {
     "name": "stderr",
     "output_type": "stream",
     "text": [
      "🌐 구글 번역:  55%|█████▌    | 280/509 [2:18:12<1:57:17, 30.73s/it]"
     ]
    },
    {
     "name": "stdout",
     "output_type": "stream",
     "text": [
      "배치 280 완료: 5600/10180개 처리됨 (평균 1.5초/개, 예상 남은시간: 113.0분)\n"
     ]
    },
    {
     "name": "stderr",
     "output_type": "stream",
     "text": [
      "🌐 구글 번역:  55%|█████▌    | 281/509 [2:18:42<1:55:55, 30.51s/it]"
     ]
    },
    {
     "name": "stdout",
     "output_type": "stream",
     "text": [
      "배치 281 완료: 5620/10180개 처리됨 (평균 1.5초/개, 예상 남은시간: 112.5분)\n"
     ]
    },
    {
     "name": "stderr",
     "output_type": "stream",
     "text": [
      "🌐 구글 번역:  55%|█████▌    | 282/509 [2:19:09<1:52:00, 29.61s/it]"
     ]
    },
    {
     "name": "stdout",
     "output_type": "stream",
     "text": [
      "배치 282 완료: 5640/10180개 처리됨 (평균 1.5초/개, 예상 남은시간: 112.0분)\n"
     ]
    },
    {
     "name": "stderr",
     "output_type": "stream",
     "text": [
      "🌐 구글 번역:  56%|█████▌    | 283/509 [2:19:37<1:49:11, 28.99s/it]"
     ]
    },
    {
     "name": "stdout",
     "output_type": "stream",
     "text": [
      "배치 283 완료: 5660/10180개 처리됨 (평균 1.5초/개, 예상 남은시간: 111.5분)\n"
     ]
    },
    {
     "name": "stderr",
     "output_type": "stream",
     "text": [
      "🌐 구글 번역:  56%|█████▌    | 284/509 [2:20:05<1:47:55, 28.78s/it]"
     ]
    },
    {
     "name": "stdout",
     "output_type": "stream",
     "text": [
      "배치 284 완료: 5680/10180개 처리됨 (평균 1.5초/개, 예상 남은시간: 111.0분)\n"
     ]
    },
    {
     "name": "stderr",
     "output_type": "stream",
     "text": [
      "🌐 구글 번역:  56%|█████▌    | 285/509 [2:20:34<1:47:29, 28.79s/it]"
     ]
    },
    {
     "name": "stdout",
     "output_type": "stream",
     "text": [
      "배치 285 완료: 5700/10180개 처리됨 (평균 1.5초/개, 예상 남은시간: 110.5분)\n"
     ]
    },
    {
     "name": "stderr",
     "output_type": "stream",
     "text": [
      "🌐 구글 번역:  56%|█████▌    | 286/509 [2:21:01<1:45:10, 28.30s/it]"
     ]
    },
    {
     "name": "stdout",
     "output_type": "stream",
     "text": [
      "배치 286 완료: 5720/10180개 처리됨 (평균 1.5초/개, 예상 남은시간: 110.0분)\n"
     ]
    },
    {
     "name": "stderr",
     "output_type": "stream",
     "text": [
      "🌐 구글 번역:  56%|█████▋    | 287/509 [2:21:30<1:45:21, 28.47s/it]"
     ]
    },
    {
     "name": "stdout",
     "output_type": "stream",
     "text": [
      "배치 287 완료: 5740/10180개 처리됨 (평균 1.5초/개, 예상 남은시간: 109.5분)\n"
     ]
    },
    {
     "name": "stderr",
     "output_type": "stream",
     "text": [
      "🌐 구글 번역:  57%|█████▋    | 288/509 [2:22:02<1:48:48, 29.54s/it]"
     ]
    },
    {
     "name": "stdout",
     "output_type": "stream",
     "text": [
      "배치 288 완료: 5760/10180개 처리됨 (평균 1.5초/개, 예상 남은시간: 109.0분)\n"
     ]
    },
    {
     "name": "stderr",
     "output_type": "stream",
     "text": [
      "🌐 구글 번역:  57%|█████▋    | 289/509 [2:22:32<1:48:35, 29.61s/it]"
     ]
    },
    {
     "name": "stdout",
     "output_type": "stream",
     "text": [
      "배치 289 완료: 5780/10180개 처리됨 (평균 1.5초/개, 예상 남은시간: 108.5분)\n"
     ]
    },
    {
     "name": "stderr",
     "output_type": "stream",
     "text": [
      "🌐 구글 번역:  57%|█████▋    | 290/509 [2:23:01<1:47:40, 29.50s/it]"
     ]
    },
    {
     "name": "stdout",
     "output_type": "stream",
     "text": [
      "배치 290 완료: 5800/10180개 처리됨 (평균 1.5초/개, 예상 남은시간: 108.0분)\n"
     ]
    },
    {
     "name": "stderr",
     "output_type": "stream",
     "text": [
      "🌐 구글 번역:  57%|█████▋    | 291/509 [2:23:29<1:44:59, 28.90s/it]"
     ]
    },
    {
     "name": "stdout",
     "output_type": "stream",
     "text": [
      "배치 291 완료: 5820/10180개 처리됨 (평균 1.5초/개, 예상 남은시간: 107.5분)\n"
     ]
    },
    {
     "name": "stderr",
     "output_type": "stream",
     "text": [
      "🌐 구글 번역:  57%|█████▋    | 292/509 [2:23:59<1:46:04, 29.33s/it]"
     ]
    },
    {
     "name": "stdout",
     "output_type": "stream",
     "text": [
      "배치 292 완료: 5840/10180개 처리됨 (평균 1.5초/개, 예상 남은시간: 107.0분)\n"
     ]
    },
    {
     "name": "stderr",
     "output_type": "stream",
     "text": [
      "🌐 구글 번역:  58%|█████▊    | 293/509 [2:24:32<1:49:23, 30.39s/it]"
     ]
    },
    {
     "name": "stdout",
     "output_type": "stream",
     "text": [
      "배치 293 완료: 5860/10180개 처리됨 (평균 1.5초/개, 예상 남은시간: 106.6분)\n"
     ]
    },
    {
     "name": "stderr",
     "output_type": "stream",
     "text": [
      "🌐 구글 번역:  58%|█████▊    | 294/509 [2:25:07<1:54:06, 31.84s/it]"
     ]
    },
    {
     "name": "stdout",
     "output_type": "stream",
     "text": [
      "배치 294 완료: 5880/10180개 처리됨 (평균 1.5초/개, 예상 남은시간: 106.1분)\n"
     ]
    },
    {
     "name": "stderr",
     "output_type": "stream",
     "text": [
      "🌐 구글 번역:  58%|█████▊    | 295/509 [2:25:39<1:53:25, 31.80s/it]"
     ]
    },
    {
     "name": "stdout",
     "output_type": "stream",
     "text": [
      "배치 295 완료: 5900/10180개 처리됨 (평균 1.5초/개, 예상 남은시간: 105.7분)\n"
     ]
    },
    {
     "name": "stderr",
     "output_type": "stream",
     "text": [
      "🌐 구글 번역:  58%|█████▊    | 296/509 [2:26:10<1:51:56, 31.53s/it]"
     ]
    },
    {
     "name": "stdout",
     "output_type": "stream",
     "text": [
      "배치 296 완료: 5920/10180개 처리됨 (평균 1.5초/개, 예상 남은시간: 105.2분)\n"
     ]
    },
    {
     "name": "stderr",
     "output_type": "stream",
     "text": [
      "🌐 구글 번역:  58%|█████▊    | 297/509 [2:26:41<1:51:20, 31.51s/it]"
     ]
    },
    {
     "name": "stdout",
     "output_type": "stream",
     "text": [
      "배치 297 완료: 5940/10180개 처리됨 (평균 1.5초/개, 예상 남은시간: 104.7분)\n"
     ]
    },
    {
     "name": "stderr",
     "output_type": "stream",
     "text": [
      "🌐 구글 번역:  59%|█████▊    | 298/509 [2:27:11<1:49:10, 31.05s/it]"
     ]
    },
    {
     "name": "stdout",
     "output_type": "stream",
     "text": [
      "배치 298 완료: 5960/10180개 처리됨 (평균 1.5초/개, 예상 남은시간: 104.2분)\n"
     ]
    },
    {
     "name": "stderr",
     "output_type": "stream",
     "text": [
      "🌐 구글 번역:  59%|█████▊    | 299/509 [2:27:39<1:45:41, 30.20s/it]"
     ]
    },
    {
     "name": "stdout",
     "output_type": "stream",
     "text": [
      "배치 299 완료: 5980/10180개 처리됨 (평균 1.5초/개, 예상 남은시간: 103.7분)\n"
     ]
    },
    {
     "name": "stderr",
     "output_type": "stream",
     "text": [
      "🌐 구글 번역:  59%|█████▉    | 300/509 [2:28:07<1:42:18, 29.37s/it]"
     ]
    },
    {
     "name": "stdout",
     "output_type": "stream",
     "text": [
      "배치 300 완료: 6000/10180개 처리됨 (평균 1.5초/개, 예상 남은시간: 103.2분)\n"
     ]
    },
    {
     "name": "stderr",
     "output_type": "stream",
     "text": [
      "🌐 구글 번역:  59%|█████▉    | 301/509 [2:28:35<1:40:39, 29.03s/it]"
     ]
    },
    {
     "name": "stdout",
     "output_type": "stream",
     "text": [
      "배치 301 완료: 6020/10180개 처리됨 (평균 1.5초/개, 예상 남은시간: 102.7분)\n"
     ]
    },
    {
     "name": "stderr",
     "output_type": "stream",
     "text": [
      "🌐 구글 번역:  59%|█████▉    | 302/509 [2:29:02<1:38:26, 28.53s/it]"
     ]
    },
    {
     "name": "stdout",
     "output_type": "stream",
     "text": [
      "배치 302 완료: 6040/10180개 처리됨 (평균 1.5초/개, 예상 남은시간: 102.2분)\n"
     ]
    },
    {
     "name": "stderr",
     "output_type": "stream",
     "text": [
      "🌐 구글 번역:  60%|█████▉    | 303/509 [2:29:32<1:39:11, 28.89s/it]"
     ]
    },
    {
     "name": "stdout",
     "output_type": "stream",
     "text": [
      "배치 303 완료: 6060/10180개 처리됨 (평균 1.5초/개, 예상 남은시간: 101.7분)\n",
      "번역 시도 1 실패: The read operation timed out\n"
     ]
    },
    {
     "name": "stderr",
     "output_type": "stream",
     "text": [
      "🌐 구글 번역:  60%|█████▉    | 304/509 [2:30:06<1:44:24, 30.56s/it]"
     ]
    },
    {
     "name": "stdout",
     "output_type": "stream",
     "text": [
      "배치 304 완료: 6080/10180개 처리됨 (평균 1.5초/개, 예상 남은시간: 101.2분)\n"
     ]
    },
    {
     "name": "stderr",
     "output_type": "stream",
     "text": [
      "🌐 구글 번역:  60%|█████▉    | 305/509 [2:30:34<1:40:23, 29.53s/it]"
     ]
    },
    {
     "name": "stdout",
     "output_type": "stream",
     "text": [
      "배치 305 완료: 6100/10180개 처리됨 (평균 1.5초/개, 예상 남은시간: 100.7분)\n"
     ]
    },
    {
     "name": "stderr",
     "output_type": "stream",
     "text": [
      "🌐 구글 번역:  60%|██████    | 306/509 [2:31:00<1:36:54, 28.64s/it]"
     ]
    },
    {
     "name": "stdout",
     "output_type": "stream",
     "text": [
      "배치 306 완료: 6120/10180개 처리됨 (평균 1.5초/개, 예상 남은시간: 100.2분)\n"
     ]
    },
    {
     "name": "stderr",
     "output_type": "stream",
     "text": [
      "🌐 구글 번역:  60%|██████    | 307/509 [2:31:28<1:35:55, 28.49s/it]"
     ]
    },
    {
     "name": "stdout",
     "output_type": "stream",
     "text": [
      "배치 307 완료: 6140/10180개 처리됨 (평균 1.5초/개, 예상 남은시간: 99.7분)\n"
     ]
    },
    {
     "name": "stderr",
     "output_type": "stream",
     "text": [
      "🌐 구글 번역:  61%|██████    | 308/509 [2:31:57<1:35:14, 28.43s/it]"
     ]
    },
    {
     "name": "stdout",
     "output_type": "stream",
     "text": [
      "배치 308 완료: 6160/10180개 처리됨 (평균 1.5초/개, 예상 남은시간: 99.2분)\n"
     ]
    },
    {
     "name": "stderr",
     "output_type": "stream",
     "text": [
      "🌐 구글 번역:  61%|██████    | 309/509 [2:32:26<1:35:57, 28.79s/it]"
     ]
    },
    {
     "name": "stdout",
     "output_type": "stream",
     "text": [
      "배치 309 완료: 6180/10180개 처리됨 (평균 1.5초/개, 예상 남은시간: 98.7분)\n"
     ]
    },
    {
     "name": "stderr",
     "output_type": "stream",
     "text": [
      "🌐 구글 번역:  61%|██████    | 310/509 [2:32:57<1:37:32, 29.41s/it]"
     ]
    },
    {
     "name": "stdout",
     "output_type": "stream",
     "text": [
      "배치 310 완료: 6200/10180개 처리됨 (평균 1.5초/개, 예상 남은시간: 98.2분)\n"
     ]
    },
    {
     "name": "stderr",
     "output_type": "stream",
     "text": [
      "🌐 구글 번역:  61%|██████    | 311/509 [2:33:29<1:39:28, 30.15s/it]"
     ]
    },
    {
     "name": "stdout",
     "output_type": "stream",
     "text": [
      "배치 311 완료: 6220/10180개 처리됨 (평균 1.5초/개, 예상 남은시간: 97.7분)\n"
     ]
    },
    {
     "name": "stderr",
     "output_type": "stream",
     "text": [
      "🌐 구글 번역:  61%|██████▏   | 312/509 [2:33:58<1:37:38, 29.74s/it]"
     ]
    },
    {
     "name": "stdout",
     "output_type": "stream",
     "text": [
      "배치 312 완료: 6240/10180개 처리됨 (평균 1.5초/개, 예상 남은시간: 97.2분)\n"
     ]
    },
    {
     "name": "stderr",
     "output_type": "stream",
     "text": [
      "🌐 구글 번역:  61%|██████▏   | 313/509 [2:34:27<1:36:55, 29.67s/it]"
     ]
    },
    {
     "name": "stdout",
     "output_type": "stream",
     "text": [
      "배치 313 완료: 6260/10180개 처리됨 (평균 1.5초/개, 예상 남은시간: 96.7분)\n"
     ]
    },
    {
     "name": "stderr",
     "output_type": "stream",
     "text": [
      "🌐 구글 번역:  62%|██████▏   | 314/509 [2:34:54<1:33:41, 28.83s/it]"
     ]
    },
    {
     "name": "stdout",
     "output_type": "stream",
     "text": [
      "배치 314 완료: 6280/10180개 처리됨 (평균 1.5초/개, 예상 남은시간: 96.2분)\n"
     ]
    },
    {
     "name": "stderr",
     "output_type": "stream",
     "text": [
      "🌐 구글 번역:  62%|██████▏   | 315/509 [2:35:20<1:30:34, 28.01s/it]"
     ]
    },
    {
     "name": "stdout",
     "output_type": "stream",
     "text": [
      "배치 315 완료: 6300/10180개 처리됨 (평균 1.5초/개, 예상 남은시간: 95.7분)\n"
     ]
    },
    {
     "name": "stderr",
     "output_type": "stream",
     "text": [
      "🌐 구글 번역:  62%|██████▏   | 316/509 [2:35:49<1:30:31, 28.14s/it]"
     ]
    },
    {
     "name": "stdout",
     "output_type": "stream",
     "text": [
      "배치 316 완료: 6320/10180개 처리됨 (평균 1.5초/개, 예상 남은시간: 95.2분)\n"
     ]
    },
    {
     "name": "stderr",
     "output_type": "stream",
     "text": [
      "🌐 구글 번역:  62%|██████▏   | 317/509 [2:36:18<1:30:44, 28.36s/it]"
     ]
    },
    {
     "name": "stdout",
     "output_type": "stream",
     "text": [
      "배치 317 완료: 6340/10180개 처리됨 (평균 1.5초/개, 예상 남은시간: 94.7분)\n"
     ]
    },
    {
     "name": "stderr",
     "output_type": "stream",
     "text": [
      "🌐 구글 번역:  62%|██████▏   | 318/509 [2:36:45<1:29:03, 27.98s/it]"
     ]
    },
    {
     "name": "stdout",
     "output_type": "stream",
     "text": [
      "배치 318 완료: 6360/10180개 처리됨 (평균 1.5초/개, 예상 남은시간: 94.2분)\n"
     ]
    },
    {
     "name": "stderr",
     "output_type": "stream",
     "text": [
      "🌐 구글 번역:  63%|██████▎   | 319/509 [2:37:18<1:33:21, 29.48s/it]"
     ]
    },
    {
     "name": "stdout",
     "output_type": "stream",
     "text": [
      "배치 319 완료: 6380/10180개 처리됨 (평균 1.5초/개, 예상 남은시간: 93.7분)\n"
     ]
    },
    {
     "name": "stderr",
     "output_type": "stream",
     "text": [
      "🌐 구글 번역:  63%|██████▎   | 320/509 [2:37:51<1:36:51, 30.75s/it]"
     ]
    },
    {
     "name": "stdout",
     "output_type": "stream",
     "text": [
      "배치 320 완료: 6400/10180개 처리됨 (평균 1.5초/개, 예상 남은시간: 93.2분)\n"
     ]
    },
    {
     "name": "stderr",
     "output_type": "stream",
     "text": [
      "🌐 구글 번역:  63%|██████▎   | 321/509 [2:38:25<1:39:07, 31.64s/it]"
     ]
    },
    {
     "name": "stdout",
     "output_type": "stream",
     "text": [
      "배치 321 완료: 6420/10180개 처리됨 (평균 1.5초/개, 예상 남은시간: 92.8분)\n"
     ]
    },
    {
     "name": "stderr",
     "output_type": "stream",
     "text": [
      "🌐 구글 번역:  63%|██████▎   | 322/509 [2:38:57<1:38:53, 31.73s/it]"
     ]
    },
    {
     "name": "stdout",
     "output_type": "stream",
     "text": [
      "배치 322 완료: 6440/10180개 처리됨 (평균 1.5초/개, 예상 남은시간: 92.3분)\n"
     ]
    },
    {
     "name": "stderr",
     "output_type": "stream",
     "text": [
      "🌐 구글 번역:  63%|██████▎   | 323/509 [2:39:27<1:36:43, 31.20s/it]"
     ]
    },
    {
     "name": "stdout",
     "output_type": "stream",
     "text": [
      "배치 323 완료: 6460/10180개 처리됨 (평균 1.5초/개, 예상 남은시간: 91.8분)\n"
     ]
    },
    {
     "name": "stderr",
     "output_type": "stream",
     "text": [
      "🌐 구글 번역:  64%|██████▎   | 324/509 [2:39:58<1:35:39, 31.02s/it]"
     ]
    },
    {
     "name": "stdout",
     "output_type": "stream",
     "text": [
      "배치 324 완료: 6480/10180개 처리됨 (평균 1.5초/개, 예상 남은시간: 91.3분)\n"
     ]
    },
    {
     "name": "stderr",
     "output_type": "stream",
     "text": [
      "🌐 구글 번역:  64%|██████▍   | 325/509 [2:40:26<1:33:08, 30.37s/it]"
     ]
    },
    {
     "name": "stdout",
     "output_type": "stream",
     "text": [
      "배치 325 완료: 6500/10180개 처리됨 (평균 1.5초/개, 예상 남은시간: 90.8분)\n"
     ]
    },
    {
     "name": "stderr",
     "output_type": "stream",
     "text": [
      "🌐 구글 번역:  64%|██████▍   | 326/509 [2:40:54<1:30:04, 29.53s/it]"
     ]
    },
    {
     "name": "stdout",
     "output_type": "stream",
     "text": [
      "배치 326 완료: 6520/10180개 처리됨 (평균 1.5초/개, 예상 남은시간: 90.3분)\n"
     ]
    },
    {
     "name": "stderr",
     "output_type": "stream",
     "text": [
      "🌐 구글 번역:  64%|██████▍   | 327/509 [2:41:22<1:28:19, 29.12s/it]"
     ]
    },
    {
     "name": "stdout",
     "output_type": "stream",
     "text": [
      "배치 327 완료: 6540/10180개 처리됨 (평균 1.5초/개, 예상 남은시간: 89.8분)\n"
     ]
    },
    {
     "name": "stderr",
     "output_type": "stream",
     "text": [
      "🌐 구글 번역:  64%|██████▍   | 328/509 [2:41:52<1:28:09, 29.22s/it]"
     ]
    },
    {
     "name": "stdout",
     "output_type": "stream",
     "text": [
      "배치 328 완료: 6560/10180개 처리됨 (평균 1.5초/개, 예상 남은시간: 89.3분)\n"
     ]
    },
    {
     "name": "stderr",
     "output_type": "stream",
     "text": [
      "🌐 구글 번역:  65%|██████▍   | 329/509 [2:42:22<1:29:05, 29.70s/it]"
     ]
    },
    {
     "name": "stdout",
     "output_type": "stream",
     "text": [
      "배치 329 완료: 6580/10180개 처리됨 (평균 1.5초/개, 예상 남은시간: 88.8분)\n"
     ]
    },
    {
     "name": "stderr",
     "output_type": "stream",
     "text": [
      "🌐 구글 번역:  65%|██████▍   | 330/509 [2:42:52<1:28:16, 29.59s/it]"
     ]
    },
    {
     "name": "stdout",
     "output_type": "stream",
     "text": [
      "배치 330 완료: 6600/10180개 처리됨 (평균 1.5초/개, 예상 남은시간: 88.3분)\n"
     ]
    },
    {
     "name": "stderr",
     "output_type": "stream",
     "text": [
      "🌐 구글 번역:  65%|██████▌   | 331/509 [2:43:19<1:25:18, 28.76s/it]"
     ]
    },
    {
     "name": "stdout",
     "output_type": "stream",
     "text": [
      "배치 331 완료: 6620/10180개 처리됨 (평균 1.5초/개, 예상 남은시간: 87.8분)\n"
     ]
    },
    {
     "name": "stderr",
     "output_type": "stream",
     "text": [
      "🌐 구글 번역:  65%|██████▌   | 332/509 [2:43:47<1:24:22, 28.60s/it]"
     ]
    },
    {
     "name": "stdout",
     "output_type": "stream",
     "text": [
      "배치 332 완료: 6640/10180개 처리됨 (평균 1.5초/개, 예상 남은시간: 87.3분)\n"
     ]
    },
    {
     "name": "stderr",
     "output_type": "stream",
     "text": [
      "🌐 구글 번역:  65%|██████▌   | 333/509 [2:44:15<1:23:31, 28.48s/it]"
     ]
    },
    {
     "name": "stdout",
     "output_type": "stream",
     "text": [
      "배치 333 완료: 6660/10180개 처리됨 (평균 1.5초/개, 예상 남은시간: 86.8분)\n"
     ]
    },
    {
     "name": "stderr",
     "output_type": "stream",
     "text": [
      "🌐 구글 번역:  66%|██████▌   | 334/509 [2:44:45<1:24:21, 28.92s/it]"
     ]
    },
    {
     "name": "stdout",
     "output_type": "stream",
     "text": [
      "배치 334 완료: 6680/10180개 처리됨 (평균 1.5초/개, 예상 남은시간: 86.3분)\n"
     ]
    },
    {
     "name": "stderr",
     "output_type": "stream",
     "text": [
      "🌐 구글 번역:  66%|██████▌   | 335/509 [2:45:17<1:26:10, 29.72s/it]"
     ]
    },
    {
     "name": "stdout",
     "output_type": "stream",
     "text": [
      "배치 335 완료: 6700/10180개 처리됨 (평균 1.5초/개, 예상 남은시간: 85.8분)\n"
     ]
    },
    {
     "name": "stderr",
     "output_type": "stream",
     "text": [
      "🌐 구글 번역:  66%|██████▌   | 336/509 [2:45:46<1:25:48, 29.76s/it]"
     ]
    },
    {
     "name": "stdout",
     "output_type": "stream",
     "text": [
      "배치 336 완료: 6720/10180개 처리됨 (평균 1.5초/개, 예상 남은시간: 85.4분)\n"
     ]
    },
    {
     "name": "stderr",
     "output_type": "stream",
     "text": [
      "🌐 구글 번역:  66%|██████▌   | 337/509 [2:46:20<1:28:35, 30.90s/it]"
     ]
    },
    {
     "name": "stdout",
     "output_type": "stream",
     "text": [
      "배치 337 완료: 6740/10180개 처리됨 (평균 1.5초/개, 예상 남은시간: 84.9분)\n"
     ]
    },
    {
     "name": "stderr",
     "output_type": "stream",
     "text": [
      "🌐 구글 번역:  66%|██████▋   | 338/509 [2:46:55<1:31:45, 32.20s/it]"
     ]
    },
    {
     "name": "stdout",
     "output_type": "stream",
     "text": [
      "배치 338 완료: 6760/10180개 처리됨 (평균 1.5초/개, 예상 남은시간: 84.5분)\n"
     ]
    },
    {
     "name": "stderr",
     "output_type": "stream",
     "text": [
      "🌐 구글 번역:  67%|██████▋   | 339/509 [2:47:29<1:32:55, 32.80s/it]"
     ]
    },
    {
     "name": "stdout",
     "output_type": "stream",
     "text": [
      "배치 339 완료: 6780/10180개 처리됨 (평균 1.5초/개, 예상 남은시간: 84.0분)\n"
     ]
    },
    {
     "name": "stderr",
     "output_type": "stream",
     "text": [
      "🌐 구글 번역:  67%|██████▋   | 340/509 [2:48:03<1:33:04, 33.05s/it]"
     ]
    },
    {
     "name": "stdout",
     "output_type": "stream",
     "text": [
      "배치 340 완료: 6800/10180개 처리됨 (평균 1.5초/개, 예상 남은시간: 83.5분)\n"
     ]
    },
    {
     "name": "stderr",
     "output_type": "stream",
     "text": [
      "🌐 구글 번역:  67%|██████▋   | 341/509 [2:48:33<1:30:05, 32.18s/it]"
     ]
    },
    {
     "name": "stdout",
     "output_type": "stream",
     "text": [
      "배치 341 완료: 6820/10180개 처리됨 (평균 1.5초/개, 예상 남은시간: 83.0분)\n"
     ]
    },
    {
     "name": "stderr",
     "output_type": "stream",
     "text": [
      "🌐 구글 번역:  67%|██████▋   | 342/509 [2:49:01<1:26:03, 30.92s/it]"
     ]
    },
    {
     "name": "stdout",
     "output_type": "stream",
     "text": [
      "배치 342 완료: 6840/10180개 처리됨 (평균 1.5초/개, 예상 남은시간: 82.5분)\n"
     ]
    },
    {
     "name": "stderr",
     "output_type": "stream",
     "text": [
      "🌐 구글 번역:  67%|██████▋   | 343/509 [2:49:29<1:22:51, 29.95s/it]"
     ]
    },
    {
     "name": "stdout",
     "output_type": "stream",
     "text": [
      "배치 343 완료: 6860/10180개 처리됨 (평균 1.5초/개, 예상 남은시간: 82.0분)\n"
     ]
    },
    {
     "name": "stderr",
     "output_type": "stream",
     "text": [
      "🌐 구글 번역:  68%|██████▊   | 344/509 [2:49:56<1:20:08, 29.14s/it]"
     ]
    },
    {
     "name": "stdout",
     "output_type": "stream",
     "text": [
      "배치 344 완료: 6880/10180개 처리됨 (평균 1.5초/개, 예상 남은시간: 81.5분)\n"
     ]
    },
    {
     "name": "stderr",
     "output_type": "stream",
     "text": [
      "🌐 구글 번역:  68%|██████▊   | 345/509 [2:50:23<1:18:11, 28.61s/it]"
     ]
    },
    {
     "name": "stdout",
     "output_type": "stream",
     "text": [
      "배치 345 완료: 6900/10180개 처리됨 (평균 1.5초/개, 예상 남은시간: 81.0분)\n"
     ]
    },
    {
     "name": "stderr",
     "output_type": "stream",
     "text": [
      "🌐 구글 번역:  68%|██████▊   | 346/509 [2:50:50<1:15:50, 27.92s/it]"
     ]
    },
    {
     "name": "stdout",
     "output_type": "stream",
     "text": [
      "배치 346 완료: 6920/10180개 처리됨 (평균 1.5초/개, 예상 남은시간: 80.5분)\n"
     ]
    },
    {
     "name": "stderr",
     "output_type": "stream",
     "text": [
      "🌐 구글 번역:  68%|██████▊   | 347/509 [2:51:19<1:16:13, 28.23s/it]"
     ]
    },
    {
     "name": "stdout",
     "output_type": "stream",
     "text": [
      "배치 347 완료: 6940/10180개 처리됨 (평균 1.5초/개, 예상 남은시간: 80.0분)\n"
     ]
    },
    {
     "name": "stderr",
     "output_type": "stream",
     "text": [
      "🌐 구글 번역:  68%|██████▊   | 348/509 [2:51:48<1:16:47, 28.62s/it]"
     ]
    },
    {
     "name": "stdout",
     "output_type": "stream",
     "text": [
      "배치 348 완료: 6960/10180개 처리됨 (평균 1.5초/개, 예상 남은시간: 79.5분)\n"
     ]
    },
    {
     "name": "stderr",
     "output_type": "stream",
     "text": [
      "🌐 구글 번역:  69%|██████▊   | 349/509 [2:52:16<1:15:44, 28.41s/it]"
     ]
    },
    {
     "name": "stdout",
     "output_type": "stream",
     "text": [
      "배치 349 완료: 6980/10180개 처리됨 (평균 1.5초/개, 예상 남은시간: 79.0분)\n"
     ]
    },
    {
     "name": "stderr",
     "output_type": "stream",
     "text": [
      "🌐 구글 번역:  69%|██████▉   | 350/509 [2:52:43<1:13:45, 27.83s/it]"
     ]
    },
    {
     "name": "stdout",
     "output_type": "stream",
     "text": [
      "배치 350 완료: 7000/10180개 처리됨 (평균 1.5초/개, 예상 남은시간: 78.5분)\n"
     ]
    },
    {
     "name": "stderr",
     "output_type": "stream",
     "text": [
      "🌐 구글 번역:  69%|██████▉   | 351/509 [2:53:11<1:13:47, 28.02s/it]"
     ]
    },
    {
     "name": "stdout",
     "output_type": "stream",
     "text": [
      "배치 351 완료: 7020/10180개 처리됨 (평균 1.5초/개, 예상 남은시간: 78.0분)\n"
     ]
    },
    {
     "name": "stderr",
     "output_type": "stream",
     "text": [
      "🌐 구글 번역:  69%|██████▉   | 352/509 [2:53:38<1:12:16, 27.62s/it]"
     ]
    },
    {
     "name": "stdout",
     "output_type": "stream",
     "text": [
      "배치 352 완료: 7040/10180개 처리됨 (평균 1.5초/개, 예상 남은시간: 77.4분)\n"
     ]
    },
    {
     "name": "stderr",
     "output_type": "stream",
     "text": [
      "🌐 구글 번역:  69%|██████▉   | 353/509 [2:54:04<1:10:56, 27.29s/it]"
     ]
    },
    {
     "name": "stdout",
     "output_type": "stream",
     "text": [
      "배치 353 완료: 7060/10180개 처리됨 (평균 1.5초/개, 예상 남은시간: 76.9분)\n"
     ]
    },
    {
     "name": "stderr",
     "output_type": "stream",
     "text": [
      "🌐 구글 번역:  70%|██████▉   | 354/509 [2:54:31<1:10:23, 27.25s/it]"
     ]
    },
    {
     "name": "stdout",
     "output_type": "stream",
     "text": [
      "배치 354 완료: 7080/10180개 처리됨 (평균 1.5초/개, 예상 남은시간: 76.4분)\n"
     ]
    },
    {
     "name": "stderr",
     "output_type": "stream",
     "text": [
      "🌐 구글 번역:  70%|██████▉   | 355/509 [2:55:00<1:11:19, 27.79s/it]"
     ]
    },
    {
     "name": "stdout",
     "output_type": "stream",
     "text": [
      "배치 355 완료: 7100/10180개 처리됨 (평균 1.5초/개, 예상 남은시간: 75.9분)\n"
     ]
    },
    {
     "name": "stderr",
     "output_type": "stream",
     "text": [
      "🌐 구글 번역:  70%|██████▉   | 356/509 [2:55:28<1:10:39, 27.71s/it]"
     ]
    },
    {
     "name": "stdout",
     "output_type": "stream",
     "text": [
      "배치 356 완료: 7120/10180개 처리됨 (평균 1.5초/개, 예상 남은시간: 75.4분)\n"
     ]
    },
    {
     "name": "stderr",
     "output_type": "stream",
     "text": [
      "🌐 구글 번역:  70%|███████   | 357/509 [2:55:59<1:13:04, 28.84s/it]"
     ]
    },
    {
     "name": "stdout",
     "output_type": "stream",
     "text": [
      "배치 357 완료: 7140/10180개 처리됨 (평균 1.5초/개, 예상 남은시간: 74.9분)\n"
     ]
    },
    {
     "name": "stderr",
     "output_type": "stream",
     "text": [
      "🌐 구글 번역:  70%|███████   | 358/509 [2:56:30<1:13:52, 29.35s/it]"
     ]
    },
    {
     "name": "stdout",
     "output_type": "stream",
     "text": [
      "배치 358 완료: 7160/10180개 처리됨 (평균 1.5초/개, 예상 남은시간: 74.4분)\n"
     ]
    },
    {
     "name": "stderr",
     "output_type": "stream",
     "text": [
      "🌐 구글 번역:  71%|███████   | 359/509 [2:57:03<1:16:21, 30.54s/it]"
     ]
    },
    {
     "name": "stdout",
     "output_type": "stream",
     "text": [
      "배치 359 완료: 7180/10180개 처리됨 (평균 1.5초/개, 예상 남은시간: 74.0분)\n"
     ]
    },
    {
     "name": "stderr",
     "output_type": "stream",
     "text": [
      "🌐 구글 번역:  71%|███████   | 360/509 [2:57:36<1:17:28, 31.20s/it]"
     ]
    },
    {
     "name": "stdout",
     "output_type": "stream",
     "text": [
      "배치 360 완료: 7200/10180개 처리됨 (평균 1.5초/개, 예상 남은시간: 73.5분)\n"
     ]
    },
    {
     "name": "stderr",
     "output_type": "stream",
     "text": [
      "🌐 구글 번역:  71%|███████   | 361/509 [2:58:08<1:17:45, 31.52s/it]"
     ]
    },
    {
     "name": "stdout",
     "output_type": "stream",
     "text": [
      "배치 361 완료: 7220/10180개 처리됨 (평균 1.5초/개, 예상 남은시간: 73.0분)\n"
     ]
    },
    {
     "name": "stderr",
     "output_type": "stream",
     "text": [
      "🌐 구글 번역:  71%|███████   | 362/509 [2:58:44<1:20:09, 32.72s/it]"
     ]
    },
    {
     "name": "stdout",
     "output_type": "stream",
     "text": [
      "배치 362 완료: 7240/10180개 처리됨 (평균 1.5초/개, 예상 남은시간: 72.6분)\n"
     ]
    },
    {
     "name": "stderr",
     "output_type": "stream",
     "text": [
      "🌐 구글 번역:  71%|███████▏  | 363/509 [2:59:19<1:21:22, 33.44s/it]"
     ]
    },
    {
     "name": "stdout",
     "output_type": "stream",
     "text": [
      "배치 363 완료: 7260/10180개 처리됨 (평균 1.5초/개, 예상 남은시간: 72.1분)\n"
     ]
    },
    {
     "name": "stderr",
     "output_type": "stream",
     "text": [
      "🌐 구글 번역:  72%|███████▏  | 364/509 [2:59:54<1:21:55, 33.90s/it]"
     ]
    },
    {
     "name": "stdout",
     "output_type": "stream",
     "text": [
      "배치 364 완료: 7280/10180개 처리됨 (평균 1.5초/개, 예상 남은시간: 71.7분)\n"
     ]
    },
    {
     "name": "stderr",
     "output_type": "stream",
     "text": [
      "🌐 구글 번역:  72%|███████▏  | 365/509 [3:00:26<1:20:10, 33.40s/it]"
     ]
    },
    {
     "name": "stdout",
     "output_type": "stream",
     "text": [
      "배치 365 완료: 7300/10180개 처리됨 (평균 1.5초/개, 예상 남은시간: 71.2분)\n"
     ]
    },
    {
     "name": "stderr",
     "output_type": "stream",
     "text": [
      "🌐 구글 번역:  72%|███████▏  | 366/509 [3:00:59<1:19:24, 33.32s/it]"
     ]
    },
    {
     "name": "stdout",
     "output_type": "stream",
     "text": [
      "배치 366 완료: 7320/10180개 처리됨 (평균 1.5초/개, 예상 남은시간: 70.7분)\n"
     ]
    },
    {
     "name": "stderr",
     "output_type": "stream",
     "text": [
      "🌐 구글 번역:  72%|███████▏  | 367/509 [3:01:29<1:16:34, 32.36s/it]"
     ]
    },
    {
     "name": "stdout",
     "output_type": "stream",
     "text": [
      "배치 367 완료: 7340/10180개 처리됨 (평균 1.5초/개, 예상 남은시간: 70.2분)\n"
     ]
    },
    {
     "name": "stderr",
     "output_type": "stream",
     "text": [
      "🌐 구글 번역:  72%|███████▏  | 368/509 [3:02:04<1:17:27, 32.96s/it]"
     ]
    },
    {
     "name": "stdout",
     "output_type": "stream",
     "text": [
      "배치 368 완료: 7360/10180개 처리됨 (평균 1.5초/개, 예상 남은시간: 69.8분)\n"
     ]
    },
    {
     "name": "stderr",
     "output_type": "stream",
     "text": [
      "🌐 구글 번역:  72%|███████▏  | 369/509 [3:02:34<1:15:05, 32.18s/it]"
     ]
    },
    {
     "name": "stdout",
     "output_type": "stream",
     "text": [
      "배치 369 완료: 7380/10180개 처리됨 (평균 1.5초/개, 예상 남은시간: 69.3분)\n"
     ]
    },
    {
     "name": "stderr",
     "output_type": "stream",
     "text": [
      "🌐 구글 번역:  73%|███████▎  | 370/509 [3:03:06<1:14:00, 31.95s/it]"
     ]
    },
    {
     "name": "stdout",
     "output_type": "stream",
     "text": [
      "배치 370 완료: 7400/10180개 처리됨 (평균 1.5초/개, 예상 남은시간: 68.8분)\n"
     ]
    },
    {
     "name": "stderr",
     "output_type": "stream",
     "text": [
      "🌐 구글 번역:  73%|███████▎  | 371/509 [3:03:42<1:16:23, 33.22s/it]"
     ]
    },
    {
     "name": "stdout",
     "output_type": "stream",
     "text": [
      "배치 371 완료: 7420/10180개 처리됨 (평균 1.5초/개, 예상 남은시간: 68.3분)\n"
     ]
    },
    {
     "name": "stderr",
     "output_type": "stream",
     "text": [
      "🌐 구글 번역:  73%|███████▎  | 372/509 [3:04:15<1:15:39, 33.14s/it]"
     ]
    },
    {
     "name": "stdout",
     "output_type": "stream",
     "text": [
      "배치 372 완료: 7440/10180개 처리됨 (평균 1.5초/개, 예상 남은시간: 67.9분)\n"
     ]
    },
    {
     "name": "stderr",
     "output_type": "stream",
     "text": [
      "🌐 구글 번역:  73%|███████▎  | 373/509 [3:04:48<1:15:11, 33.17s/it]"
     ]
    },
    {
     "name": "stdout",
     "output_type": "stream",
     "text": [
      "배치 373 완료: 7460/10180개 처리됨 (평균 1.5초/개, 예상 남은시간: 67.4분)\n"
     ]
    },
    {
     "name": "stderr",
     "output_type": "stream",
     "text": [
      "🌐 구글 번역:  73%|███████▎  | 374/509 [3:05:20<1:13:54, 32.85s/it]"
     ]
    },
    {
     "name": "stdout",
     "output_type": "stream",
     "text": [
      "배치 374 완료: 7480/10180개 처리됨 (평균 1.5초/개, 예상 남은시간: 66.9분)\n"
     ]
    },
    {
     "name": "stderr",
     "output_type": "stream",
     "text": [
      "🌐 구글 번역:  74%|███████▎  | 375/509 [3:05:51<1:12:19, 32.39s/it]"
     ]
    },
    {
     "name": "stdout",
     "output_type": "stream",
     "text": [
      "배치 375 완료: 7500/10180개 처리됨 (평균 1.5초/개, 예상 남은시간: 66.4분)\n"
     ]
    },
    {
     "name": "stderr",
     "output_type": "stream",
     "text": [
      "🌐 구글 번역:  74%|███████▍  | 376/509 [3:06:19<1:08:28, 30.89s/it]"
     ]
    },
    {
     "name": "stdout",
     "output_type": "stream",
     "text": [
      "배치 376 완료: 7520/10180개 처리됨 (평균 1.5초/개, 예상 남은시간: 65.9분)\n"
     ]
    },
    {
     "name": "stderr",
     "output_type": "stream",
     "text": [
      "🌐 구글 번역:  74%|███████▍  | 377/509 [3:06:48<1:06:49, 30.38s/it]"
     ]
    },
    {
     "name": "stdout",
     "output_type": "stream",
     "text": [
      "배치 377 완료: 7540/10180개 처리됨 (평균 1.5초/개, 예상 남은시간: 65.4분)\n"
     ]
    },
    {
     "name": "stderr",
     "output_type": "stream",
     "text": [
      "🌐 구글 번역:  74%|███████▍  | 378/509 [3:07:18<1:05:54, 30.18s/it]"
     ]
    },
    {
     "name": "stdout",
     "output_type": "stream",
     "text": [
      "배치 378 완료: 7560/10180개 처리됨 (평균 1.5초/개, 예상 남은시간: 64.9분)\n"
     ]
    },
    {
     "name": "stderr",
     "output_type": "stream",
     "text": [
      "🌐 구글 번역:  74%|███████▍  | 379/509 [3:07:47<1:04:31, 29.78s/it]"
     ]
    },
    {
     "name": "stdout",
     "output_type": "stream",
     "text": [
      "배치 379 완료: 7580/10180개 처리됨 (평균 1.5초/개, 예상 남은시간: 64.4분)\n"
     ]
    },
    {
     "name": "stderr",
     "output_type": "stream",
     "text": [
      "🌐 구글 번역:  75%|███████▍  | 380/509 [3:08:18<1:05:15, 30.35s/it]"
     ]
    },
    {
     "name": "stdout",
     "output_type": "stream",
     "text": [
      "배치 380 완료: 7600/10180개 처리됨 (평균 1.5초/개, 예상 남은시간: 63.9분)\n"
     ]
    },
    {
     "name": "stderr",
     "output_type": "stream",
     "text": [
      "🌐 구글 번역:  75%|███████▍  | 381/509 [3:08:45<1:02:44, 29.41s/it]"
     ]
    },
    {
     "name": "stdout",
     "output_type": "stream",
     "text": [
      "배치 381 완료: 7620/10180개 처리됨 (평균 1.5초/개, 예상 남은시간: 63.4분)\n"
     ]
    },
    {
     "name": "stderr",
     "output_type": "stream",
     "text": [
      "🌐 구글 번역:  75%|███████▌  | 382/509 [3:09:15<1:02:07, 29.35s/it]"
     ]
    },
    {
     "name": "stdout",
     "output_type": "stream",
     "text": [
      "배치 382 완료: 7640/10180개 처리됨 (평균 1.5초/개, 예상 남은시간: 62.9분)\n"
     ]
    },
    {
     "name": "stderr",
     "output_type": "stream",
     "text": [
      "🌐 구글 번역:  75%|███████▌  | 383/509 [3:09:45<1:02:01, 29.54s/it]"
     ]
    },
    {
     "name": "stdout",
     "output_type": "stream",
     "text": [
      "배치 383 완료: 7660/10180개 처리됨 (평균 1.5초/개, 예상 남은시간: 62.4분)\n"
     ]
    },
    {
     "name": "stderr",
     "output_type": "stream",
     "text": [
      "🌐 구글 번역:  75%|███████▌  | 384/509 [3:10:15<1:01:59, 29.76s/it]"
     ]
    },
    {
     "name": "stdout",
     "output_type": "stream",
     "text": [
      "배치 384 완료: 7680/10180개 처리됨 (평균 1.5초/개, 예상 남은시간: 61.9분)\n"
     ]
    },
    {
     "name": "stderr",
     "output_type": "stream",
     "text": [
      "🌐 구글 번역:  76%|███████▌  | 385/509 [3:10:48<1:03:41, 30.82s/it]"
     ]
    },
    {
     "name": "stdout",
     "output_type": "stream",
     "text": [
      "배치 385 완료: 7700/10180개 처리됨 (평균 1.5초/개, 예상 남은시간: 61.5분)\n"
     ]
    },
    {
     "name": "stderr",
     "output_type": "stream",
     "text": [
      "🌐 구글 번역:  76%|███████▌  | 386/509 [3:11:21<1:04:16, 31.35s/it]"
     ]
    },
    {
     "name": "stdout",
     "output_type": "stream",
     "text": [
      "배치 386 완료: 7720/10180개 처리됨 (평균 1.5초/개, 예상 남은시간: 61.0분)\n"
     ]
    },
    {
     "name": "stderr",
     "output_type": "stream",
     "text": [
      "🌐 구글 번역:  76%|███████▌  | 387/509 [3:11:54<1:04:48, 31.87s/it]"
     ]
    },
    {
     "name": "stdout",
     "output_type": "stream",
     "text": [
      "배치 387 완료: 7740/10180개 처리됨 (평균 1.5초/개, 예상 남은시간: 60.5분)\n"
     ]
    },
    {
     "name": "stderr",
     "output_type": "stream",
     "text": [
      "🌐 구글 번역:  76%|███████▌  | 388/509 [3:12:24<1:03:29, 31.49s/it]"
     ]
    },
    {
     "name": "stdout",
     "output_type": "stream",
     "text": [
      "배치 388 완료: 7760/10180개 처리됨 (평균 1.5초/개, 예상 남은시간: 60.0분)\n"
     ]
    },
    {
     "name": "stderr",
     "output_type": "stream",
     "text": [
      "🌐 구글 번역:  76%|███████▋  | 389/509 [3:12:52<1:00:50, 30.42s/it]"
     ]
    },
    {
     "name": "stdout",
     "output_type": "stream",
     "text": [
      "배치 389 완료: 7780/10180개 처리됨 (평균 1.5초/개, 예상 남은시간: 59.5분)\n"
     ]
    },
    {
     "name": "stderr",
     "output_type": "stream",
     "text": [
      "🌐 구글 번역:  77%|███████▋  | 390/509 [3:13:23<1:00:31, 30.52s/it]"
     ]
    },
    {
     "name": "stdout",
     "output_type": "stream",
     "text": [
      "배치 390 완료: 7800/10180개 처리됨 (평균 1.5초/개, 예상 남은시간: 59.0분)\n"
     ]
    },
    {
     "name": "stderr",
     "output_type": "stream",
     "text": [
      "🌐 구글 번역:  77%|███████▋  | 391/509 [3:13:51<58:16, 29.63s/it]  "
     ]
    },
    {
     "name": "stdout",
     "output_type": "stream",
     "text": [
      "배치 391 완료: 7820/10180개 처리됨 (평균 1.5초/개, 예상 남은시간: 58.5분)\n"
     ]
    },
    {
     "name": "stderr",
     "output_type": "stream",
     "text": [
      "🌐 구글 번역:  77%|███████▋  | 392/509 [3:14:19<56:59, 29.22s/it]"
     ]
    },
    {
     "name": "stdout",
     "output_type": "stream",
     "text": [
      "배치 392 완료: 7840/10180개 처리됨 (평균 1.5초/개, 예상 남은시간: 58.0분)\n"
     ]
    },
    {
     "name": "stderr",
     "output_type": "stream",
     "text": [
      "🌐 구글 번역:  77%|███████▋  | 393/509 [3:14:45<54:41, 28.29s/it]"
     ]
    },
    {
     "name": "stdout",
     "output_type": "stream",
     "text": [
      "배치 393 완료: 7860/10180개 처리됨 (평균 1.5초/개, 예상 남은시간: 57.5분)\n"
     ]
    },
    {
     "name": "stderr",
     "output_type": "stream",
     "text": [
      "🌐 구글 번역:  77%|███████▋  | 394/509 [3:15:14<54:37, 28.50s/it]"
     ]
    },
    {
     "name": "stdout",
     "output_type": "stream",
     "text": [
      "배치 394 완료: 7880/10180개 처리됨 (평균 1.5초/개, 예상 남은시간: 57.0분)\n"
     ]
    },
    {
     "name": "stderr",
     "output_type": "stream",
     "text": [
      "🌐 구글 번역:  78%|███████▊  | 395/509 [3:15:42<53:33, 28.19s/it]"
     ]
    },
    {
     "name": "stdout",
     "output_type": "stream",
     "text": [
      "배치 395 완료: 7900/10180개 처리됨 (평균 1.5초/개, 예상 남은시간: 56.5분)\n"
     ]
    },
    {
     "name": "stderr",
     "output_type": "stream",
     "text": [
      "🌐 구글 번역:  78%|███████▊  | 396/509 [3:16:08<52:23, 27.82s/it]"
     ]
    },
    {
     "name": "stdout",
     "output_type": "stream",
     "text": [
      "배치 396 완료: 7920/10180개 처리됨 (평균 1.5초/개, 예상 남은시간: 56.0분)\n"
     ]
    },
    {
     "name": "stderr",
     "output_type": "stream",
     "text": [
      "🌐 구글 번역:  78%|███████▊  | 397/509 [3:16:36<51:39, 27.68s/it]"
     ]
    },
    {
     "name": "stdout",
     "output_type": "stream",
     "text": [
      "배치 397 완료: 7940/10180개 처리됨 (평균 1.5초/개, 예상 남은시간: 55.5분)\n"
     ]
    },
    {
     "name": "stderr",
     "output_type": "stream",
     "text": [
      "🌐 구글 번역:  78%|███████▊  | 398/509 [3:17:03<50:58, 27.55s/it]"
     ]
    },
    {
     "name": "stdout",
     "output_type": "stream",
     "text": [
      "배치 398 완료: 7960/10180개 처리됨 (평균 1.5초/개, 예상 남은시간: 55.0분)\n"
     ]
    },
    {
     "name": "stderr",
     "output_type": "stream",
     "text": [
      "🌐 구글 번역:  78%|███████▊  | 399/509 [3:17:31<50:29, 27.54s/it]"
     ]
    },
    {
     "name": "stdout",
     "output_type": "stream",
     "text": [
      "배치 399 완료: 7980/10180개 처리됨 (평균 1.5초/개, 예상 남은시간: 54.5분)\n"
     ]
    },
    {
     "name": "stderr",
     "output_type": "stream",
     "text": [
      "🌐 구글 번역:  79%|███████▊  | 400/509 [3:17:59<50:23, 27.74s/it]"
     ]
    },
    {
     "name": "stdout",
     "output_type": "stream",
     "text": [
      "배치 400 완료: 8000/10180개 처리됨 (평균 1.5초/개, 예상 남은시간: 54.0분)\n"
     ]
    },
    {
     "name": "stderr",
     "output_type": "stream",
     "text": [
      "🌐 구글 번역:  79%|███████▉  | 401/509 [3:18:24<48:45, 27.09s/it]"
     ]
    },
    {
     "name": "stdout",
     "output_type": "stream",
     "text": [
      "배치 401 완료: 8020/10180개 처리됨 (평균 1.5초/개, 예상 남은시간: 53.4분)\n"
     ]
    },
    {
     "name": "stderr",
     "output_type": "stream",
     "text": [
      "🌐 구글 번역:  79%|███████▉  | 402/509 [3:18:54<49:46, 27.91s/it]"
     ]
    },
    {
     "name": "stdout",
     "output_type": "stream",
     "text": [
      "배치 402 완료: 8040/10180개 처리됨 (평균 1.5초/개, 예상 남은시간: 52.9분)\n"
     ]
    },
    {
     "name": "stderr",
     "output_type": "stream",
     "text": [
      "🌐 구글 번역:  79%|███████▉  | 403/509 [3:19:21<48:51, 27.65s/it]"
     ]
    },
    {
     "name": "stdout",
     "output_type": "stream",
     "text": [
      "배치 403 완료: 8060/10180개 처리됨 (평균 1.5초/개, 예상 남은시간: 52.4분)\n"
     ]
    },
    {
     "name": "stderr",
     "output_type": "stream",
     "text": [
      "🌐 구글 번역:  79%|███████▉  | 404/509 [3:19:51<49:31, 28.30s/it]"
     ]
    },
    {
     "name": "stdout",
     "output_type": "stream",
     "text": [
      "배치 404 완료: 8080/10180개 처리됨 (평균 1.5초/개, 예상 남은시간: 51.9분)\n"
     ]
    },
    {
     "name": "stderr",
     "output_type": "stream",
     "text": [
      "🌐 구글 번역:  80%|███████▉  | 405/509 [3:20:18<48:35, 28.03s/it]"
     ]
    },
    {
     "name": "stdout",
     "output_type": "stream",
     "text": [
      "배치 405 완료: 8100/10180개 처리됨 (평균 1.5초/개, 예상 남은시간: 51.4분)\n"
     ]
    },
    {
     "name": "stderr",
     "output_type": "stream",
     "text": [
      "🌐 구글 번역:  80%|███████▉  | 406/509 [3:20:47<48:29, 28.25s/it]"
     ]
    },
    {
     "name": "stdout",
     "output_type": "stream",
     "text": [
      "배치 406 완료: 8120/10180개 처리됨 (평균 1.5초/개, 예상 남은시간: 50.9분)\n",
      "번역 시도 1 실패: the JSON object must be str, bytes or bytearray, not NoneType\n"
     ]
    },
    {
     "name": "stderr",
     "output_type": "stream",
     "text": [
      "🌐 구글 번역:  80%|███████▉  | 407/509 [3:21:18<49:17, 28.99s/it]"
     ]
    },
    {
     "name": "stdout",
     "output_type": "stream",
     "text": [
      "배치 407 완료: 8140/10180개 처리됨 (평균 1.5초/개, 예상 남은시간: 50.5분)\n"
     ]
    },
    {
     "name": "stderr",
     "output_type": "stream",
     "text": [
      "🌐 구글 번역:  80%|████████  | 408/509 [3:21:46<48:12, 28.64s/it]"
     ]
    },
    {
     "name": "stdout",
     "output_type": "stream",
     "text": [
      "배치 408 완료: 8160/10180개 처리됨 (평균 1.5초/개, 예상 남은시간: 49.9분)\n"
     ]
    },
    {
     "name": "stderr",
     "output_type": "stream",
     "text": [
      "🌐 구글 번역:  80%|████████  | 409/509 [3:22:19<50:02, 30.02s/it]"
     ]
    },
    {
     "name": "stdout",
     "output_type": "stream",
     "text": [
      "배치 409 완료: 8180/10180개 처리됨 (평균 1.5초/개, 예상 남은시간: 49.5분)\n"
     ]
    },
    {
     "name": "stderr",
     "output_type": "stream",
     "text": [
      "🌐 구글 번역:  81%|████████  | 410/509 [3:22:51<50:26, 30.57s/it]"
     ]
    },
    {
     "name": "stdout",
     "output_type": "stream",
     "text": [
      "배치 410 완료: 8200/10180개 처리됨 (평균 1.5초/개, 예상 남은시간: 49.0분)\n"
     ]
    },
    {
     "name": "stderr",
     "output_type": "stream",
     "text": [
      "🌐 구글 번역:  81%|████████  | 411/509 [3:23:25<51:37, 31.61s/it]"
     ]
    },
    {
     "name": "stdout",
     "output_type": "stream",
     "text": [
      "배치 411 완료: 8220/10180개 처리됨 (평균 1.5초/개, 예상 남은시간: 48.5분)\n"
     ]
    },
    {
     "name": "stderr",
     "output_type": "stream",
     "text": [
      "🌐 구글 번역:  81%|████████  | 412/509 [3:23:59<52:05, 32.22s/it]"
     ]
    },
    {
     "name": "stdout",
     "output_type": "stream",
     "text": [
      "배치 412 완료: 8240/10180개 처리됨 (평균 1.5초/개, 예상 남은시간: 48.0분)\n"
     ]
    },
    {
     "name": "stderr",
     "output_type": "stream",
     "text": [
      "🌐 구글 번역:  81%|████████  | 413/509 [3:24:32<52:08, 32.59s/it]"
     ]
    },
    {
     "name": "stdout",
     "output_type": "stream",
     "text": [
      "배치 413 완료: 8260/10180개 처리됨 (평균 1.5초/개, 예상 남은시간: 47.5분)\n"
     ]
    },
    {
     "name": "stderr",
     "output_type": "stream",
     "text": [
      "🌐 구글 번역:  81%|████████▏ | 414/509 [3:25:01<49:59, 31.57s/it]"
     ]
    },
    {
     "name": "stdout",
     "output_type": "stream",
     "text": [
      "배치 414 완료: 8280/10180개 처리됨 (평균 1.5초/개, 예상 남은시간: 47.0분)\n"
     ]
    },
    {
     "name": "stderr",
     "output_type": "stream",
     "text": [
      "🌐 구글 번역:  82%|████████▏ | 415/509 [3:25:33<49:22, 31.52s/it]"
     ]
    },
    {
     "name": "stdout",
     "output_type": "stream",
     "text": [
      "배치 415 완료: 8300/10180개 처리됨 (평균 1.5초/개, 예상 남은시간: 46.6분)\n"
     ]
    },
    {
     "name": "stderr",
     "output_type": "stream",
     "text": [
      "🌐 구글 번역:  82%|████████▏ | 416/509 [3:26:03<48:15, 31.14s/it]"
     ]
    },
    {
     "name": "stdout",
     "output_type": "stream",
     "text": [
      "배치 416 완료: 8320/10180개 처리됨 (평균 1.5초/개, 예상 남은시간: 46.1분)\n"
     ]
    },
    {
     "name": "stderr",
     "output_type": "stream",
     "text": [
      "🌐 구글 번역:  82%|████████▏ | 417/509 [3:26:32<46:50, 30.55s/it]"
     ]
    },
    {
     "name": "stdout",
     "output_type": "stream",
     "text": [
      "배치 417 완료: 8340/10180개 처리됨 (평균 1.5초/개, 예상 남은시간: 45.6분)\n"
     ]
    },
    {
     "name": "stderr",
     "output_type": "stream",
     "text": [
      "🌐 구글 번역:  82%|████████▏ | 418/509 [3:27:00<45:23, 29.93s/it]"
     ]
    },
    {
     "name": "stdout",
     "output_type": "stream",
     "text": [
      "배치 418 완료: 8360/10180개 처리됨 (평균 1.5초/개, 예상 남은시간: 45.1분)\n"
     ]
    },
    {
     "name": "stderr",
     "output_type": "stream",
     "text": [
      "🌐 구글 번역:  82%|████████▏ | 419/509 [3:27:28<43:54, 29.28s/it]"
     ]
    },
    {
     "name": "stdout",
     "output_type": "stream",
     "text": [
      "배치 419 완료: 8380/10180개 처리됨 (평균 1.5초/개, 예상 남은시간: 44.6분)\n"
     ]
    },
    {
     "name": "stderr",
     "output_type": "stream",
     "text": [
      "🌐 구글 번역:  83%|████████▎ | 420/509 [3:27:55<42:23, 28.58s/it]"
     ]
    },
    {
     "name": "stdout",
     "output_type": "stream",
     "text": [
      "배치 420 완료: 8400/10180개 처리됨 (평균 1.5초/개, 예상 남은시간: 44.1분)\n"
     ]
    },
    {
     "name": "stderr",
     "output_type": "stream",
     "text": [
      "🌐 구글 번역:  83%|████████▎ | 421/509 [3:28:25<42:39, 29.08s/it]"
     ]
    },
    {
     "name": "stdout",
     "output_type": "stream",
     "text": [
      "배치 421 완료: 8420/10180개 처리됨 (평균 1.5초/개, 예상 남은시간: 43.6분)\n"
     ]
    },
    {
     "name": "stderr",
     "output_type": "stream",
     "text": [
      "🌐 구글 번역:  83%|████████▎ | 422/509 [3:28:55<42:14, 29.13s/it]"
     ]
    },
    {
     "name": "stdout",
     "output_type": "stream",
     "text": [
      "배치 422 완료: 8440/10180개 처리됨 (평균 1.5초/개, 예상 남은시간: 43.1분)\n"
     ]
    },
    {
     "name": "stderr",
     "output_type": "stream",
     "text": [
      "🌐 구글 번역:  83%|████████▎ | 423/509 [3:29:24<41:46, 29.15s/it]"
     ]
    },
    {
     "name": "stdout",
     "output_type": "stream",
     "text": [
      "배치 423 완료: 8460/10180개 처리됨 (평균 1.5초/개, 예상 남은시간: 42.6분)\n"
     ]
    },
    {
     "name": "stderr",
     "output_type": "stream",
     "text": [
      "🌐 구글 번역:  83%|████████▎ | 424/509 [3:29:51<40:37, 28.68s/it]"
     ]
    },
    {
     "name": "stdout",
     "output_type": "stream",
     "text": [
      "배치 424 완료: 8480/10180개 처리됨 (평균 1.5초/개, 예상 남은시간: 42.1분)\n"
     ]
    },
    {
     "name": "stderr",
     "output_type": "stream",
     "text": [
      "🌐 구글 번역:  83%|████████▎ | 425/509 [3:30:21<40:36, 29.00s/it]"
     ]
    },
    {
     "name": "stdout",
     "output_type": "stream",
     "text": [
      "배치 425 완료: 8500/10180개 처리됨 (평균 1.5초/개, 예상 남은시간: 41.6분)\n"
     ]
    },
    {
     "name": "stderr",
     "output_type": "stream",
     "text": [
      "🌐 구글 번역:  84%|████████▎ | 426/509 [3:30:49<39:40, 28.68s/it]"
     ]
    },
    {
     "name": "stdout",
     "output_type": "stream",
     "text": [
      "배치 426 완료: 8520/10180개 처리됨 (평균 1.5초/개, 예상 남은시간: 41.1분)\n"
     ]
    },
    {
     "name": "stderr",
     "output_type": "stream",
     "text": [
      "🌐 구글 번역:  84%|████████▍ | 427/509 [3:31:18<39:04, 28.59s/it]"
     ]
    },
    {
     "name": "stdout",
     "output_type": "stream",
     "text": [
      "배치 427 완료: 8540/10180개 처리됨 (평균 1.5초/개, 예상 남은시간: 40.6분)\n"
     ]
    },
    {
     "name": "stderr",
     "output_type": "stream",
     "text": [
      "🌐 구글 번역:  84%|████████▍ | 428/509 [3:31:46<38:37, 28.62s/it]"
     ]
    },
    {
     "name": "stdout",
     "output_type": "stream",
     "text": [
      "배치 428 완료: 8560/10180개 처리됨 (평균 1.5초/개, 예상 남은시간: 40.1분)\n"
     ]
    },
    {
     "name": "stderr",
     "output_type": "stream",
     "text": [
      "🌐 구글 번역:  84%|████████▍ | 429/509 [3:32:14<37:50, 28.39s/it]"
     ]
    },
    {
     "name": "stdout",
     "output_type": "stream",
     "text": [
      "배치 429 완료: 8580/10180개 처리됨 (평균 1.5초/개, 예상 남은시간: 39.6분)\n"
     ]
    },
    {
     "name": "stderr",
     "output_type": "stream",
     "text": [
      "🌐 구글 번역:  84%|████████▍ | 430/509 [3:32:41<36:56, 28.05s/it]"
     ]
    },
    {
     "name": "stdout",
     "output_type": "stream",
     "text": [
      "배치 430 완료: 8600/10180개 처리됨 (평균 1.5초/개, 예상 남은시간: 39.1분)\n"
     ]
    },
    {
     "name": "stderr",
     "output_type": "stream",
     "text": [
      "🌐 구글 번역:  85%|████████▍ | 431/509 [3:33:13<37:43, 29.02s/it]"
     ]
    },
    {
     "name": "stdout",
     "output_type": "stream",
     "text": [
      "배치 431 완료: 8620/10180개 처리됨 (평균 1.5초/개, 예상 남은시간: 38.6분)\n"
     ]
    },
    {
     "name": "stderr",
     "output_type": "stream",
     "text": [
      "🌐 구글 번역:  85%|████████▍ | 432/509 [3:33:45<38:40, 30.14s/it]"
     ]
    },
    {
     "name": "stdout",
     "output_type": "stream",
     "text": [
      "배치 432 완료: 8640/10180개 처리됨 (평균 1.5초/개, 예상 남은시간: 38.1분)\n"
     ]
    },
    {
     "name": "stderr",
     "output_type": "stream",
     "text": [
      "🌐 구글 번역:  85%|████████▌ | 433/509 [3:34:20<39:48, 31.43s/it]"
     ]
    },
    {
     "name": "stdout",
     "output_type": "stream",
     "text": [
      "배치 433 완료: 8660/10180개 처리됨 (평균 1.5초/개, 예상 남은시간: 37.6분)\n"
     ]
    },
    {
     "name": "stderr",
     "output_type": "stream",
     "text": [
      "🌐 구글 번역:  85%|████████▌ | 434/509 [3:34:54<40:17, 32.23s/it]"
     ]
    },
    {
     "name": "stdout",
     "output_type": "stream",
     "text": [
      "배치 434 완료: 8680/10180개 처리됨 (평균 1.5초/개, 예상 남은시간: 37.1분)\n"
     ]
    },
    {
     "name": "stderr",
     "output_type": "stream",
     "text": [
      "🌐 구글 번역:  85%|████████▌ | 435/509 [3:35:28<40:20, 32.72s/it]"
     ]
    },
    {
     "name": "stdout",
     "output_type": "stream",
     "text": [
      "배치 435 완료: 8700/10180개 처리됨 (평균 1.5초/개, 예상 남은시간: 36.7분)\n"
     ]
    },
    {
     "name": "stderr",
     "output_type": "stream",
     "text": [
      "🌐 구글 번역:  86%|████████▌ | 436/509 [3:36:00<39:36, 32.55s/it]"
     ]
    },
    {
     "name": "stdout",
     "output_type": "stream",
     "text": [
      "배치 436 완료: 8720/10180개 처리됨 (평균 1.5초/개, 예상 남은시간: 36.2분)\n"
     ]
    },
    {
     "name": "stderr",
     "output_type": "stream",
     "text": [
      "🌐 구글 번역:  86%|████████▌ | 437/509 [3:36:30<38:13, 31.86s/it]"
     ]
    },
    {
     "name": "stdout",
     "output_type": "stream",
     "text": [
      "배치 437 완료: 8740/10180개 처리됨 (평균 1.5초/개, 예상 남은시간: 35.7분)\n"
     ]
    },
    {
     "name": "stderr",
     "output_type": "stream",
     "text": [
      "🌐 구글 번역:  86%|████████▌ | 438/509 [3:37:03<37:55, 32.04s/it]"
     ]
    },
    {
     "name": "stdout",
     "output_type": "stream",
     "text": [
      "배치 438 완료: 8760/10180개 처리됨 (평균 1.5초/개, 예상 남은시간: 35.2분)\n"
     ]
    },
    {
     "name": "stderr",
     "output_type": "stream",
     "text": [
      "🌐 구글 번역:  86%|████████▌ | 439/509 [3:37:33<36:47, 31.53s/it]"
     ]
    },
    {
     "name": "stdout",
     "output_type": "stream",
     "text": [
      "배치 439 완료: 8780/10180개 처리됨 (평균 1.5초/개, 예상 남은시간: 34.7분)\n"
     ]
    },
    {
     "name": "stderr",
     "output_type": "stream",
     "text": [
      "🌐 구글 번역:  86%|████████▋ | 440/509 [3:38:03<35:39, 31.00s/it]"
     ]
    },
    {
     "name": "stdout",
     "output_type": "stream",
     "text": [
      "배치 440 완료: 8800/10180개 처리됨 (평균 1.5초/개, 예상 남은시간: 34.2분)\n"
     ]
    },
    {
     "name": "stderr",
     "output_type": "stream",
     "text": [
      "🌐 구글 번역:  87%|████████▋ | 441/509 [3:38:33<34:54, 30.81s/it]"
     ]
    },
    {
     "name": "stdout",
     "output_type": "stream",
     "text": [
      "배치 441 완료: 8820/10180개 처리됨 (평균 1.5초/개, 예상 남은시간: 33.7분)\n"
     ]
    },
    {
     "name": "stderr",
     "output_type": "stream",
     "text": [
      "🌐 구글 번역:  87%|████████▋ | 442/509 [3:39:03<34:08, 30.57s/it]"
     ]
    },
    {
     "name": "stdout",
     "output_type": "stream",
     "text": [
      "배치 442 완료: 8840/10180개 처리됨 (평균 1.5초/개, 예상 남은시간: 33.2분)\n"
     ]
    },
    {
     "name": "stderr",
     "output_type": "stream",
     "text": [
      "🌐 구글 번역:  87%|████████▋ | 443/509 [3:39:33<33:15, 30.23s/it]"
     ]
    },
    {
     "name": "stdout",
     "output_type": "stream",
     "text": [
      "배치 443 완료: 8860/10180개 처리됨 (평균 1.5초/개, 예상 남은시간: 32.7분)\n"
     ]
    },
    {
     "name": "stderr",
     "output_type": "stream",
     "text": [
      "🌐 구글 번역:  87%|████████▋ | 444/509 [3:40:02<32:24, 29.92s/it]"
     ]
    },
    {
     "name": "stdout",
     "output_type": "stream",
     "text": [
      "배치 444 완료: 8880/10180개 처리됨 (평균 1.5초/개, 예상 남은시간: 32.2분)\n"
     ]
    },
    {
     "name": "stderr",
     "output_type": "stream",
     "text": [
      "🌐 구글 번역:  87%|████████▋ | 445/509 [3:40:30<31:30, 29.54s/it]"
     ]
    },
    {
     "name": "stdout",
     "output_type": "stream",
     "text": [
      "배치 445 완료: 8900/10180개 처리됨 (평균 1.5초/개, 예상 남은시간: 31.7분)\n"
     ]
    },
    {
     "name": "stderr",
     "output_type": "stream",
     "text": [
      "🌐 구글 번역:  88%|████████▊ | 446/509 [3:41:00<30:54, 29.44s/it]"
     ]
    },
    {
     "name": "stdout",
     "output_type": "stream",
     "text": [
      "배치 446 완료: 8920/10180개 처리됨 (평균 1.5초/개, 예상 남은시간: 31.2분)\n"
     ]
    },
    {
     "name": "stderr",
     "output_type": "stream",
     "text": [
      "🌐 구글 번역:  88%|████████▊ | 447/509 [3:41:29<30:17, 29.32s/it]"
     ]
    },
    {
     "name": "stdout",
     "output_type": "stream",
     "text": [
      "배치 447 완료: 8940/10180개 처리됨 (평균 1.5초/개, 예상 남은시간: 30.7분)\n"
     ]
    },
    {
     "name": "stderr",
     "output_type": "stream",
     "text": [
      "🌐 구글 번역:  88%|████████▊ | 448/509 [3:41:56<29:19, 28.85s/it]"
     ]
    },
    {
     "name": "stdout",
     "output_type": "stream",
     "text": [
      "배치 448 완료: 8960/10180개 처리됨 (평균 1.5초/개, 예상 남은시간: 30.2분)\n"
     ]
    },
    {
     "name": "stderr",
     "output_type": "stream",
     "text": [
      "🌐 구글 번역:  88%|████████▊ | 449/509 [3:42:24<28:23, 28.39s/it]"
     ]
    },
    {
     "name": "stdout",
     "output_type": "stream",
     "text": [
      "배치 449 완료: 8980/10180개 처리됨 (평균 1.5초/개, 예상 남은시간: 29.7분)\n"
     ]
    },
    {
     "name": "stderr",
     "output_type": "stream",
     "text": [
      "🌐 구글 번역:  88%|████████▊ | 450/509 [3:42:53<28:07, 28.60s/it]"
     ]
    },
    {
     "name": "stdout",
     "output_type": "stream",
     "text": [
      "배치 450 완료: 9000/10180개 처리됨 (평균 1.5초/개, 예상 남은시간: 29.2분)\n"
     ]
    },
    {
     "name": "stderr",
     "output_type": "stream",
     "text": [
      "🌐 구글 번역:  89%|████████▊ | 451/509 [3:43:22<27:52, 28.83s/it]"
     ]
    },
    {
     "name": "stdout",
     "output_type": "stream",
     "text": [
      "배치 451 완료: 9020/10180개 처리됨 (평균 1.5초/개, 예상 남은시간: 28.7분)\n"
     ]
    },
    {
     "name": "stderr",
     "output_type": "stream",
     "text": [
      "🌐 구글 번역:  89%|████████▉ | 452/509 [3:43:55<28:29, 29.99s/it]"
     ]
    },
    {
     "name": "stdout",
     "output_type": "stream",
     "text": [
      "배치 452 완료: 9040/10180개 처리됨 (평균 1.5초/개, 예상 남은시간: 28.2분)\n"
     ]
    },
    {
     "name": "stderr",
     "output_type": "stream",
     "text": [
      "🌐 구글 번역:  89%|████████▉ | 453/509 [3:44:22<27:03, 29.00s/it]"
     ]
    },
    {
     "name": "stdout",
     "output_type": "stream",
     "text": [
      "배치 453 완료: 9060/10180개 처리됨 (평균 1.5초/개, 예상 남은시간: 27.7분)\n"
     ]
    },
    {
     "name": "stderr",
     "output_type": "stream",
     "text": [
      "🌐 구글 번역:  89%|████████▉ | 454/509 [3:44:52<26:59, 29.45s/it]"
     ]
    },
    {
     "name": "stdout",
     "output_type": "stream",
     "text": [
      "배치 454 완료: 9080/10180개 처리됨 (평균 1.5초/개, 예상 남은시간: 27.2분)\n"
     ]
    },
    {
     "name": "stderr",
     "output_type": "stream",
     "text": [
      "🌐 구글 번역:  89%|████████▉ | 455/509 [3:45:29<28:24, 31.56s/it]"
     ]
    },
    {
     "name": "stdout",
     "output_type": "stream",
     "text": [
      "배치 455 완료: 9100/10180개 처리됨 (평균 1.5초/개, 예상 남은시간: 26.8분)\n"
     ]
    },
    {
     "name": "stderr",
     "output_type": "stream",
     "text": [
      "🌐 구글 번역:  90%|████████▉ | 456/509 [3:46:01<28:10, 31.90s/it]"
     ]
    },
    {
     "name": "stdout",
     "output_type": "stream",
     "text": [
      "배치 456 완료: 9120/10180개 처리됨 (평균 1.5초/개, 예상 남은시간: 26.3분)\n"
     ]
    },
    {
     "name": "stderr",
     "output_type": "stream",
     "text": [
      "🌐 구글 번역:  90%|████████▉ | 457/509 [3:46:33<27:41, 31.95s/it]"
     ]
    },
    {
     "name": "stdout",
     "output_type": "stream",
     "text": [
      "배치 457 완료: 9140/10180개 처리됨 (평균 1.5초/개, 예상 남은시간: 25.8분)\n",
      "번역 시도 1 실패: The read operation timed out\n"
     ]
    },
    {
     "name": "stderr",
     "output_type": "stream",
     "text": [
      "🌐 구글 번역:  90%|████████▉ | 458/509 [3:47:13<29:00, 34.13s/it]"
     ]
    },
    {
     "name": "stdout",
     "output_type": "stream",
     "text": [
      "배치 458 완료: 9160/10180개 처리됨 (평균 1.5초/개, 예상 남은시간: 25.3분)\n"
     ]
    },
    {
     "name": "stderr",
     "output_type": "stream",
     "text": [
      "🌐 구글 번역:  90%|█████████ | 459/509 [3:47:50<29:13, 35.07s/it]"
     ]
    },
    {
     "name": "stdout",
     "output_type": "stream",
     "text": [
      "배치 459 완료: 9180/10180개 처리됨 (평균 1.5초/개, 예상 남은시간: 24.8분)\n"
     ]
    },
    {
     "name": "stderr",
     "output_type": "stream",
     "text": [
      "🌐 구글 번역:  90%|█████████ | 460/509 [3:48:27<29:16, 35.84s/it]"
     ]
    },
    {
     "name": "stdout",
     "output_type": "stream",
     "text": [
      "배치 460 완료: 9200/10180개 처리됨 (평균 1.5초/개, 예상 남은시간: 24.3분)\n"
     ]
    },
    {
     "name": "stderr",
     "output_type": "stream",
     "text": [
      "🌐 구글 번역:  91%|█████████ | 461/509 [3:49:03<28:38, 35.81s/it]"
     ]
    },
    {
     "name": "stdout",
     "output_type": "stream",
     "text": [
      "배치 461 완료: 9220/10180개 처리됨 (평균 1.5초/개, 예상 남은시간: 23.9분)\n"
     ]
    },
    {
     "name": "stderr",
     "output_type": "stream",
     "text": [
      "🌐 구글 번역:  91%|█████████ | 462/509 [3:49:38<27:48, 35.50s/it]"
     ]
    },
    {
     "name": "stdout",
     "output_type": "stream",
     "text": [
      "배치 462 완료: 9240/10180개 처리됨 (평균 1.5초/개, 예상 남은시간: 23.4분)\n"
     ]
    },
    {
     "name": "stderr",
     "output_type": "stream",
     "text": [
      "🌐 구글 번역:  91%|█████████ | 463/509 [3:50:18<28:18, 36.91s/it]"
     ]
    },
    {
     "name": "stdout",
     "output_type": "stream",
     "text": [
      "배치 463 완료: 9260/10180개 처리됨 (평균 1.5초/개, 예상 남은시간: 22.9분)\n"
     ]
    },
    {
     "name": "stderr",
     "output_type": "stream",
     "text": [
      "🌐 구글 번역:  91%|█████████ | 464/509 [3:50:52<26:56, 35.93s/it]"
     ]
    },
    {
     "name": "stdout",
     "output_type": "stream",
     "text": [
      "배치 464 완료: 9280/10180개 처리됨 (평균 1.5초/개, 예상 남은시간: 22.4분)\n",
      "번역 시도 1 실패: The read operation timed out\n"
     ]
    },
    {
     "name": "stderr",
     "output_type": "stream",
     "text": [
      "🌐 구글 번역:  91%|█████████▏| 465/509 [3:51:33<27:33, 37.58s/it]"
     ]
    },
    {
     "name": "stdout",
     "output_type": "stream",
     "text": [
      "배치 465 완료: 9300/10180개 처리됨 (평균 1.5초/개, 예상 남은시간: 21.9분)\n"
     ]
    },
    {
     "name": "stderr",
     "output_type": "stream",
     "text": [
      "🌐 구글 번역:  92%|█████████▏| 466/509 [3:52:08<26:25, 36.88s/it]"
     ]
    },
    {
     "name": "stdout",
     "output_type": "stream",
     "text": [
      "배치 466 완료: 9320/10180개 처리됨 (평균 1.5초/개, 예상 남은시간: 21.4분)\n"
     ]
    },
    {
     "name": "stderr",
     "output_type": "stream",
     "text": [
      "🌐 구글 번역:  92%|█████████▏| 467/509 [3:52:38<24:17, 34.70s/it]"
     ]
    },
    {
     "name": "stdout",
     "output_type": "stream",
     "text": [
      "배치 467 완료: 9340/10180개 처리됨 (평균 1.5초/개, 예상 남은시간: 20.9분)\n"
     ]
    },
    {
     "name": "stderr",
     "output_type": "stream",
     "text": [
      "🌐 구글 번역:  92%|█████████▏| 468/509 [3:53:07<22:27, 32.87s/it]"
     ]
    },
    {
     "name": "stdout",
     "output_type": "stream",
     "text": [
      "배치 468 완료: 9360/10180개 처리됨 (평균 1.5초/개, 예상 남은시간: 20.4분)\n"
     ]
    },
    {
     "name": "stderr",
     "output_type": "stream",
     "text": [
      "🌐 구글 번역:  92%|█████████▏| 469/509 [3:53:33<20:35, 30.89s/it]"
     ]
    },
    {
     "name": "stdout",
     "output_type": "stream",
     "text": [
      "배치 469 완료: 9380/10180개 처리됨 (평균 1.5초/개, 예상 남은시간: 19.9분)\n"
     ]
    },
    {
     "name": "stderr",
     "output_type": "stream",
     "text": [
      "🌐 구글 번역:  92%|█████████▏| 470/509 [3:54:03<19:59, 30.74s/it]"
     ]
    },
    {
     "name": "stdout",
     "output_type": "stream",
     "text": [
      "배치 470 완료: 9400/10180개 처리됨 (평균 1.5초/개, 예상 남은시간: 19.4분)\n"
     ]
    },
    {
     "name": "stderr",
     "output_type": "stream",
     "text": [
      "🌐 구글 번역:  93%|█████████▎| 471/509 [3:54:34<19:26, 30.69s/it]"
     ]
    },
    {
     "name": "stdout",
     "output_type": "stream",
     "text": [
      "배치 471 완료: 9420/10180개 처리됨 (평균 1.5초/개, 예상 남은시간: 18.9분)\n"
     ]
    },
    {
     "name": "stderr",
     "output_type": "stream",
     "text": [
      "🌐 구글 번역:  93%|█████████▎| 472/509 [3:55:05<19:02, 30.88s/it]"
     ]
    },
    {
     "name": "stdout",
     "output_type": "stream",
     "text": [
      "배치 472 완료: 9440/10180개 처리됨 (평균 1.5초/개, 예상 남은시간: 18.4분)\n"
     ]
    },
    {
     "name": "stderr",
     "output_type": "stream",
     "text": [
      "🌐 구글 번역:  93%|█████████▎| 473/509 [3:55:36<18:32, 30.89s/it]"
     ]
    },
    {
     "name": "stdout",
     "output_type": "stream",
     "text": [
      "배치 473 완료: 9460/10180개 처리됨 (평균 1.5초/개, 예상 남은시간: 17.9분)\n"
     ]
    },
    {
     "name": "stderr",
     "output_type": "stream",
     "text": [
      "🌐 구글 번역:  93%|█████████▎| 474/509 [3:56:05<17:38, 30.26s/it]"
     ]
    },
    {
     "name": "stdout",
     "output_type": "stream",
     "text": [
      "배치 474 완료: 9480/10180개 처리됨 (평균 1.5초/개, 예상 남은시간: 17.4분)\n"
     ]
    },
    {
     "name": "stderr",
     "output_type": "stream",
     "text": [
      "🌐 구글 번역:  93%|█████████▎| 475/509 [3:56:39<17:44, 31.29s/it]"
     ]
    },
    {
     "name": "stdout",
     "output_type": "stream",
     "text": [
      "배치 475 완료: 9500/10180개 처리됨 (평균 1.5초/개, 예상 남은시간: 16.9분)\n"
     ]
    },
    {
     "name": "stderr",
     "output_type": "stream",
     "text": [
      "🌐 구글 번역:  94%|█████████▎| 476/509 [3:57:05<16:23, 29.80s/it]"
     ]
    },
    {
     "name": "stdout",
     "output_type": "stream",
     "text": [
      "배치 476 완료: 9520/10180개 처리됨 (평균 1.5초/개, 예상 남은시간: 16.4분)\n"
     ]
    },
    {
     "name": "stderr",
     "output_type": "stream",
     "text": [
      "🌐 구글 번역:  94%|█████████▎| 477/509 [3:57:35<15:54, 29.83s/it]"
     ]
    },
    {
     "name": "stdout",
     "output_type": "stream",
     "text": [
      "배치 477 완료: 9540/10180개 처리됨 (평균 1.5초/개, 예상 남은시간: 15.9분)\n"
     ]
    },
    {
     "name": "stderr",
     "output_type": "stream",
     "text": [
      "🌐 구글 번역:  94%|█████████▍| 478/509 [3:58:08<15:53, 30.77s/it]"
     ]
    },
    {
     "name": "stdout",
     "output_type": "stream",
     "text": [
      "배치 478 완료: 9560/10180개 처리됨 (평균 1.5초/개, 예상 남은시간: 15.4분)\n"
     ]
    },
    {
     "name": "stderr",
     "output_type": "stream",
     "text": [
      "🌐 구글 번역:  94%|█████████▍| 479/509 [3:58:36<15:00, 30.02s/it]"
     ]
    },
    {
     "name": "stdout",
     "output_type": "stream",
     "text": [
      "배치 479 완료: 9580/10180개 처리됨 (평균 1.5초/개, 예상 남은시간: 14.9분)\n",
      "번역 시도 1 실패: The read operation timed out\n"
     ]
    },
    {
     "name": "stderr",
     "output_type": "stream",
     "text": [
      "🌐 구글 번역:  94%|█████████▍| 480/509 [3:59:13<15:32, 32.15s/it]"
     ]
    },
    {
     "name": "stdout",
     "output_type": "stream",
     "text": [
      "배치 480 완료: 9600/10180개 처리됨 (평균 1.5초/개, 예상 남은시간: 14.5분)\n"
     ]
    },
    {
     "name": "stderr",
     "output_type": "stream",
     "text": [
      "🌐 구글 번역:  94%|█████████▍| 481/509 [3:59:43<14:44, 31.59s/it]"
     ]
    },
    {
     "name": "stdout",
     "output_type": "stream",
     "text": [
      "배치 481 완료: 9620/10180개 처리됨 (평균 1.5초/개, 예상 남은시간: 14.0분)\n"
     ]
    },
    {
     "name": "stderr",
     "output_type": "stream",
     "text": [
      "🌐 구글 번역:  95%|█████████▍| 482/509 [4:00:18<14:36, 32.45s/it]"
     ]
    },
    {
     "name": "stdout",
     "output_type": "stream",
     "text": [
      "배치 482 완료: 9640/10180개 처리됨 (평균 1.5초/개, 예상 남은시간: 13.5분)\n"
     ]
    },
    {
     "name": "stderr",
     "output_type": "stream",
     "text": [
      "🌐 구글 번역:  95%|█████████▍| 483/509 [4:00:52<14:16, 32.95s/it]"
     ]
    },
    {
     "name": "stdout",
     "output_type": "stream",
     "text": [
      "배치 483 완료: 9660/10180개 처리됨 (평균 1.5초/개, 예상 남은시간: 13.0분)\n"
     ]
    },
    {
     "name": "stderr",
     "output_type": "stream",
     "text": [
      "🌐 구글 번역:  95%|█████████▌| 484/509 [4:01:29<14:11, 34.05s/it]"
     ]
    },
    {
     "name": "stdout",
     "output_type": "stream",
     "text": [
      "배치 484 완료: 9680/10180개 처리됨 (평균 1.5초/개, 예상 남은시간: 12.5분)\n"
     ]
    },
    {
     "name": "stderr",
     "output_type": "stream",
     "text": [
      "🌐 구글 번역:  95%|█████████▌| 485/509 [4:02:01<13:26, 33.60s/it]"
     ]
    },
    {
     "name": "stdout",
     "output_type": "stream",
     "text": [
      "배치 485 완료: 9700/10180개 처리됨 (평균 1.5초/개, 예상 남은시간: 12.0분)\n"
     ]
    },
    {
     "name": "stderr",
     "output_type": "stream",
     "text": [
      "🌐 구글 번역:  95%|█████████▌| 486/509 [4:02:30<12:19, 32.17s/it]"
     ]
    },
    {
     "name": "stdout",
     "output_type": "stream",
     "text": [
      "배치 486 완료: 9720/10180개 처리됨 (평균 1.5초/개, 예상 남은시간: 11.5분)\n"
     ]
    },
    {
     "name": "stderr",
     "output_type": "stream",
     "text": [
      "🌐 구글 번역:  96%|█████████▌| 487/509 [4:03:00<11:33, 31.53s/it]"
     ]
    },
    {
     "name": "stdout",
     "output_type": "stream",
     "text": [
      "배치 487 완료: 9740/10180개 처리됨 (평균 1.5초/개, 예상 남은시간: 11.0분)\n"
     ]
    },
    {
     "name": "stderr",
     "output_type": "stream",
     "text": [
      "🌐 구글 번역:  96%|█████████▌| 488/509 [4:03:31<11:00, 31.43s/it]"
     ]
    },
    {
     "name": "stdout",
     "output_type": "stream",
     "text": [
      "배치 488 완료: 9760/10180개 처리됨 (평균 1.5초/개, 예상 남은시간: 10.5분)\n"
     ]
    },
    {
     "name": "stderr",
     "output_type": "stream",
     "text": [
      "🌐 구글 번역:  96%|█████████▌| 489/509 [4:04:04<10:38, 31.93s/it]"
     ]
    },
    {
     "name": "stdout",
     "output_type": "stream",
     "text": [
      "배치 489 완료: 9780/10180개 처리됨 (평균 1.5초/개, 예상 남은시간: 10.0분)\n"
     ]
    },
    {
     "name": "stderr",
     "output_type": "stream",
     "text": [
      "🌐 구글 번역:  96%|█████████▋| 490/509 [4:04:33<09:49, 31.01s/it]"
     ]
    },
    {
     "name": "stdout",
     "output_type": "stream",
     "text": [
      "배치 490 완료: 9800/10180개 처리됨 (평균 1.5초/개, 예상 남은시간: 9.5분)\n"
     ]
    },
    {
     "name": "stderr",
     "output_type": "stream",
     "text": [
      "🌐 구글 번역:  96%|█████████▋| 491/509 [4:05:02<09:04, 30.24s/it]"
     ]
    },
    {
     "name": "stdout",
     "output_type": "stream",
     "text": [
      "배치 491 완료: 9820/10180개 처리됨 (평균 1.5초/개, 예상 남은시간: 9.0분)\n"
     ]
    },
    {
     "name": "stderr",
     "output_type": "stream",
     "text": [
      "🌐 구글 번역:  97%|█████████▋| 492/509 [4:05:29<08:20, 29.47s/it]"
     ]
    },
    {
     "name": "stdout",
     "output_type": "stream",
     "text": [
      "배치 492 완료: 9840/10180개 처리됨 (평균 1.5초/개, 예상 남은시간: 8.5분)\n"
     ]
    },
    {
     "name": "stderr",
     "output_type": "stream",
     "text": [
      "🌐 구글 번역:  97%|█████████▋| 493/509 [4:06:01<08:03, 30.21s/it]"
     ]
    },
    {
     "name": "stdout",
     "output_type": "stream",
     "text": [
      "배치 493 완료: 9860/10180개 처리됨 (평균 1.5초/개, 예상 남은시간: 8.0분)\n"
     ]
    },
    {
     "name": "stderr",
     "output_type": "stream",
     "text": [
      "🌐 구글 번역:  97%|█████████▋| 494/509 [4:06:28<07:19, 29.28s/it]"
     ]
    },
    {
     "name": "stdout",
     "output_type": "stream",
     "text": [
      "배치 494 완료: 9880/10180개 처리됨 (평균 1.5초/개, 예상 남은시간: 7.5분)\n"
     ]
    },
    {
     "name": "stderr",
     "output_type": "stream",
     "text": [
      "🌐 구글 번역:  97%|█████████▋| 495/509 [4:07:01<07:04, 30.34s/it]"
     ]
    },
    {
     "name": "stdout",
     "output_type": "stream",
     "text": [
      "배치 495 완료: 9900/10180개 처리됨 (평균 1.5초/개, 예상 남은시간: 7.0분)\n"
     ]
    },
    {
     "name": "stderr",
     "output_type": "stream",
     "text": [
      "🌐 구글 번역:  97%|█████████▋| 496/509 [4:07:30<06:27, 29.81s/it]"
     ]
    },
    {
     "name": "stdout",
     "output_type": "stream",
     "text": [
      "배치 496 완료: 9920/10180개 처리됨 (평균 1.5초/개, 예상 남은시간: 6.5분)\n",
      "번역 시도 1 실패: The read operation timed out\n"
     ]
    },
    {
     "name": "stderr",
     "output_type": "stream",
     "text": [
      "🌐 구글 번역:  98%|█████████▊| 497/509 [4:08:07<06:25, 32.14s/it]"
     ]
    },
    {
     "name": "stdout",
     "output_type": "stream",
     "text": [
      "배치 497 완료: 9940/10180개 처리됨 (평균 1.5초/개, 예상 남은시간: 6.0분)\n"
     ]
    },
    {
     "name": "stderr",
     "output_type": "stream",
     "text": [
      "🌐 구글 번역:  98%|█████████▊| 498/509 [4:08:34<05:33, 30.36s/it]"
     ]
    },
    {
     "name": "stdout",
     "output_type": "stream",
     "text": [
      "배치 498 완료: 9960/10180개 처리됨 (평균 1.5초/개, 예상 남은시간: 5.5분)\n"
     ]
    },
    {
     "name": "stderr",
     "output_type": "stream",
     "text": [
      "🌐 구글 번역:  98%|█████████▊| 499/509 [4:09:03<04:59, 29.98s/it]"
     ]
    },
    {
     "name": "stdout",
     "output_type": "stream",
     "text": [
      "배치 499 완료: 9980/10180개 처리됨 (평균 1.5초/개, 예상 남은시간: 5.0분)\n"
     ]
    },
    {
     "name": "stderr",
     "output_type": "stream",
     "text": [
      "🌐 구글 번역:  98%|█████████▊| 500/509 [4:09:31<04:26, 29.60s/it]"
     ]
    },
    {
     "name": "stdout",
     "output_type": "stream",
     "text": [
      "배치 500 완료: 10000/10180개 처리됨 (평균 1.5초/개, 예상 남은시간: 4.5분)\n"
     ]
    },
    {
     "name": "stderr",
     "output_type": "stream",
     "text": [
      "🌐 구글 번역:  98%|█████████▊| 501/509 [4:09:59<03:52, 29.08s/it]"
     ]
    },
    {
     "name": "stdout",
     "output_type": "stream",
     "text": [
      "배치 501 완료: 10020/10180개 처리됨 (평균 1.5초/개, 예상 남은시간: 4.0분)\n"
     ]
    },
    {
     "name": "stderr",
     "output_type": "stream",
     "text": [
      "🌐 구글 번역:  99%|█████████▊| 502/509 [4:10:25<03:17, 28.17s/it]"
     ]
    },
    {
     "name": "stdout",
     "output_type": "stream",
     "text": [
      "배치 502 완료: 10040/10180개 처리됨 (평균 1.5초/개, 예상 남은시간: 3.5분)\n"
     ]
    },
    {
     "name": "stderr",
     "output_type": "stream",
     "text": [
      "🌐 구글 번역:  99%|█████████▉| 503/509 [4:10:54<02:49, 28.30s/it]"
     ]
    },
    {
     "name": "stdout",
     "output_type": "stream",
     "text": [
      "배치 503 완료: 10060/10180개 처리됨 (평균 1.5초/개, 예상 남은시간: 3.0분)\n"
     ]
    },
    {
     "name": "stderr",
     "output_type": "stream",
     "text": [
      "🌐 구글 번역:  99%|█████████▉| 504/509 [4:11:24<02:24, 28.85s/it]"
     ]
    },
    {
     "name": "stdout",
     "output_type": "stream",
     "text": [
      "배치 504 완료: 10080/10180개 처리됨 (평균 1.5초/개, 예상 남은시간: 2.5분)\n"
     ]
    },
    {
     "name": "stderr",
     "output_type": "stream",
     "text": [
      "🌐 구글 번역:  99%|█████████▉| 505/509 [4:11:55<01:57, 29.34s/it]"
     ]
    },
    {
     "name": "stdout",
     "output_type": "stream",
     "text": [
      "배치 505 완료: 10100/10180개 처리됨 (평균 1.5초/개, 예상 남은시간: 2.0분)\n"
     ]
    },
    {
     "name": "stderr",
     "output_type": "stream",
     "text": [
      "🌐 구글 번역:  99%|█████████▉| 506/509 [4:12:22<01:26, 28.81s/it]"
     ]
    },
    {
     "name": "stdout",
     "output_type": "stream",
     "text": [
      "배치 506 완료: 10120/10180개 처리됨 (평균 1.5초/개, 예상 남은시간: 1.5분)\n"
     ]
    },
    {
     "name": "stderr",
     "output_type": "stream",
     "text": [
      "🌐 구글 번역: 100%|█████████▉| 507/509 [4:12:54<00:59, 29.74s/it]"
     ]
    },
    {
     "name": "stdout",
     "output_type": "stream",
     "text": [
      "배치 507 완료: 10140/10180개 처리됨 (평균 1.5초/개, 예상 남은시간: 1.0분)\n"
     ]
    },
    {
     "name": "stderr",
     "output_type": "stream",
     "text": [
      "🌐 구글 번역: 100%|█████████▉| 508/509 [4:13:23<00:29, 29.56s/it]"
     ]
    },
    {
     "name": "stdout",
     "output_type": "stream",
     "text": [
      "배치 508 완료: 10160/10180개 처리됨 (평균 1.5초/개, 예상 남은시간: 0.5분)\n"
     ]
    },
    {
     "name": "stderr",
     "output_type": "stream",
     "text": [
      "🌐 구글 번역: 100%|██████████| 509/509 [4:13:52<00:00, 29.93s/it]\n"
     ]
    },
    {
     "name": "stdout",
     "output_type": "stream",
     "text": [
      "배치 509 완료: 10180/10180개 처리됨 (평균 1.5초/개, 예상 남은시간: 0.0분)\n",
      "🎉 번역 완료! 총 10180개 항목, 소요시간: 253.9분\n",
      "\n",
      "=== 2. SecBench MCQA 번역 (2730개) ===\n",
      "총 2730개 항목을 20개씩 배치 번역 시작...\n",
      "결과 파일: ../data/SecBench/mcqa.csv\n"
     ]
    },
    {
     "name": "stderr",
     "output_type": "stream",
     "text": [
      "🌐 구글 번역:   1%|          | 1/137 [00:51<1:55:39, 51.03s/it]"
     ]
    },
    {
     "name": "stdout",
     "output_type": "stream",
     "text": [
      "배치 1 완료: 20/2730개 처리됨 (평균 2.6초/개, 예상 남은시간: 115.3분)\n"
     ]
    },
    {
     "name": "stderr",
     "output_type": "stream",
     "text": [
      "🌐 구글 번역:   1%|▏         | 2/137 [01:44<1:58:07, 52.50s/it]"
     ]
    },
    {
     "name": "stdout",
     "output_type": "stream",
     "text": [
      "배치 2 완료: 40/2730개 처리됨 (평균 2.6초/개, 예상 남은시간: 117.2분)\n"
     ]
    },
    {
     "name": "stderr",
     "output_type": "stream",
     "text": [
      "🌐 구글 번역:   2%|▏         | 3/137 [02:31<1:51:26, 49.90s/it]"
     ]
    },
    {
     "name": "stdout",
     "output_type": "stream",
     "text": [
      "배치 3 완료: 60/2730개 처리됨 (평균 2.5초/개, 예상 남은시간: 112.3분)\n"
     ]
    },
    {
     "name": "stderr",
     "output_type": "stream",
     "text": [
      "🌐 구글 번역:   3%|▎         | 4/137 [03:26<1:55:14, 51.99s/it]"
     ]
    },
    {
     "name": "stdout",
     "output_type": "stream",
     "text": [
      "배치 4 완료: 80/2730개 처리됨 (평균 2.6초/개, 예상 남은시간: 114.0분)\n"
     ]
    },
    {
     "name": "stderr",
     "output_type": "stream",
     "text": [
      "🌐 구글 번역:   4%|▎         | 5/137 [04:15<1:51:35, 50.72s/it]"
     ]
    },
    {
     "name": "stdout",
     "output_type": "stream",
     "text": [
      "배치 5 완료: 100/2730개 처리됨 (평균 2.6초/개, 예상 남은시간: 111.8분)\n"
     ]
    },
    {
     "name": "stderr",
     "output_type": "stream",
     "text": [
      "🌐 구글 번역:   4%|▍         | 6/137 [04:59<1:46:19, 48.70s/it]"
     ]
    },
    {
     "name": "stdout",
     "output_type": "stream",
     "text": [
      "배치 6 완료: 120/2730개 처리됨 (평균 2.5초/개, 예상 남은시간: 108.7분)\n"
     ]
    },
    {
     "name": "stderr",
     "output_type": "stream",
     "text": [
      "🌐 구글 번역:   5%|▌         | 7/137 [05:47<1:45:09, 48.53s/it]"
     ]
    },
    {
     "name": "stdout",
     "output_type": "stream",
     "text": [
      "배치 7 완료: 140/2730개 처리됨 (평균 2.5초/개, 예상 남은시간: 107.3분)\n"
     ]
    },
    {
     "name": "stderr",
     "output_type": "stream",
     "text": [
      "🌐 구글 번역:   6%|▌         | 8/137 [06:38<1:45:51, 49.24s/it]"
     ]
    },
    {
     "name": "stdout",
     "output_type": "stream",
     "text": [
      "배치 8 완료: 160/2730개 처리됨 (평균 2.5초/개, 예상 남은시간: 106.7분)\n"
     ]
    },
    {
     "name": "stderr",
     "output_type": "stream",
     "text": [
      "🌐 구글 번역:   7%|▋         | 9/137 [07:30<1:46:38, 49.98s/it]"
     ]
    },
    {
     "name": "stdout",
     "output_type": "stream",
     "text": [
      "배치 9 완료: 180/2730개 처리됨 (평균 2.5초/개, 예상 남은시간: 106.3분)\n"
     ]
    },
    {
     "name": "stderr",
     "output_type": "stream",
     "text": [
      "🌐 구글 번역:   7%|▋         | 10/137 [08:17<1:44:12, 49.23s/it]"
     ]
    },
    {
     "name": "stdout",
     "output_type": "stream",
     "text": [
      "배치 10 완료: 200/2730개 처리됨 (평균 2.5초/개, 예상 남은시간: 105.0분)\n"
     ]
    },
    {
     "name": "stderr",
     "output_type": "stream",
     "text": [
      "🌐 구글 번역:   8%|▊         | 11/137 [09:10<1:45:42, 50.34s/it]"
     ]
    },
    {
     "name": "stdout",
     "output_type": "stream",
     "text": [
      "배치 11 완료: 220/2730개 처리됨 (평균 2.5초/개, 예상 남은시간: 104.7분)\n"
     ]
    },
    {
     "name": "stderr",
     "output_type": "stream",
     "text": [
      "🌐 구글 번역:   9%|▉         | 12/137 [09:58<1:43:08, 49.51s/it]"
     ]
    },
    {
     "name": "stdout",
     "output_type": "stream",
     "text": [
      "배치 12 완료: 240/2730개 처리됨 (평균 2.5초/개, 예상 남은시간: 103.5분)\n"
     ]
    },
    {
     "name": "stderr",
     "output_type": "stream",
     "text": [
      "🌐 구글 번역:   9%|▉         | 13/137 [10:48<1:42:30, 49.60s/it]"
     ]
    },
    {
     "name": "stdout",
     "output_type": "stream",
     "text": [
      "배치 13 완료: 260/2730개 처리됨 (평균 2.5초/개, 예상 남은시간: 102.6분)\n"
     ]
    },
    {
     "name": "stderr",
     "output_type": "stream",
     "text": [
      "🌐 구글 번역:  10%|█         | 14/137 [11:37<1:41:39, 49.59s/it]"
     ]
    },
    {
     "name": "stdout",
     "output_type": "stream",
     "text": [
      "배치 14 완료: 280/2730개 처리됨 (평균 2.5초/개, 예상 남은시간: 101.8분)\n"
     ]
    },
    {
     "name": "stderr",
     "output_type": "stream",
     "text": [
      "🌐 구글 번역:  11%|█         | 15/137 [12:32<1:44:04, 51.19s/it]"
     ]
    },
    {
     "name": "stdout",
     "output_type": "stream",
     "text": [
      "배치 15 완료: 300/2730개 처리됨 (평균 2.5초/개, 예상 남은시간: 101.6분)\n"
     ]
    },
    {
     "name": "stderr",
     "output_type": "stream",
     "text": [
      "🌐 구글 번역:  12%|█▏        | 16/137 [13:20<1:41:27, 50.31s/it]"
     ]
    },
    {
     "name": "stdout",
     "output_type": "stream",
     "text": [
      "배치 16 완료: 320/2730개 처리됨 (평균 2.5초/개, 예상 남은시간: 100.5분)\n"
     ]
    },
    {
     "name": "stderr",
     "output_type": "stream",
     "text": [
      "🌐 구글 번역:  12%|█▏        | 17/137 [14:06<1:37:43, 48.87s/it]"
     ]
    },
    {
     "name": "stdout",
     "output_type": "stream",
     "text": [
      "배치 17 완료: 340/2730개 처리됨 (평균 2.5초/개, 예상 남은시간: 99.2분)\n"
     ]
    },
    {
     "name": "stderr",
     "output_type": "stream",
     "text": [
      "🌐 구글 번역:  13%|█▎        | 18/137 [14:52<1:35:04, 47.94s/it]"
     ]
    },
    {
     "name": "stdout",
     "output_type": "stream",
     "text": [
      "배치 18 완료: 360/2730개 처리됨 (평균 2.5초/개, 예상 남은시간: 97.9분)\n"
     ]
    },
    {
     "name": "stderr",
     "output_type": "stream",
     "text": [
      "🌐 구글 번역:  14%|█▍        | 19/137 [15:37<1:32:45, 47.16s/it]"
     ]
    },
    {
     "name": "stdout",
     "output_type": "stream",
     "text": [
      "배치 19 완료: 380/2730개 처리됨 (평균 2.5초/개, 예상 남은시간: 96.6분)\n"
     ]
    },
    {
     "name": "stderr",
     "output_type": "stream",
     "text": [
      "🌐 구글 번역:  15%|█▍        | 20/137 [16:20<1:29:42, 46.00s/it]"
     ]
    },
    {
     "name": "stdout",
     "output_type": "stream",
     "text": [
      "배치 20 완료: 400/2730개 처리됨 (평균 2.5초/개, 예상 남은시간: 95.2분)\n"
     ]
    },
    {
     "name": "stderr",
     "output_type": "stream",
     "text": [
      "🌐 구글 번역:  15%|█▌        | 21/137 [17:01<1:25:54, 44.44s/it]"
     ]
    },
    {
     "name": "stdout",
     "output_type": "stream",
     "text": [
      "배치 21 완료: 420/2730개 처리됨 (평균 2.4초/개, 예상 남은시간: 93.7분)\n"
     ]
    },
    {
     "name": "stderr",
     "output_type": "stream",
     "text": [
      "🌐 구글 번역:  16%|█▌        | 22/137 [17:45<1:24:44, 44.21s/it]"
     ]
    },
    {
     "name": "stdout",
     "output_type": "stream",
     "text": [
      "배치 22 완료: 440/2730개 처리됨 (평균 2.4초/개, 예상 남은시간: 92.4분)\n"
     ]
    },
    {
     "name": "stderr",
     "output_type": "stream",
     "text": [
      "🌐 구글 번역:  17%|█▋        | 23/137 [18:31<1:25:10, 44.83s/it]"
     ]
    },
    {
     "name": "stdout",
     "output_type": "stream",
     "text": [
      "배치 23 완료: 460/2730개 처리됨 (평균 2.4초/개, 예상 남은시간: 91.4분)\n"
     ]
    },
    {
     "name": "stderr",
     "output_type": "stream",
     "text": [
      "🌐 구글 번역:  18%|█▊        | 24/137 [19:12<1:21:59, 43.54s/it]"
     ]
    },
    {
     "name": "stdout",
     "output_type": "stream",
     "text": [
      "배치 24 완료: 480/2730개 처리됨 (평균 2.4초/개, 예상 남은시간: 90.0분)\n"
     ]
    },
    {
     "name": "stderr",
     "output_type": "stream",
     "text": [
      "🌐 구글 번역:  18%|█▊        | 25/137 [20:00<1:24:13, 45.12s/it]"
     ]
    },
    {
     "name": "stdout",
     "output_type": "stream",
     "text": [
      "배치 25 완료: 500/2730개 처리됨 (평균 2.4초/개, 예상 남은시간: 89.3분)\n"
     ]
    },
    {
     "name": "stderr",
     "output_type": "stream",
     "text": [
      "🌐 구글 번역:  19%|█▉        | 26/137 [20:45<1:23:24, 45.09s/it]"
     ]
    },
    {
     "name": "stdout",
     "output_type": "stream",
     "text": [
      "배치 26 완료: 520/2730개 처리됨 (평균 2.4초/개, 예상 남은시간: 88.3분)\n"
     ]
    },
    {
     "name": "stderr",
     "output_type": "stream",
     "text": [
      "🌐 구글 번역:  20%|█▉        | 27/137 [21:30<1:22:09, 44.82s/it]"
     ]
    },
    {
     "name": "stdout",
     "output_type": "stream",
     "text": [
      "배치 27 완료: 540/2730개 처리됨 (평균 2.4초/개, 예상 남은시간: 87.2분)\n"
     ]
    },
    {
     "name": "stderr",
     "output_type": "stream",
     "text": [
      "🌐 구글 번역:  20%|██        | 28/137 [22:13<1:20:27, 44.29s/it]"
     ]
    },
    {
     "name": "stdout",
     "output_type": "stream",
     "text": [
      "배치 28 완료: 560/2730개 처리됨 (평균 2.4초/개, 예상 남은시간: 86.1분)\n"
     ]
    },
    {
     "name": "stderr",
     "output_type": "stream",
     "text": [
      "🌐 구글 번역:  21%|██        | 29/137 [22:57<1:19:49, 44.35s/it]"
     ]
    },
    {
     "name": "stdout",
     "output_type": "stream",
     "text": [
      "배치 29 완료: 580/2730개 처리됨 (평균 2.4초/개, 예상 남은시간: 85.1분)\n"
     ]
    },
    {
     "name": "stderr",
     "output_type": "stream",
     "text": [
      "🌐 구글 번역:  22%|██▏       | 30/137 [23:31<1:13:15, 41.08s/it]"
     ]
    },
    {
     "name": "stdout",
     "output_type": "stream",
     "text": [
      "배치 30 완료: 600/2730개 처리됨 (평균 2.4초/개, 예상 남은시간: 83.5분)\n"
     ]
    },
    {
     "name": "stderr",
     "output_type": "stream",
     "text": [
      "🌐 구글 번역:  23%|██▎       | 31/137 [24:11<1:12:08, 40.83s/it]"
     ]
    },
    {
     "name": "stdout",
     "output_type": "stream",
     "text": [
      "배치 31 완료: 620/2730개 처리됨 (평균 2.3초/개, 예상 남은시간: 82.3분)\n"
     ]
    },
    {
     "name": "stderr",
     "output_type": "stream",
     "text": [
      "🌐 구글 번역:  23%|██▎       | 32/137 [24:56<1:13:29, 42.00s/it]"
     ]
    },
    {
     "name": "stdout",
     "output_type": "stream",
     "text": [
      "배치 32 완료: 640/2730개 처리됨 (평균 2.3초/개, 예상 남은시간: 81.4분)\n"
     ]
    },
    {
     "name": "stderr",
     "output_type": "stream",
     "text": [
      "🌐 구글 번역:  24%|██▍       | 33/137 [25:35<1:11:41, 41.36s/it]"
     ]
    },
    {
     "name": "stdout",
     "output_type": "stream",
     "text": [
      "배치 33 완료: 660/2730개 처리됨 (평균 2.3초/개, 예상 남은시간: 80.3분)\n"
     ]
    },
    {
     "name": "stderr",
     "output_type": "stream",
     "text": [
      "🌐 구글 번역:  25%|██▍       | 34/137 [26:20<1:12:25, 42.19s/it]"
     ]
    },
    {
     "name": "stdout",
     "output_type": "stream",
     "text": [
      "배치 34 완료: 680/2730개 처리됨 (평균 2.3초/개, 예상 남은시간: 79.4분)\n"
     ]
    },
    {
     "name": "stderr",
     "output_type": "stream",
     "text": [
      "🌐 구글 번역:  26%|██▌       | 35/137 [27:02<1:11:55, 42.31s/it]"
     ]
    },
    {
     "name": "stdout",
     "output_type": "stream",
     "text": [
      "배치 35 완료: 700/2730개 처리됨 (평균 2.3초/개, 예상 남은시간: 78.4분)\n"
     ]
    },
    {
     "name": "stderr",
     "output_type": "stream",
     "text": [
      "🌐 구글 번역:  26%|██▋       | 36/137 [27:47<1:12:33, 43.10s/it]"
     ]
    },
    {
     "name": "stdout",
     "output_type": "stream",
     "text": [
      "배치 36 완료: 720/2730개 처리됨 (평균 2.3초/개, 예상 남은시간: 77.6분)\n"
     ]
    },
    {
     "name": "stderr",
     "output_type": "stream",
     "text": [
      "🌐 구글 번역:  27%|██▋       | 37/137 [28:28<1:10:54, 42.55s/it]"
     ]
    },
    {
     "name": "stdout",
     "output_type": "stream",
     "text": [
      "배치 37 완료: 740/2730개 처리됨 (평균 2.3초/개, 예상 남은시간: 76.6분)\n"
     ]
    },
    {
     "name": "stderr",
     "output_type": "stream",
     "text": [
      "🌐 구글 번역:  28%|██▊       | 38/137 [29:07<1:08:05, 41.27s/it]"
     ]
    },
    {
     "name": "stdout",
     "output_type": "stream",
     "text": [
      "배치 38 완료: 760/2730개 처리됨 (평균 2.3초/개, 예상 남은시간: 75.5분)\n"
     ]
    },
    {
     "name": "stderr",
     "output_type": "stream",
     "text": [
      "🌐 구글 번역:  28%|██▊       | 39/137 [29:56<1:11:22, 43.70s/it]"
     ]
    },
    {
     "name": "stdout",
     "output_type": "stream",
     "text": [
      "배치 39 완료: 780/2730개 처리됨 (평균 2.3초/개, 예상 남은시간: 74.9분)\n"
     ]
    },
    {
     "name": "stderr",
     "output_type": "stream",
     "text": [
      "🌐 구글 번역:  29%|██▉       | 40/137 [30:43<1:12:20, 44.75s/it]"
     ]
    },
    {
     "name": "stdout",
     "output_type": "stream",
     "text": [
      "배치 40 완료: 800/2730개 처리됨 (평균 2.3초/개, 예상 남은시간: 74.1분)\n"
     ]
    },
    {
     "name": "stderr",
     "output_type": "stream",
     "text": [
      "🌐 구글 번역:  30%|██▉       | 41/137 [31:23<1:09:02, 43.15s/it]"
     ]
    },
    {
     "name": "stdout",
     "output_type": "stream",
     "text": [
      "배치 41 완료: 820/2730개 처리됨 (평균 2.3초/개, 예상 남은시간: 73.1분)\n",
      "번역 시도 1 실패: The read operation timed out\n"
     ]
    },
    {
     "name": "stderr",
     "output_type": "stream",
     "text": [
      "🌐 구글 번역:  31%|███       | 42/137 [32:12<1:11:13, 44.99s/it]"
     ]
    },
    {
     "name": "stdout",
     "output_type": "stream",
     "text": [
      "배치 42 완료: 840/2730개 처리됨 (평균 2.3초/개, 예상 남은시간: 72.5분)\n",
      "언어 감지 오류: The read operation timed out\n",
      "번역 시도 1 실패: invalid source language\n",
      "번역 시도 2 실패: invalid source language\n",
      "번역 시도 3 실패: invalid source language\n",
      "번역 포기: 在云备份策略中，以下哪种方法能够确保数据在传输过程中的安全性？\n",
      "1. 使用明文传输数据\n",
      "2. 使用S...\n"
     ]
    },
    {
     "name": "stderr",
     "output_type": "stream",
     "text": [
      "🌐 구글 번역:  31%|███▏      | 43/137 [32:58<1:11:02, 45.34s/it]"
     ]
    },
    {
     "name": "stdout",
     "output_type": "stream",
     "text": [
      "배치 43 완료: 860/2730개 처리됨 (평균 2.3초/개, 예상 남은시간: 71.7분)\n"
     ]
    },
    {
     "name": "stderr",
     "output_type": "stream",
     "text": [
      "🌐 구글 번역:  32%|███▏      | 44/137 [33:37<1:07:20, 43.44s/it]"
     ]
    },
    {
     "name": "stdout",
     "output_type": "stream",
     "text": [
      "배치 44 완료: 880/2730개 처리됨 (평균 2.3초/개, 예상 남은시간: 70.7분)\n"
     ]
    },
    {
     "name": "stderr",
     "output_type": "stream",
     "text": [
      "🌐 구글 번역:  33%|███▎      | 45/137 [34:23<1:07:42, 44.16s/it]"
     ]
    },
    {
     "name": "stdout",
     "output_type": "stream",
     "text": [
      "배치 45 완료: 900/2730개 처리됨 (평균 2.3초/개, 예상 남은시간: 69.9분)\n",
      "번역 시도 1 실패: The read operation timed out\n"
     ]
    },
    {
     "name": "stderr",
     "output_type": "stream",
     "text": [
      "🌐 구글 번역:  34%|███▎      | 46/137 [35:13<1:09:40, 45.93s/it]"
     ]
    },
    {
     "name": "stdout",
     "output_type": "stream",
     "text": [
      "배치 46 완료: 920/2730개 처리됨 (평균 2.3초/개, 예상 남은시간: 69.3분)\n"
     ]
    },
    {
     "name": "stderr",
     "output_type": "stream",
     "text": [
      "🌐 구글 번역:  34%|███▍      | 47/137 [36:00<1:09:12, 46.14s/it]"
     ]
    },
    {
     "name": "stdout",
     "output_type": "stream",
     "text": [
      "배치 47 완료: 940/2730개 처리됨 (평균 2.3초/개, 예상 남은시간: 68.6분)\n"
     ]
    },
    {
     "name": "stderr",
     "output_type": "stream",
     "text": [
      "🌐 구글 번역:  35%|███▌      | 48/137 [36:49<1:09:44, 47.02s/it]"
     ]
    },
    {
     "name": "stdout",
     "output_type": "stream",
     "text": [
      "배치 48 완료: 960/2730개 처리됨 (평균 2.3초/개, 예상 남은시간: 67.9분)\n"
     ]
    },
    {
     "name": "stderr",
     "output_type": "stream",
     "text": [
      "🌐 구글 번역:  36%|███▌      | 49/137 [37:34<1:08:13, 46.52s/it]"
     ]
    },
    {
     "name": "stdout",
     "output_type": "stream",
     "text": [
      "배치 49 완료: 980/2730개 처리됨 (평균 2.3초/개, 예상 남은시간: 67.1분)\n"
     ]
    },
    {
     "name": "stderr",
     "output_type": "stream",
     "text": [
      "🌐 구글 번역:  36%|███▋      | 50/137 [38:22<1:07:53, 46.82s/it]"
     ]
    },
    {
     "name": "stdout",
     "output_type": "stream",
     "text": [
      "배치 50 완료: 1000/2730개 처리됨 (평균 2.3초/개, 예상 남은시간: 66.4분)\n",
      "번역 시도 1 실패: The read operation timed out\n"
     ]
    },
    {
     "name": "stderr",
     "output_type": "stream",
     "text": [
      "🌐 구글 번역:  37%|███▋      | 51/137 [39:10<1:07:42, 47.24s/it]"
     ]
    },
    {
     "name": "stdout",
     "output_type": "stream",
     "text": [
      "배치 51 완료: 1020/2730개 처리됨 (평균 2.3초/개, 예상 남은시간: 65.7분)\n"
     ]
    },
    {
     "name": "stderr",
     "output_type": "stream",
     "text": [
      "🌐 구글 번역:  38%|███▊      | 52/137 [39:56<1:06:16, 46.78s/it]"
     ]
    },
    {
     "name": "stdout",
     "output_type": "stream",
     "text": [
      "배치 52 완료: 1040/2730개 처리됨 (평균 2.3초/개, 예상 남은시간: 64.9분)\n"
     ]
    },
    {
     "name": "stderr",
     "output_type": "stream",
     "text": [
      "🌐 구글 번역:  39%|███▊      | 53/137 [40:38<1:03:44, 45.53s/it]"
     ]
    },
    {
     "name": "stdout",
     "output_type": "stream",
     "text": [
      "배치 53 완료: 1060/2730개 처리됨 (평균 2.3초/개, 예상 남은시간: 64.0분)\n"
     ]
    },
    {
     "name": "stderr",
     "output_type": "stream",
     "text": [
      "🌐 구글 번역:  39%|███▉      | 54/137 [41:23<1:02:38, 45.29s/it]"
     ]
    },
    {
     "name": "stdout",
     "output_type": "stream",
     "text": [
      "배치 54 완료: 1080/2730개 처리됨 (평균 2.3초/개, 예상 남은시간: 63.2분)\n"
     ]
    },
    {
     "name": "stderr",
     "output_type": "stream",
     "text": [
      "🌐 구글 번역:  40%|████      | 55/137 [42:06<1:00:58, 44.62s/it]"
     ]
    },
    {
     "name": "stdout",
     "output_type": "stream",
     "text": [
      "배치 55 완료: 1100/2730개 처리됨 (평균 2.3초/개, 예상 남은시간: 62.4분)\n"
     ]
    },
    {
     "name": "stderr",
     "output_type": "stream",
     "text": [
      "🌐 구글 번역:  41%|████      | 56/137 [42:45<58:02, 42.99s/it]  "
     ]
    },
    {
     "name": "stdout",
     "output_type": "stream",
     "text": [
      "배치 56 완료: 1120/2730개 처리됨 (평균 2.3초/개, 예상 남은시간: 61.5분)\n"
     ]
    },
    {
     "name": "stderr",
     "output_type": "stream",
     "text": [
      "🌐 구글 번역:  42%|████▏     | 57/137 [43:34<59:49, 44.87s/it]"
     ]
    },
    {
     "name": "stdout",
     "output_type": "stream",
     "text": [
      "배치 57 완료: 1140/2730개 처리됨 (평균 2.3초/개, 예상 남은시간: 60.8분)\n"
     ]
    },
    {
     "name": "stderr",
     "output_type": "stream",
     "text": [
      "🌐 구글 번역:  42%|████▏     | 58/137 [44:21<59:42, 45.34s/it]"
     ]
    },
    {
     "name": "stdout",
     "output_type": "stream",
     "text": [
      "배치 58 완료: 1160/2730개 처리됨 (평균 2.3초/개, 예상 남은시간: 60.0분)\n"
     ]
    },
    {
     "name": "stderr",
     "output_type": "stream",
     "text": [
      "🌐 구글 번역:  43%|████▎     | 59/137 [45:02<57:30, 44.23s/it]"
     ]
    },
    {
     "name": "stdout",
     "output_type": "stream",
     "text": [
      "배치 59 완료: 1180/2730개 처리됨 (평균 2.3초/개, 예상 남은시간: 59.2분)\n"
     ]
    },
    {
     "name": "stderr",
     "output_type": "stream",
     "text": [
      "🌐 구글 번역:  44%|████▍     | 60/137 [45:49<57:49, 45.06s/it]"
     ]
    },
    {
     "name": "stdout",
     "output_type": "stream",
     "text": [
      "배치 60 완료: 1200/2730개 처리됨 (평균 2.3초/개, 예상 남은시간: 58.4분)\n"
     ]
    },
    {
     "name": "stderr",
     "output_type": "stream",
     "text": [
      "🌐 구글 번역:  45%|████▍     | 61/137 [46:39<58:40, 46.32s/it]"
     ]
    },
    {
     "name": "stdout",
     "output_type": "stream",
     "text": [
      "배치 61 완료: 1220/2730개 처리됨 (평균 2.3초/개, 예상 남은시간: 57.7분)\n"
     ]
    },
    {
     "name": "stderr",
     "output_type": "stream",
     "text": [
      "🌐 구글 번역:  45%|████▌     | 62/137 [47:31<1:00:15, 48.21s/it]"
     ]
    },
    {
     "name": "stdout",
     "output_type": "stream",
     "text": [
      "배치 62 완료: 1240/2730개 처리됨 (평균 2.3초/개, 예상 남은시간: 57.1분)\n"
     ]
    },
    {
     "name": "stderr",
     "output_type": "stream",
     "text": [
      "🌐 구글 번역:  46%|████▌     | 63/137 [48:17<58:20, 47.31s/it]  "
     ]
    },
    {
     "name": "stdout",
     "output_type": "stream",
     "text": [
      "배치 63 완료: 1260/2730개 처리됨 (평균 2.3초/개, 예상 남은시간: 56.3분)\n"
     ]
    },
    {
     "name": "stderr",
     "output_type": "stream",
     "text": [
      "🌐 구글 번역:  47%|████▋     | 64/137 [48:59<55:47, 45.85s/it]"
     ]
    },
    {
     "name": "stdout",
     "output_type": "stream",
     "text": [
      "배치 64 완료: 1280/2730개 처리됨 (평균 2.3초/개, 예상 남은시간: 55.5분)\n"
     ]
    },
    {
     "name": "stderr",
     "output_type": "stream",
     "text": [
      "🌐 구글 번역:  47%|████▋     | 65/137 [49:43<54:21, 45.30s/it]"
     ]
    },
    {
     "name": "stdout",
     "output_type": "stream",
     "text": [
      "배치 65 완료: 1300/2730개 처리됨 (평균 2.3초/개, 예상 남은시간: 54.7분)\n"
     ]
    },
    {
     "name": "stderr",
     "output_type": "stream",
     "text": [
      "🌐 구글 번역:  48%|████▊     | 66/137 [50:30<54:10, 45.79s/it]"
     ]
    },
    {
     "name": "stdout",
     "output_type": "stream",
     "text": [
      "배치 66 완료: 1320/2730개 처리됨 (평균 2.3초/개, 예상 남은시간: 54.0분)\n"
     ]
    },
    {
     "name": "stderr",
     "output_type": "stream",
     "text": [
      "🌐 구글 번역:  49%|████▉     | 67/137 [51:16<53:26, 45.81s/it]"
     ]
    },
    {
     "name": "stdout",
     "output_type": "stream",
     "text": [
      "배치 67 완료: 1340/2730개 처리됨 (평균 2.3초/개, 예상 남은시간: 53.2분)\n"
     ]
    },
    {
     "name": "stderr",
     "output_type": "stream",
     "text": [
      "🌐 구글 번역:  50%|████▉     | 68/137 [52:01<52:21, 45.52s/it]"
     ]
    },
    {
     "name": "stdout",
     "output_type": "stream",
     "text": [
      "배치 68 완료: 1360/2730개 처리됨 (평균 2.3초/개, 예상 남은시간: 52.4분)\n"
     ]
    },
    {
     "name": "stderr",
     "output_type": "stream",
     "text": [
      "🌐 구글 번역:  50%|█████     | 69/137 [52:45<51:17, 45.26s/it]"
     ]
    },
    {
     "name": "stdout",
     "output_type": "stream",
     "text": [
      "배치 69 완료: 1380/2730개 처리됨 (평균 2.3초/개, 예상 남은시간: 51.6분)\n"
     ]
    },
    {
     "name": "stderr",
     "output_type": "stream",
     "text": [
      "🌐 구글 번역:  51%|█████     | 70/137 [53:26<49:04, 43.94s/it]"
     ]
    },
    {
     "name": "stdout",
     "output_type": "stream",
     "text": [
      "배치 70 완료: 1400/2730개 처리됨 (평균 2.3초/개, 예상 남은시간: 50.8분)\n"
     ]
    },
    {
     "name": "stderr",
     "output_type": "stream",
     "text": [
      "🌐 구글 번역:  52%|█████▏    | 71/137 [54:13<49:12, 44.73s/it]"
     ]
    },
    {
     "name": "stdout",
     "output_type": "stream",
     "text": [
      "배치 71 완료: 1420/2730개 처리됨 (평균 2.3초/개, 예상 남은시간: 50.0분)\n"
     ]
    },
    {
     "name": "stderr",
     "output_type": "stream",
     "text": [
      "🌐 구글 번역:  53%|█████▎    | 72/137 [54:59<48:49, 45.07s/it]"
     ]
    },
    {
     "name": "stdout",
     "output_type": "stream",
     "text": [
      "배치 72 완료: 1440/2730개 처리됨 (평균 2.3초/개, 예상 남은시간: 49.3분)\n"
     ]
    },
    {
     "name": "stderr",
     "output_type": "stream",
     "text": [
      "🌐 구글 번역:  53%|█████▎    | 73/137 [55:42<47:40, 44.70s/it]"
     ]
    },
    {
     "name": "stdout",
     "output_type": "stream",
     "text": [
      "배치 73 완료: 1460/2730개 처리됨 (평균 2.3초/개, 예상 남은시간: 48.5분)\n"
     ]
    },
    {
     "name": "stderr",
     "output_type": "stream",
     "text": [
      "🌐 구글 번역:  54%|█████▍    | 74/137 [56:33<48:40, 46.36s/it]"
     ]
    },
    {
     "name": "stdout",
     "output_type": "stream",
     "text": [
      "배치 74 완료: 1480/2730개 처리됨 (평균 2.3초/개, 예상 남은시간: 47.8분)\n"
     ]
    },
    {
     "name": "stderr",
     "output_type": "stream",
     "text": [
      "🌐 구글 번역:  55%|█████▍    | 75/137 [57:20<48:11, 46.63s/it]"
     ]
    },
    {
     "name": "stdout",
     "output_type": "stream",
     "text": [
      "배치 75 완료: 1500/2730개 처리됨 (평균 2.3초/개, 예상 남은시간: 47.0분)\n"
     ]
    },
    {
     "name": "stderr",
     "output_type": "stream",
     "text": [
      "🌐 구글 번역:  55%|█████▌    | 76/137 [58:06<47:22, 46.60s/it]"
     ]
    },
    {
     "name": "stdout",
     "output_type": "stream",
     "text": [
      "배치 76 완료: 1520/2730개 처리됨 (평균 2.3초/개, 예상 남은시간: 46.3분)\n"
     ]
    },
    {
     "name": "stderr",
     "output_type": "stream",
     "text": [
      "🌐 구글 번역:  56%|█████▌    | 77/137 [58:56<47:31, 47.52s/it]"
     ]
    },
    {
     "name": "stdout",
     "output_type": "stream",
     "text": [
      "배치 77 완료: 1540/2730개 처리됨 (평균 2.3초/개, 예상 남은시간: 45.5분)\n"
     ]
    },
    {
     "name": "stderr",
     "output_type": "stream",
     "text": [
      "🌐 구글 번역:  57%|█████▋    | 78/137 [59:44<46:46, 47.57s/it]"
     ]
    },
    {
     "name": "stdout",
     "output_type": "stream",
     "text": [
      "배치 78 완료: 1560/2730개 처리됨 (평균 2.3초/개, 예상 남은시간: 44.8분)\n"
     ]
    },
    {
     "name": "stderr",
     "output_type": "stream",
     "text": [
      "🌐 구글 번역:  58%|█████▊    | 79/137 [1:00:31<45:56, 47.53s/it]"
     ]
    },
    {
     "name": "stdout",
     "output_type": "stream",
     "text": [
      "배치 79 완료: 1580/2730개 처리됨 (평균 2.3초/개, 예상 남은시간: 44.1분)\n",
      "번역 시도 1 실패: The read operation timed out\n"
     ]
    },
    {
     "name": "stderr",
     "output_type": "stream",
     "text": [
      "🌐 구글 번역:  58%|█████▊    | 80/137 [1:01:30<48:27, 51.02s/it]"
     ]
    },
    {
     "name": "stdout",
     "output_type": "stream",
     "text": [
      "배치 80 완료: 1600/2730개 처리됨 (평균 2.3초/개, 예상 남은시간: 43.4분)\n"
     ]
    },
    {
     "name": "stderr",
     "output_type": "stream",
     "text": [
      "🌐 구글 번역:  59%|█████▉    | 81/137 [1:02:20<47:06, 50.47s/it]"
     ]
    },
    {
     "name": "stdout",
     "output_type": "stream",
     "text": [
      "배치 81 완료: 1620/2730개 처리됨 (평균 2.3초/개, 예상 남은시간: 42.7분)\n"
     ]
    },
    {
     "name": "stderr",
     "output_type": "stream",
     "text": [
      "🌐 구글 번역:  60%|█████▉    | 82/137 [1:03:03<44:16, 48.30s/it]"
     ]
    },
    {
     "name": "stdout",
     "output_type": "stream",
     "text": [
      "배치 82 완료: 1640/2730개 처리됨 (평균 2.3초/개, 예상 남은시간: 41.9분)\n"
     ]
    },
    {
     "name": "stderr",
     "output_type": "stream",
     "text": [
      "🌐 구글 번역:  61%|██████    | 83/137 [1:03:48<42:42, 47.46s/it]"
     ]
    },
    {
     "name": "stdout",
     "output_type": "stream",
     "text": [
      "배치 83 완료: 1660/2730개 처리됨 (평균 2.3초/개, 예상 남은시간: 41.1분)\n"
     ]
    },
    {
     "name": "stderr",
     "output_type": "stream",
     "text": [
      "🌐 구글 번역:  61%|██████▏   | 84/137 [1:04:35<41:46, 47.29s/it]"
     ]
    },
    {
     "name": "stdout",
     "output_type": "stream",
     "text": [
      "배치 84 완료: 1680/2730개 처리됨 (평균 2.3초/개, 예상 남은시간: 40.4분)\n"
     ]
    },
    {
     "name": "stderr",
     "output_type": "stream",
     "text": [
      "🌐 구글 번역:  62%|██████▏   | 85/137 [1:05:23<41:10, 47.50s/it]"
     ]
    },
    {
     "name": "stdout",
     "output_type": "stream",
     "text": [
      "배치 85 완료: 1700/2730개 처리됨 (평균 2.3초/개, 예상 남은시간: 39.6분)\n",
      "번역 시도 1 실패: the JSON object must be str, bytes or bytearray, not NoneType\n"
     ]
    },
    {
     "name": "stderr",
     "output_type": "stream",
     "text": [
      "🌐 구글 번역:  63%|██████▎   | 86/137 [1:06:16<41:38, 48.99s/it]"
     ]
    },
    {
     "name": "stdout",
     "output_type": "stream",
     "text": [
      "배치 86 완료: 1720/2730개 처리됨 (평균 2.3초/개, 예상 남은시간: 38.9분)\n"
     ]
    },
    {
     "name": "stderr",
     "output_type": "stream",
     "text": [
      "🌐 구글 번역:  64%|██████▎   | 87/137 [1:07:05<40:48, 48.97s/it]"
     ]
    },
    {
     "name": "stdout",
     "output_type": "stream",
     "text": [
      "배치 87 완료: 1740/2730개 처리됨 (평균 2.3초/개, 예상 남은시간: 38.2분)\n"
     ]
    },
    {
     "name": "stderr",
     "output_type": "stream",
     "text": [
      "🌐 구글 번역:  64%|██████▍   | 88/137 [1:07:50<39:14, 48.05s/it]"
     ]
    },
    {
     "name": "stdout",
     "output_type": "stream",
     "text": [
      "배치 88 완료: 1760/2730개 처리됨 (평균 2.3초/개, 예상 남은시간: 37.4분)\n"
     ]
    },
    {
     "name": "stderr",
     "output_type": "stream",
     "text": [
      "🌐 구글 번역:  65%|██████▍   | 89/137 [1:08:37<38:00, 47.50s/it]"
     ]
    },
    {
     "name": "stdout",
     "output_type": "stream",
     "text": [
      "배치 89 완료: 1780/2730개 처리됨 (평균 2.3초/개, 예상 남은시간: 36.6분)\n"
     ]
    },
    {
     "name": "stderr",
     "output_type": "stream",
     "text": [
      "🌐 구글 번역:  66%|██████▌   | 90/137 [1:09:29<38:19, 48.92s/it]"
     ]
    },
    {
     "name": "stdout",
     "output_type": "stream",
     "text": [
      "배치 90 완료: 1800/2730개 처리됨 (평균 2.3초/개, 예상 남은시간: 35.9분)\n"
     ]
    },
    {
     "name": "stderr",
     "output_type": "stream",
     "text": [
      "🌐 구글 번역:  66%|██████▋   | 91/137 [1:10:22<38:22, 50.05s/it]"
     ]
    },
    {
     "name": "stdout",
     "output_type": "stream",
     "text": [
      "배치 91 완료: 1820/2730개 처리됨 (평균 2.3초/개, 예상 남은시간: 35.2분)\n"
     ]
    },
    {
     "name": "stderr",
     "output_type": "stream",
     "text": [
      "🌐 구글 번역:  67%|██████▋   | 92/137 [1:11:06<36:14, 48.32s/it]"
     ]
    },
    {
     "name": "stdout",
     "output_type": "stream",
     "text": [
      "배치 92 완료: 1840/2730개 처리됨 (평균 2.3초/개, 예상 남은시간: 34.4분)\n"
     ]
    },
    {
     "name": "stderr",
     "output_type": "stream",
     "text": [
      "🌐 구글 번역:  68%|██████▊   | 93/137 [1:11:51<34:49, 47.49s/it]"
     ]
    },
    {
     "name": "stdout",
     "output_type": "stream",
     "text": [
      "배치 93 완료: 1860/2730개 처리됨 (평균 2.3초/개, 예상 남은시간: 33.6분)\n"
     ]
    },
    {
     "name": "stderr",
     "output_type": "stream",
     "text": [
      "🌐 구글 번역:  69%|██████▊   | 94/137 [1:12:35<33:05, 46.18s/it]"
     ]
    },
    {
     "name": "stdout",
     "output_type": "stream",
     "text": [
      "배치 94 완료: 1880/2730개 처리됨 (평균 2.3초/개, 예상 남은시간: 32.8분)\n"
     ]
    },
    {
     "name": "stderr",
     "output_type": "stream",
     "text": [
      "🌐 구글 번역:  69%|██████▉   | 95/137 [1:13:13<30:47, 43.98s/it]"
     ]
    },
    {
     "name": "stdout",
     "output_type": "stream",
     "text": [
      "배치 95 완료: 1900/2730개 처리됨 (평균 2.3초/개, 예상 남은시간: 32.0분)\n"
     ]
    },
    {
     "name": "stderr",
     "output_type": "stream",
     "text": [
      "🌐 구글 번역:  70%|███████   | 96/137 [1:13:51<28:38, 41.92s/it]"
     ]
    },
    {
     "name": "stdout",
     "output_type": "stream",
     "text": [
      "배치 96 완료: 1920/2730개 처리됨 (평균 2.3초/개, 예상 남은시간: 31.2분)\n"
     ]
    },
    {
     "name": "stderr",
     "output_type": "stream",
     "text": [
      "🌐 구글 번역:  71%|███████   | 97/137 [1:14:29<27:11, 40.78s/it]"
     ]
    },
    {
     "name": "stdout",
     "output_type": "stream",
     "text": [
      "배치 97 완료: 1940/2730개 처리됨 (평균 2.3초/개, 예상 남은시간: 30.3분)\n"
     ]
    },
    {
     "name": "stderr",
     "output_type": "stream",
     "text": [
      "🌐 구글 번역:  72%|███████▏  | 98/137 [1:15:11<26:51, 41.32s/it]"
     ]
    },
    {
     "name": "stdout",
     "output_type": "stream",
     "text": [
      "배치 98 완료: 1960/2730개 처리됨 (평균 2.3초/개, 예상 남은시간: 29.5분)\n"
     ]
    },
    {
     "name": "stderr",
     "output_type": "stream",
     "text": [
      "🌐 구글 번역:  72%|███████▏  | 99/137 [1:15:50<25:45, 40.68s/it]"
     ]
    },
    {
     "name": "stdout",
     "output_type": "stream",
     "text": [
      "배치 99 완료: 1980/2730개 처리됨 (평균 2.3초/개, 예상 남은시간: 28.7분)\n"
     ]
    },
    {
     "name": "stderr",
     "output_type": "stream",
     "text": [
      "🌐 구글 번역:  73%|███████▎  | 100/137 [1:16:30<24:55, 40.41s/it]"
     ]
    },
    {
     "name": "stdout",
     "output_type": "stream",
     "text": [
      "배치 100 완료: 2000/2730개 처리됨 (평균 2.3초/개, 예상 남은시간: 27.9분)\n"
     ]
    },
    {
     "name": "stderr",
     "output_type": "stream",
     "text": [
      "🌐 구글 번역:  74%|███████▎  | 101/137 [1:17:10<24:10, 40.30s/it]"
     ]
    },
    {
     "name": "stdout",
     "output_type": "stream",
     "text": [
      "배치 101 완료: 2020/2730개 처리됨 (평균 2.3초/개, 예상 남은시간: 27.1분)\n"
     ]
    },
    {
     "name": "stderr",
     "output_type": "stream",
     "text": [
      "🌐 구글 번역:  74%|███████▍  | 102/137 [1:17:54<24:02, 41.22s/it]"
     ]
    },
    {
     "name": "stdout",
     "output_type": "stream",
     "text": [
      "배치 102 완료: 2040/2730개 처리됨 (평균 2.3초/개, 예상 남은시간: 26.3분)\n"
     ]
    },
    {
     "name": "stderr",
     "output_type": "stream",
     "text": [
      "🌐 구글 번역:  75%|███████▌  | 103/137 [1:18:31<22:38, 39.96s/it]"
     ]
    },
    {
     "name": "stdout",
     "output_type": "stream",
     "text": [
      "배치 103 완료: 2060/2730개 처리됨 (평균 2.3초/개, 예상 남은시간: 25.5분)\n"
     ]
    },
    {
     "name": "stderr",
     "output_type": "stream",
     "text": [
      "🌐 구글 번역:  76%|███████▌  | 104/137 [1:19:10<21:52, 39.78s/it]"
     ]
    },
    {
     "name": "stdout",
     "output_type": "stream",
     "text": [
      "배치 104 완료: 2080/2730개 처리됨 (평균 2.3초/개, 예상 남은시간: 24.7분)\n"
     ]
    },
    {
     "name": "stderr",
     "output_type": "stream",
     "text": [
      "🌐 구글 번역:  77%|███████▋  | 105/137 [1:19:54<21:53, 41.05s/it]"
     ]
    },
    {
     "name": "stdout",
     "output_type": "stream",
     "text": [
      "배치 105 완료: 2100/2730개 처리됨 (평균 2.3초/개, 예상 남은시간: 24.0분)\n"
     ]
    },
    {
     "name": "stderr",
     "output_type": "stream",
     "text": [
      "🌐 구글 번역:  77%|███████▋  | 106/137 [1:20:37<21:30, 41.65s/it]"
     ]
    },
    {
     "name": "stdout",
     "output_type": "stream",
     "text": [
      "배치 106 완료: 2120/2730개 처리됨 (평균 2.3초/개, 예상 남은시간: 23.2분)\n"
     ]
    },
    {
     "name": "stderr",
     "output_type": "stream",
     "text": [
      "🌐 구글 번역:  78%|███████▊  | 107/137 [1:21:16<20:29, 40.97s/it]"
     ]
    },
    {
     "name": "stdout",
     "output_type": "stream",
     "text": [
      "배치 107 완료: 2140/2730개 처리됨 (평균 2.3초/개, 예상 남은시간: 22.4분)\n"
     ]
    },
    {
     "name": "stderr",
     "output_type": "stream",
     "text": [
      "🌐 구글 번역:  79%|███████▉  | 108/137 [1:21:55<19:24, 40.17s/it]"
     ]
    },
    {
     "name": "stdout",
     "output_type": "stream",
     "text": [
      "배치 108 완료: 2160/2730개 처리됨 (평균 2.3초/개, 예상 남은시간: 21.6분)\n"
     ]
    },
    {
     "name": "stderr",
     "output_type": "stream",
     "text": [
      "🌐 구글 번역:  80%|███████▉  | 109/137 [1:22:36<18:50, 40.39s/it]"
     ]
    },
    {
     "name": "stdout",
     "output_type": "stream",
     "text": [
      "배치 109 완료: 2180/2730개 처리됨 (평균 2.3초/개, 예상 남은시간: 20.8분)\n"
     ]
    },
    {
     "name": "stderr",
     "output_type": "stream",
     "text": [
      "🌐 구글 번역:  80%|████████  | 110/137 [1:23:17<18:14, 40.55s/it]"
     ]
    },
    {
     "name": "stdout",
     "output_type": "stream",
     "text": [
      "배치 110 완료: 2200/2730개 처리됨 (평균 2.3초/개, 예상 남은시간: 20.1분)\n"
     ]
    },
    {
     "name": "stderr",
     "output_type": "stream",
     "text": [
      "🌐 구글 번역:  81%|████████  | 111/137 [1:23:56<17:23, 40.12s/it]"
     ]
    },
    {
     "name": "stdout",
     "output_type": "stream",
     "text": [
      "배치 111 완료: 2220/2730개 처리됨 (평균 2.3초/개, 예상 남은시간: 19.3분)\n"
     ]
    },
    {
     "name": "stderr",
     "output_type": "stream",
     "text": [
      "🌐 구글 번역:  82%|████████▏ | 112/137 [1:24:37<16:53, 40.55s/it]"
     ]
    },
    {
     "name": "stdout",
     "output_type": "stream",
     "text": [
      "배치 112 완료: 2240/2730개 처리됨 (평균 2.3초/개, 예상 남은시간: 18.5분)\n"
     ]
    },
    {
     "name": "stderr",
     "output_type": "stream",
     "text": [
      "🌐 구글 번역:  82%|████████▏ | 113/137 [1:25:16<16:02, 40.11s/it]"
     ]
    },
    {
     "name": "stdout",
     "output_type": "stream",
     "text": [
      "배치 113 완료: 2260/2730개 처리됨 (평균 2.3초/개, 예상 남은시간: 17.7분)\n"
     ]
    },
    {
     "name": "stderr",
     "output_type": "stream",
     "text": [
      "🌐 구글 번역:  83%|████████▎ | 114/137 [1:25:58<15:35, 40.68s/it]"
     ]
    },
    {
     "name": "stdout",
     "output_type": "stream",
     "text": [
      "배치 114 완료: 2280/2730개 처리됨 (평균 2.3초/개, 예상 남은시간: 17.0분)\n"
     ]
    },
    {
     "name": "stderr",
     "output_type": "stream",
     "text": [
      "🌐 구글 번역:  84%|████████▍ | 115/137 [1:26:42<15:13, 41.53s/it]"
     ]
    },
    {
     "name": "stdout",
     "output_type": "stream",
     "text": [
      "배치 115 완료: 2300/2730개 처리됨 (평균 2.3초/개, 예상 남은시간: 16.2분)\n"
     ]
    },
    {
     "name": "stderr",
     "output_type": "stream",
     "text": [
      "🌐 구글 번역:  85%|████████▍ | 116/137 [1:27:24<14:37, 41.78s/it]"
     ]
    },
    {
     "name": "stdout",
     "output_type": "stream",
     "text": [
      "배치 116 완료: 2320/2730개 처리됨 (평균 2.3초/개, 예상 남은시간: 15.4분)\n"
     ]
    },
    {
     "name": "stderr",
     "output_type": "stream",
     "text": [
      "🌐 구글 번역:  85%|████████▌ | 117/137 [1:28:07<14:02, 42.15s/it]"
     ]
    },
    {
     "name": "stdout",
     "output_type": "stream",
     "text": [
      "배치 117 완료: 2340/2730개 처리됨 (평균 2.3초/개, 예상 남은시간: 14.7분)\n"
     ]
    },
    {
     "name": "stderr",
     "output_type": "stream",
     "text": [
      "🌐 구글 번역:  86%|████████▌ | 118/137 [1:28:47<13:08, 41.49s/it]"
     ]
    },
    {
     "name": "stdout",
     "output_type": "stream",
     "text": [
      "배치 118 완료: 2360/2730개 처리됨 (평균 2.3초/개, 예상 남은시간: 13.9분)\n"
     ]
    },
    {
     "name": "stderr",
     "output_type": "stream",
     "text": [
      "🌐 구글 번역:  87%|████████▋ | 119/137 [1:29:30<12:34, 41.93s/it]"
     ]
    },
    {
     "name": "stdout",
     "output_type": "stream",
     "text": [
      "배치 119 완료: 2380/2730개 처리됨 (평균 2.3초/개, 예상 남은시간: 13.2분)\n"
     ]
    },
    {
     "name": "stderr",
     "output_type": "stream",
     "text": [
      "🌐 구글 번역:  88%|████████▊ | 120/137 [1:30:18<12:23, 43.76s/it]"
     ]
    },
    {
     "name": "stdout",
     "output_type": "stream",
     "text": [
      "배치 120 완료: 2400/2730개 처리됨 (평균 2.3초/개, 예상 남은시간: 12.4분)\n"
     ]
    },
    {
     "name": "stderr",
     "output_type": "stream",
     "text": [
      "🌐 구글 번역:  88%|████████▊ | 121/137 [1:31:07<12:05, 45.34s/it]"
     ]
    },
    {
     "name": "stdout",
     "output_type": "stream",
     "text": [
      "배치 121 완료: 2420/2730개 처리됨 (평균 2.3초/개, 예상 남은시간: 11.7분)\n"
     ]
    },
    {
     "name": "stderr",
     "output_type": "stream",
     "text": [
      "🌐 구글 번역:  89%|████████▉ | 122/137 [1:31:54<11:24, 45.65s/it]"
     ]
    },
    {
     "name": "stdout",
     "output_type": "stream",
     "text": [
      "배치 122 완료: 2440/2730개 처리됨 (평균 2.3초/개, 예상 남은시간: 10.9분)\n"
     ]
    },
    {
     "name": "stderr",
     "output_type": "stream",
     "text": [
      "🌐 구글 번역:  90%|████████▉ | 123/137 [1:32:47<11:10, 47.92s/it]"
     ]
    },
    {
     "name": "stdout",
     "output_type": "stream",
     "text": [
      "배치 123 완료: 2460/2730개 처리됨 (평균 2.3초/개, 예상 남은시간: 10.2분)\n"
     ]
    },
    {
     "name": "stderr",
     "output_type": "stream",
     "text": [
      "🌐 구글 번역:  91%|█████████ | 124/137 [1:33:41<10:46, 49.70s/it]"
     ]
    },
    {
     "name": "stdout",
     "output_type": "stream",
     "text": [
      "배치 124 완료: 2480/2730개 처리됨 (평균 2.3초/개, 예상 남은시간: 9.4분)\n"
     ]
    },
    {
     "name": "stderr",
     "output_type": "stream",
     "text": [
      "🌐 구글 번역:  91%|█████████ | 125/137 [1:34:29<09:50, 49.20s/it]"
     ]
    },
    {
     "name": "stdout",
     "output_type": "stream",
     "text": [
      "배치 125 완료: 2500/2730개 처리됨 (평균 2.3초/개, 예상 남은시간: 8.7분)\n"
     ]
    },
    {
     "name": "stderr",
     "output_type": "stream",
     "text": [
      "🌐 구글 번역:  92%|█████████▏| 126/137 [1:35:20<09:09, 49.96s/it]"
     ]
    },
    {
     "name": "stdout",
     "output_type": "stream",
     "text": [
      "배치 126 완료: 2520/2730개 처리됨 (평균 2.3초/개, 예상 남은시간: 7.9분)\n"
     ]
    },
    {
     "name": "stderr",
     "output_type": "stream",
     "text": [
      "🌐 구글 번역:  93%|█████████▎| 127/137 [1:36:10<08:18, 49.83s/it]"
     ]
    },
    {
     "name": "stdout",
     "output_type": "stream",
     "text": [
      "배치 127 완료: 2540/2730개 처리됨 (평균 2.3초/개, 예상 남은시간: 7.2분)\n"
     ]
    },
    {
     "name": "stderr",
     "output_type": "stream",
     "text": [
      "🌐 구글 번역:  93%|█████████▎| 128/137 [1:37:00<07:28, 49.86s/it]"
     ]
    },
    {
     "name": "stdout",
     "output_type": "stream",
     "text": [
      "배치 128 완료: 2560/2730개 처리됨 (평균 2.3초/개, 예상 남은시간: 6.4분)\n"
     ]
    },
    {
     "name": "stderr",
     "output_type": "stream",
     "text": [
      "🌐 구글 번역:  94%|█████████▍| 129/137 [1:37:50<06:38, 49.85s/it]"
     ]
    },
    {
     "name": "stdout",
     "output_type": "stream",
     "text": [
      "배치 129 완료: 2580/2730개 처리됨 (평균 2.3초/개, 예상 남은시간: 5.7분)\n"
     ]
    },
    {
     "name": "stderr",
     "output_type": "stream",
     "text": [
      "🌐 구글 번역:  95%|█████████▍| 130/137 [1:38:37<05:43, 49.12s/it]"
     ]
    },
    {
     "name": "stdout",
     "output_type": "stream",
     "text": [
      "배치 130 완료: 2600/2730개 처리됨 (평균 2.3초/개, 예상 남은시간: 4.9분)\n"
     ]
    },
    {
     "name": "stderr",
     "output_type": "stream",
     "text": [
      "🌐 구글 번역:  96%|█████████▌| 131/137 [1:39:24<04:50, 48.41s/it]"
     ]
    },
    {
     "name": "stdout",
     "output_type": "stream",
     "text": [
      "배치 131 완료: 2620/2730개 처리됨 (평균 2.3초/개, 예상 남은시간: 4.2분)\n"
     ]
    },
    {
     "name": "stderr",
     "output_type": "stream",
     "text": [
      "🌐 구글 번역:  96%|█████████▋| 132/137 [1:40:09<03:57, 47.49s/it]"
     ]
    },
    {
     "name": "stdout",
     "output_type": "stream",
     "text": [
      "배치 132 완료: 2640/2730개 처리됨 (평균 2.3초/개, 예상 남은시간: 3.4분)\n"
     ]
    },
    {
     "name": "stderr",
     "output_type": "stream",
     "text": [
      "🌐 구글 번역:  97%|█████████▋| 133/137 [1:40:55<03:08, 47.09s/it]"
     ]
    },
    {
     "name": "stdout",
     "output_type": "stream",
     "text": [
      "배치 133 완료: 2660/2730개 처리됨 (평균 2.3초/개, 예상 남은시간: 2.7분)\n"
     ]
    },
    {
     "name": "stderr",
     "output_type": "stream",
     "text": [
      "🌐 구글 번역:  98%|█████████▊| 134/137 [1:41:44<02:22, 47.54s/it]"
     ]
    },
    {
     "name": "stdout",
     "output_type": "stream",
     "text": [
      "배치 134 완료: 2680/2730개 처리됨 (평균 2.3초/개, 예상 남은시간: 1.9분)\n"
     ]
    },
    {
     "name": "stderr",
     "output_type": "stream",
     "text": [
      "🌐 구글 번역:  99%|█████████▊| 135/137 [1:42:28<01:33, 46.54s/it]"
     ]
    },
    {
     "name": "stdout",
     "output_type": "stream",
     "text": [
      "배치 135 완료: 2700/2730개 처리됨 (평균 2.3초/개, 예상 남은시간: 1.1분)\n"
     ]
    },
    {
     "name": "stderr",
     "output_type": "stream",
     "text": [
      "🌐 구글 번역:  99%|█████████▉| 136/137 [1:43:23<00:49, 49.01s/it]"
     ]
    },
    {
     "name": "stdout",
     "output_type": "stream",
     "text": [
      "배치 136 완료: 2720/2730개 처리됨 (평균 2.3초/개, 예상 남은시간: 0.4분)\n"
     ]
    },
    {
     "name": "stderr",
     "output_type": "stream",
     "text": [
      "🌐 구글 번역: 100%|██████████| 137/137 [1:43:48<00:00, 45.46s/it]\n"
     ]
    },
    {
     "name": "stdout",
     "output_type": "stream",
     "text": [
      "배치 137 완료: 2730/2730개 처리됨 (평균 2.3초/개, 예상 남은시간: 0.0분)\n",
      "🎉 번역 완료! 총 2730개 항목, 소요시간: 103.8분\n",
      "\n",
      "=== 3. SecBench QA 번역 (270개) ===\n",
      "총 270개 항목을 20개씩 배치 번역 시작...\n",
      "결과 파일: ../data/SecBench/qa.csv\n"
     ]
    },
    {
     "name": "stderr",
     "output_type": "stream",
     "text": [
      "🌐 구글 번역:   7%|▋         | 1/14 [01:32<20:08, 92.92s/it]"
     ]
    },
    {
     "name": "stdout",
     "output_type": "stream",
     "text": [
      "배치 1 완료: 20/270개 처리됨 (평균 4.6초/개, 예상 남은시간: 19.4분)\n"
     ]
    },
    {
     "name": "stderr",
     "output_type": "stream",
     "text": [
      "🌐 구글 번역:  14%|█▍        | 2/14 [03:15<19:42, 98.56s/it]"
     ]
    },
    {
     "name": "stdout",
     "output_type": "stream",
     "text": [
      "배치 2 완료: 40/270개 처리됨 (평균 4.9초/개, 예상 남은시간: 18.7분)\n"
     ]
    },
    {
     "name": "stderr",
     "output_type": "stream",
     "text": [
      "🌐 구글 번역:  21%|██▏       | 3/14 [04:57<18:22, 100.22s/it]"
     ]
    },
    {
     "name": "stdout",
     "output_type": "stream",
     "text": [
      "배치 3 완료: 60/270개 처리됨 (평균 5.0초/개, 예상 남은시간: 17.4분)\n",
      "번역 시도 1 실패: The read operation timed out\n"
     ]
    },
    {
     "name": "stderr",
     "output_type": "stream",
     "text": [
      "🌐 구글 번역:  29%|██▊       | 4/14 [06:46<17:17, 103.72s/it]"
     ]
    },
    {
     "name": "stdout",
     "output_type": "stream",
     "text": [
      "배치 4 완료: 80/270개 처리됨 (평균 5.1초/개, 예상 남은시간: 16.1분)\n"
     ]
    },
    {
     "name": "stderr",
     "output_type": "stream",
     "text": [
      "🌐 구글 번역:  36%|███▌      | 5/14 [08:33<15:43, 104.79s/it]"
     ]
    },
    {
     "name": "stdout",
     "output_type": "stream",
     "text": [
      "배치 5 완료: 100/270개 처리됨 (평균 5.1초/개, 예상 남은시간: 14.5분)\n"
     ]
    },
    {
     "name": "stderr",
     "output_type": "stream",
     "text": [
      "🌐 구글 번역:  43%|████▎     | 6/14 [10:23<14:13, 106.66s/it]"
     ]
    },
    {
     "name": "stdout",
     "output_type": "stream",
     "text": [
      "배치 6 완료: 120/270개 처리됨 (평균 5.2초/개, 예상 남은시간: 13.0분)\n"
     ]
    },
    {
     "name": "stderr",
     "output_type": "stream",
     "text": [
      "🌐 구글 번역:  50%|█████     | 7/14 [12:08<12:22, 106.02s/it]"
     ]
    },
    {
     "name": "stdout",
     "output_type": "stream",
     "text": [
      "배치 7 완료: 140/270개 처리됨 (평균 5.2초/개, 예상 남은시간: 11.3분)\n"
     ]
    },
    {
     "name": "stderr",
     "output_type": "stream",
     "text": [
      "🌐 구글 번역:  57%|█████▋    | 8/14 [13:46<10:21, 103.56s/it]"
     ]
    },
    {
     "name": "stdout",
     "output_type": "stream",
     "text": [
      "배치 8 완료: 160/270개 처리됨 (평균 5.2초/개, 예상 남은시간: 9.5분)\n"
     ]
    },
    {
     "name": "stderr",
     "output_type": "stream",
     "text": [
      "🌐 구글 번역:  64%|██████▍   | 9/14 [15:32<08:40, 104.18s/it]"
     ]
    },
    {
     "name": "stdout",
     "output_type": "stream",
     "text": [
      "배치 9 완료: 180/270개 처리됨 (평균 5.2초/개, 예상 남은시간: 7.8분)\n"
     ]
    },
    {
     "name": "stderr",
     "output_type": "stream",
     "text": [
      "🌐 구글 번역:  71%|███████▏  | 10/14 [17:06<06:44, 101.12s/it]"
     ]
    },
    {
     "name": "stdout",
     "output_type": "stream",
     "text": [
      "배치 10 완료: 200/270개 처리됨 (평균 5.1초/개, 예상 남은시간: 6.0분)\n"
     ]
    },
    {
     "name": "stderr",
     "output_type": "stream",
     "text": [
      "🌐 구글 번역:  79%|███████▊  | 11/14 [18:51<05:06, 102.25s/it]"
     ]
    },
    {
     "name": "stdout",
     "output_type": "stream",
     "text": [
      "배치 11 완료: 220/270개 처리됨 (평균 5.1초/개, 예상 남은시간: 4.3분)\n"
     ]
    },
    {
     "name": "stderr",
     "output_type": "stream",
     "text": [
      "🌐 구글 번역:  86%|████████▌ | 12/14 [20:39<03:28, 104.12s/it]"
     ]
    },
    {
     "name": "stdout",
     "output_type": "stream",
     "text": [
      "배치 12 완료: 240/270개 처리됨 (평균 5.2초/개, 예상 남은시간: 2.6분)\n"
     ]
    },
    {
     "name": "stderr",
     "output_type": "stream",
     "text": [
      "🌐 구글 번역:  93%|█████████▎| 13/14 [22:16<01:41, 101.80s/it]"
     ]
    },
    {
     "name": "stdout",
     "output_type": "stream",
     "text": [
      "배치 13 완료: 260/270개 처리됨 (평균 5.1초/개, 예상 남은시간: 0.9분)\n"
     ]
    },
    {
     "name": "stderr",
     "output_type": "stream",
     "text": [
      "🌐 구글 번역: 100%|██████████| 14/14 [23:08<00:00, 99.15s/it] "
     ]
    },
    {
     "name": "stdout",
     "output_type": "stream",
     "text": [
      "배치 14 완료: 270/270개 처리됨 (평균 5.1초/개, 예상 남은시간: 0.0분)\n",
      "🎉 번역 완료! 총 270개 항목, 소요시간: 23.1분\n",
      "\n",
      "🎉 모든 번역 작업 완료!\n",
      "\n",
      "📁 생성된 파일:\n",
      "- CyberMetric MCQA: ../data/CyberMetric/mcqa.csv\n",
      "- SecBench MCQA: ../data/SecBench/mcqa.csv\n",
      "- SecBench QA: ../data/SecBench/qa.csv\n",
      "\n",
      "⏱️ 예상 총 소요시간: 22.0분\n",
      "💡 구글 번역 API 무료 할당량: 월 50만 문자\n"
     ]
    },
    {
     "name": "stderr",
     "output_type": "stream",
     "text": [
      "\n"
     ]
    }
   ],
   "source": [
    "# 전체 데이터 번역 실행 - 최대 속도 설정\n",
    "\n",
    "print(\"🚀 전체 데이터 구글 번역 시작!\")\n",
    "print(\"✅ 최적화 설정:\")\n",
    "print(\"   - 배치 크기: 20개 (속도 향상)\")\n",
    "print(\"   - API 지연: 0.05초 (최소 지연)\")\n",
    "print(\"   - 테스트 제한: 없음 (전체 데이터)\")\n",
    "print(\"   - 재시도: 3회 (안정성 확보)\")\n",
    "\n",
    "# 1. CyberMetric MCQA 번역 (영어 → 한국어)\n",
    "print(f\"\\n=== 1. CyberMetric MCQA 번역 ({len(cyber_mcqa)}개) ===\")\n",
    "cybermetric_output = \"../data/CyberMetric/mcqa.csv\"\n",
    "translate_dataset_google(\n",
    "    df=cyber_mcqa,\n",
    "    output_file=cybermetric_output,\n",
    "    batch_size=20,      # 속도 향상\n",
    "    test_limit=None,    # 전체 데이터\n",
    "    delay=0.05          # 최소 지연\n",
    ")\n",
    "\n",
    "# 2. SecBench MCQA 번역 (중국어/영어 → 한국어)\n",
    "print(f\"\\n=== 2. SecBench MCQA 번역 ({len(sec_mcqa)}개) ===\")\n",
    "secbench_mcqa_output = \"../data/SecBench/mcqa.csv\"\n",
    "translate_dataset_google(\n",
    "    df=sec_mcqa,\n",
    "    output_file=secbench_mcqa_output,\n",
    "    batch_size=20,      # 속도 향상\n",
    "    test_limit=None,    # 전체 데이터\n",
    "    delay=0.05          # 최소 지연\n",
    ")\n",
    "\n",
    "# 3. SecBench QA 번역 (중국어/영어 → 한국어)\n",
    "print(f\"\\n=== 3. SecBench QA 번역 ({len(sec_qa)}개) ===\")\n",
    "secbench_qa_output = \"../data/SecBench/qa.csv\"\n",
    "translate_dataset_google(\n",
    "    df=sec_qa,\n",
    "    output_file=secbench_qa_output,\n",
    "    batch_size=20,      # 속도 향상\n",
    "    test_limit=None,    # 전체 데이터\n",
    "    delay=0.05          # 최소 지연\n",
    ")\n",
    "\n",
    "print(\"\\n🎉 모든 번역 작업 완료!\")\n",
    "print(\"\\n📁 생성된 파일:\")\n",
    "print(f\"- CyberMetric MCQA: {cybermetric_output}\")\n",
    "print(f\"- SecBench MCQA: {secbench_mcqa_output}\")\n",
    "print(f\"- SecBench QA: {secbench_qa_output}\")\n",
    "\n",
    "# 예상 시간 계산\n",
    "total_items = len(cyber_mcqa) + len(sec_mcqa) + len(sec_qa)\n",
    "estimated_minutes = total_items * 0.1 / 60  # 0.1초/개 기준\n",
    "print(f\"\\n⏱️ 예상 총 소요시간: {estimated_minutes:.1f}분\")\n",
    "print(\"💡 구글 번역 API 무료 할당량: 월 50만 문자\")\n"
   ]
  },
  {
   "cell_type": "code",
   "execution_count": 7,
   "id": "1c029685",
   "metadata": {},
   "outputs": [
    {
     "name": "stdout",
     "output_type": "stream",
     "text": [
      "=== 번역 결과 확인 ===\n",
      "\n",
      "✅ CyberMetric MCQA\n",
      "   파일: ../data/CyberMetric/mcqa.csv\n",
      "   행 수: 10180개\n",
      "   컬럼: ['Question', 'Answer']\n",
      "   번역 샘플:\n",
      "   Q: 다음 중 정보의 비밀을 나타내는 것은 무엇입니까?\\n1. 가용성\\n2. 인증\\n3. 성실성\\n4. 기밀성...\n",
      "   A: 답변: 4...\n",
      "\n",
      "✅ SecBench MCQA\n",
      "   파일: ../data/SecBench/mcqa.csv\n",
      "   행 수: 2730개\n",
      "   컬럼: ['Question', 'Answer']\n",
      "   번역 샘플:\n",
      "   Q: 다음 중 데이터 보호 규정을 준수하기 위해 기업이 일반적으로 구현하는 조치는 무엇입니까?\\n1. 정기적 인 네트워크 침투 테스트\\n2. 데이터 ...\n",
      "   A: 답변: 2...\n",
      "\n",
      "✅ SecBench QA\n",
      "   파일: ../data/SecBench/qa.csv\n",
      "   행 수: 270개\n",
      "   컬럼: ['Question', 'Answer']\n",
      "   번역 샘플:\n",
      "   Q: 현대 운영 체제의 IP ID가 일반적으로 무작위로 생성되는 이유는 무엇입니까?...\n",
      "   A: 보안을 개선하고 특정 유형의 사이버 공격을 방지합니다....\n",
      "\n",
      "📊 번역 품질 확인을 위해 원본과 비교해보세요!\n"
     ]
    }
   ],
   "source": [
    "# 번역 결과 확인\n",
    "\n",
    "def check_translation_results():\n",
    "    \"\"\"번역 결과 파일들을 확인합니다.\"\"\"\n",
    "    \n",
    "    files_to_check = [\n",
    "        (\"../data/CyberMetric/mcqa.csv\", \"CyberMetric MCQA\"),\n",
    "        (\"../data/SecBench/mcqa.csv\", \"SecBench MCQA\"),\n",
    "        (\"../data/SecBench/qa.csv\", \"SecBench QA\")\n",
    "    ]\n",
    "    \n",
    "    print(\"=== 번역 결과 확인 ===\")\n",
    "    \n",
    "    for file_path, name in files_to_check:\n",
    "        if os.path.exists(file_path):\n",
    "            try:\n",
    "                df = pd.read_csv(file_path)\n",
    "                print(f\"\\n✅ {name}\")\n",
    "                print(f\"   파일: {file_path}\")\n",
    "                print(f\"   행 수: {len(df)}개\")\n",
    "                print(f\"   컬럼: {list(df.columns)}\")\n",
    "                \n",
    "                # 첫 번째 번역 결과 샘플 표시\n",
    "                if len(df) > 0:\n",
    "                    print(f\"   번역 샘플:\")\n",
    "                    print(f\"   Q: {df.iloc[0]['Question'][:80]}...\")\n",
    "                    print(f\"   A: {df.iloc[0]['Answer'][:80]}...\")\n",
    "                    \n",
    "            except Exception as e:\n",
    "                print(f\"❌ {name}: 파일 읽기 오류 - {e}\")\n",
    "        else:\n",
    "            print(f\"❌ {name}: 파일 없음 - {file_path}\")\n",
    "    \n",
    "    print(\"\\n📊 번역 품질 확인을 위해 원본과 비교해보세요!\")\n",
    "\n",
    "# 결과 확인 실행\n",
    "check_translation_results()\n"
   ]
  },
  {
   "cell_type": "code",
   "execution_count": 4,
   "id": "89f0c4e4",
   "metadata": {},
   "outputs": [
    {
     "name": "stdout",
     "output_type": "stream",
     "text": [
      "=== MCQA 답변 형태 개선 시작 (수정된 버전) ===\n",
      "🗑️ 기존 파일 삭제: ../data/CyberMetric/mcqa_enhanced.csv\n",
      "🗑️ 기존 파일 삭제: ../data/SecBench/mcqa_enhanced.csv\n",
      "🗑️ 기존 파일 삭제: ../data/FinShibainu/mcqa_enhanced.csv\n",
      "\n",
      "🧪 함수 테스트:\n",
      "📋 FinShibainu 형태:\n",
      "추출된 선택지: {'1': '기존 대출의 만기 연장', '2': '높은 이자율의 혜택', '3': '조건에 따른 자동 관리', '4': '기본계좌와 연동'}\n",
      "개선된 답변: 답변: 1, 기존 대출의 만기 연장\n",
      "\n",
      "📋 CyberMetric/SecBench 형태:\n",
      "추출된 선택지: {'1': '가용성', '2': '인증', '3': '성실성', '4': '기밀성'}\n",
      "개선된 답변: 답변: 4, 기밀성\n",
      "\n",
      "📝 ../data/CyberMetric/mcqa.csv 처리 중...\n",
      "   총 10180개 항목 발견\n"
     ]
    },
    {
     "name": "stderr",
     "output_type": "stream",
     "text": [
      "답변 개선: 100%|██████████| 10180/10180 [00:00<00:00, 20202.50it/s]\n"
     ]
    },
    {
     "name": "stdout",
     "output_type": "stream",
     "text": [
      "✅ 처리 완료: ../data/CyberMetric/mcqa_enhanced.csv\n",
      "   10180개 항목이 저장됨\n",
      "\n",
      "📋 변경 예시:\n",
      "   원본: 답변: 4\n",
      "   개선: 답변: 4, 기밀성\n",
      "\n",
      "   원본: 답변: 3\n",
      "   개선: 답변: 3, 다중 인증 인증\n",
      "\n",
      "   원본: 답변: 1\n",
      "   개선: 답변: 1, 평가 목표\n",
      "\n",
      "📝 ../data/SecBench/mcqa.csv 처리 중...\n",
      "   총 2730개 항목 발견\n"
     ]
    },
    {
     "name": "stderr",
     "output_type": "stream",
     "text": [
      "답변 개선: 100%|██████████| 2730/2730 [00:00<00:00, 23942.99it/s]"
     ]
    },
    {
     "name": "stdout",
     "output_type": "stream",
     "text": [
      "✅ 처리 완료: ../data/SecBench/mcqa_enhanced.csv\n",
      "   2730개 항목이 저장됨\n",
      "\n",
      "📋 변경 예시:\n",
      "   원본: 답변: 2\n",
      "   개선: 답변: 2, 데이터 최소화 원칙을 설정하고 필요한 개인 데이터 만 수집합니다.\n",
      "\n",
      "   원본: 답변: 1\n",
      "   개선: 답변: 1, 언제든지 개인 데이터에 액세스, 수정 또는 삭제 요청\n",
      "\n",
      "   원본: 답변: 3\n",
      "   개선: 답변: 3, 데이터 보안 보호의 원칙\n",
      "\n",
      "📝 ../data/FinShibainu/mcqa.csv 처리 중...\n"
     ]
    },
    {
     "name": "stderr",
     "output_type": "stream",
     "text": [
      "\n"
     ]
    },
    {
     "name": "stdout",
     "output_type": "stream",
     "text": [
      "   총 42463개 항목 발견\n"
     ]
    },
    {
     "name": "stderr",
     "output_type": "stream",
     "text": [
      "답변 개선:   0%|          | 0/42463 [00:00<?, ?it/s]"
     ]
    },
    {
     "name": "stderr",
     "output_type": "stream",
     "text": [
      "답변 개선: 100%|██████████| 42463/42463 [00:02<00:00, 19981.69it/s]\n"
     ]
    },
    {
     "name": "stdout",
     "output_type": "stream",
     "text": [
      "✅ 처리 완료: ../data/FinShibainu/mcqa_enhanced.csv\n",
      "   42463개 항목이 저장됨\n",
      "\n",
      "📋 변경 예시:\n",
      "   원본: 답변: 1\n",
      "   개선: 답변: 1, 기존 대출의 만기 연장\n",
      "\n",
      "   원본: 답변: 4\n",
      "   개선: 답변: 4, ELW의 손실은 최초투자금액으로 제한되기 때문에\n",
      "\n",
      "   원본: 답변: 3\n",
      "   개선: 답변: 3, 라틴어\n",
      "\n",
      "\n",
      "🎉 모든 MCQA 파일 처리 완료!\n",
      "\n",
      "📁 생성된 개선된 파일들:\n",
      "✅ ../data/CyberMetric/mcqa_enhanced.csv\n",
      "✅ ../data/SecBench/mcqa_enhanced.csv\n",
      "✅ ../data/FinShibainu/mcqa_enhanced.csv\n",
      "\n",
      "💡 QLora 학습 시 mcqa_enhanced.csv 파일들을 사용하세요!\n"
     ]
    }
   ],
   "source": [
    "# MCQA 답변 형태 개선 - \"답변: 번호, 선지\" 형태로 변경\n",
    "# QLoRA 학습 개선\n",
    "\n",
    "import re\n",
    "import pandas as pd\n",
    "from tqdm import tqdm\n",
    "import os\n",
    "\n",
    "def extract_choices_from_question(question_text):\n",
    "    \"\"\"질문에서 선택지들을 추출합니다.\"\"\"\n",
    "    choices = {}\n",
    "    \n",
    "    # \\n 문자를 실제 개행으로 변환 (CyberMetric, SecBench 대응)\n",
    "    question_text = question_text.replace('\\\\n', '\\n')\n",
    "    \n",
    "    # 질문 텍스트를 줄 단위로 분할\n",
    "    lines = question_text.split('\\n')\n",
    "    \n",
    "    for line in lines:\n",
    "        line = line.strip()\n",
    "        # \"번호. 내용\" 패턴 매칭\n",
    "        match = re.match(r'^(\\d+)\\.\\s*(.+)', line)\n",
    "        if match:\n",
    "            number = match.group(1)\n",
    "            content = match.group(2).strip()\n",
    "            choices[number] = content\n",
    "    \n",
    "    return choices\n",
    "\n",
    "def enhance_mcqa_answer(question, answer):\n",
    "    \"\"\"MCQA 답변을 '답변: 번호, 선지' 형태로 개선합니다.\"\"\"\n",
    "    \n",
    "    # 기존 답변에서 번호 추출 (예: \"답변: 1\" -> \"1\")\n",
    "    answer_match = re.search(r'답변:\\s*(\\d+)', answer)\n",
    "    if not answer_match:\n",
    "        return answer  # 답변 번호를 찾을 수 없으면 원본 반환\n",
    "    \n",
    "    answer_number = answer_match.group(1)\n",
    "    \n",
    "    # 질문에서 선택지들 추출\n",
    "    choices = extract_choices_from_question(question)\n",
    "    \n",
    "    # 해당 번호의 선택지 찾기\n",
    "    if answer_number in choices:\n",
    "        choice_text = choices[answer_number]\n",
    "        enhanced_answer = f\"답변: {answer_number}, {choice_text}\"\n",
    "        return enhanced_answer\n",
    "    else:\n",
    "        return answer  # 해당 번호의 선택지를 찾을 수 없으면 원본 반환\n",
    "\n",
    "def process_mcqa_file(input_file, output_file):\n",
    "    \"\"\"MCQA 파일을 처리하여 답변을 개선합니다.\"\"\"\n",
    "    \n",
    "    print(f\"📝 {input_file} 처리 중...\")\n",
    "    \n",
    "    # 데이터 읽기\n",
    "    df = pd.read_csv(input_file)\n",
    "    \n",
    "    print(f\"   총 {len(df)}개 항목 발견\")\n",
    "    \n",
    "    # 답변 개선\n",
    "    enhanced_rows = []\n",
    "    \n",
    "    for idx, row in tqdm(df.iterrows(), total=len(df), desc=\"답변 개선\"):\n",
    "        question = str(row['Question'])\n",
    "        answer = str(row['Answer'])\n",
    "        \n",
    "        # 답변 개선\n",
    "        enhanced_answer = enhance_mcqa_answer(question, answer)\n",
    "        \n",
    "        enhanced_rows.append({\n",
    "            'Question': question,\n",
    "            'Answer': enhanced_answer\n",
    "        })\n",
    "    \n",
    "    # 결과를 새 파일로 저장\n",
    "    result_df = pd.DataFrame(enhanced_rows)\n",
    "    result_df.to_csv(output_file, index=False, encoding='utf-8')\n",
    "    \n",
    "    print(f\"✅ 처리 완료: {output_file}\")\n",
    "    print(f\"   {len(result_df)}개 항목이 저장됨\")\n",
    "    \n",
    "    # 몇 가지 예시 출력\n",
    "    print(\"\\n📋 변경 예시:\")\n",
    "    for i in range(min(3, len(result_df))):\n",
    "        original_answer = df.iloc[i]['Answer']\n",
    "        enhanced_answer = result_df.iloc[i]['Answer']\n",
    "        if original_answer != enhanced_answer:\n",
    "            print(f\"   원본: {original_answer}\")\n",
    "            print(f\"   개선: {enhanced_answer}\")\n",
    "            print()\n",
    "\n",
    "print(\"=== MCQA 답변 형태 개선 시작 (수정된 버전) ===\")\n",
    "\n",
    "# 처리할 MCQA 파일들\n",
    "mcqa_files = [\n",
    "    (\"../data/CyberMetric/mcqa.csv\", \"../data/CyberMetric/mcqa_enhanced.csv\"),\n",
    "    (\"../data/SecBench/mcqa.csv\", \"../data/SecBench/mcqa_enhanced.csv\"),\n",
    "    (\"../data/FinShibainu/mcqa.csv\", \"../data/FinShibainu/mcqa_enhanced.csv\")\n",
    "]\n",
    "\n",
    "# 기존 enhanced 파일들 삭제 (다시 생성하기 위해)\n",
    "for input_file, output_file in mcqa_files:\n",
    "    if os.path.exists(output_file):\n",
    "        os.remove(output_file)\n",
    "        print(f\"🗑️ 기존 파일 삭제: {output_file}\")\n",
    "\n",
    "# 함수 테스트\n",
    "print(\"\\n🧪 함수 테스트:\")\n",
    "\n",
    "# FinShibainu 형태 테스트\n",
    "test_question1 = \"\"\"다음 중 고객에게 AMA를 선택할 만한 이유로 적절치 않은 것은?\n",
    "1. 기존 대출의 만기 연장\n",
    "2. 높은 이자율의 혜택\n",
    "3. 조건에 따른 자동 관리\n",
    "4. 기본계좌와 연동\"\"\"\n",
    "\n",
    "# CyberMetric/SecBench 형태 테스트\n",
    "test_question2 = \"다음 중 정보의 비밀을 나타내는 것은 무엇입니까?\\\\n1. 가용성\\\\n2. 인증\\\\n3. 성실성\\\\n4. 기밀성\"\n",
    "\n",
    "test_answer1 = \"답변: 1\"\n",
    "test_answer2 = \"답변: 4\"\n",
    "\n",
    "print(\"📋 FinShibainu 형태:\")\n",
    "choices1 = extract_choices_from_question(test_question1)\n",
    "print(f\"추출된 선택지: {choices1}\")\n",
    "enhanced1 = enhance_mcqa_answer(test_question1, test_answer1)\n",
    "print(f\"개선된 답변: {enhanced1}\")\n",
    "\n",
    "print(\"\\n📋 CyberMetric/SecBench 형태:\")\n",
    "choices2 = extract_choices_from_question(test_question2)\n",
    "print(f\"추출된 선택지: {choices2}\")\n",
    "enhanced2 = enhance_mcqa_answer(test_question2, test_answer2)\n",
    "print(f\"개선된 답변: {enhanced2}\")\n",
    "print()\n",
    "\n",
    "# 각 파일 처리\n",
    "for input_file, output_file in mcqa_files:\n",
    "    if os.path.exists(input_file):\n",
    "        try:\n",
    "            process_mcqa_file(input_file, output_file)\n",
    "        except Exception as e:\n",
    "            print(f\"❌ {input_file} 처리 중 오류: {e}\")\n",
    "    else:\n",
    "        print(f\"⚠️ 파일 없음: {input_file}\")\n",
    "\n",
    "print(\"\\n🎉 모든 MCQA 파일 처리 완료!\")\n",
    "print(\"\\n📁 생성된 개선된 파일들:\")\n",
    "for input_file, output_file in mcqa_files:\n",
    "    if os.path.exists(output_file):\n",
    "        print(f\"✅ {output_file}\")\n",
    "    else:\n",
    "        print(f\"❌ {output_file} (생성 실패)\")\n",
    "\n",
    "print(\"\\n💡 QLora 학습 시 mcqa_enhanced.csv 파일들을 사용하세요!\")"
   ]
  },
  {
   "cell_type": "code",
   "execution_count": null,
   "id": "568ecf38",
   "metadata": {},
   "outputs": [],
   "source": []
  }
 ],
 "metadata": {
  "kernelspec": {
   "display_name": "Python 3",
   "language": "python",
   "name": "python3"
  },
  "language_info": {
   "codemirror_mode": {
    "name": "ipython",
    "version": 3
   },
   "file_extension": ".py",
   "mimetype": "text/x-python",
   "name": "python",
   "nbconvert_exporter": "python",
   "pygments_lexer": "ipython3",
   "version": "3.11.13"
  }
 },
 "nbformat": 4,
 "nbformat_minor": 5
}
